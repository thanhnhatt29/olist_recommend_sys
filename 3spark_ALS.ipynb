{
 "cells": [
  {
   "cell_type": "markdown",
   "metadata": {},
   "source": [
    "# Spark Recommender System"
   ]
  },
  {
   "cell_type": "code",
   "execution_count": 7,
   "metadata": {},
   "outputs": [],
   "source": [
    "# import necessary modules\n",
    "import os\n",
    "import shutil\n",
    "import pyspark as ps\n",
    "from pyspark.ml import Pipeline, Transformer\n",
    "from pyspark.ml.evaluation import RegressionEvaluator\n",
    "from pyspark.ml.recommendation import ALS, ALSModel\n",
    "from pyspark.sql import Row\n",
    "from pyspark.sql.types import DoubleType"
   ]
  },
  {
   "cell_type": "code",
   "execution_count": 8,
   "metadata": {},
   "outputs": [
    {
     "name": "stdout",
     "output_type": "stream",
     "text": [
      "3.5.0\n"
     ]
    }
   ],
   "source": [
    "# create spark context\n",
    "spark = (ps.sql.SparkSession.builder\n",
    "        .appName(\"ALS model\")\n",
    "        .getOrCreate()\n",
    "        )\n",
    "sc = spark.sparkContext\n",
    "print(spark.version)"
   ]
  },
  {
   "cell_type": "markdown",
   "metadata": {},
   "source": [
    "## Read in Data\n",
    "\n",
    "We will use user clusters as part of user features for our model here. "
   ]
  },
  {
   "cell_type": "code",
   "execution_count": 9,
   "metadata": {},
   "outputs": [],
   "source": [
    "# source data from prior step\n",
    "data_dir = os.path.join(\"clean_data\", \"\")\n",
    "file = os.path.join(data_dir, \"spark_master.csv\")\n",
    "\n",
    "# options are specified to read in data without error\n",
    "df_master = spark.read.format(\"csv\")\\\n",
    "               .option(\"multiline\", \"true\")\\\n",
    "               .option(\"header\", \"true\")\\\n",
    "               .option(\"inferSchema\", \"true\")\\\n",
    "               .load(file)"
   ]
  },
  {
   "cell_type": "markdown",
   "metadata": {},
   "source": [
    "## Create use and item feature matrices"
   ]
  },
  {
   "cell_type": "code",
   "execution_count": 10,
   "metadata": {},
   "outputs": [],
   "source": [
    "user_features = df_master.select(df_master['customer_unique_id'], \n",
    "                               df_master['product_id'], \n",
    "                               df_master['review_score'])"
   ]
  },
  {
   "cell_type": "code",
   "execution_count": 11,
   "metadata": {},
   "outputs": [
    {
     "data": {
      "text/plain": [
       "108455"
      ]
     },
     "execution_count": 11,
     "metadata": {},
     "output_type": "execute_result"
    }
   ],
   "source": [
    "user_features = user_features.sort(\"customer_unique_id\")\n",
    "user_features.count()"
   ]
  },
  {
   "cell_type": "code",
   "execution_count": 12,
   "metadata": {},
   "outputs": [
    {
     "data": {
      "text/plain": [
       "97686"
      ]
     },
     "execution_count": 12,
     "metadata": {},
     "output_type": "execute_result"
    }
   ],
   "source": [
    "from pyspark.sql.functions import mean\n",
    "\n",
    "user_features = user_features.groupBy(\"customer_unique_id\",\"product_id\") \\\n",
    "    .agg(mean('review_score').alias('review_score'))\n",
    "    # .mean(\"review_score\").alias(\"review_score\")\n",
    "\n",
    "user_features.count()"
   ]
  },
  {
   "cell_type": "code",
   "execution_count": 13,
   "metadata": {},
   "outputs": [
    {
     "name": "stdout",
     "output_type": "stream",
     "text": [
      "+--------------------+--------------------+------------+\n",
      "|  customer_unique_id|          product_id|review_score|\n",
      "+--------------------+--------------------+------------+\n",
      "|f507945d757fe904e...|f3b8bfa5b86249e75...|         1.0|\n",
      "|e59d98970fee89f12...|abc3432ff825d8e52...|         5.0|\n",
      "|f7089cec59a3515cb...|9615c720e219d641f...|         4.0|\n",
      "|5097528b417fe105b...|2d65aa8c163f7a8dc...|         5.0|\n",
      "|c3ec2ad05ad7887e8...|bddc1407637849d18...|         4.0|\n",
      "|56018f90d63660400...|71da6d6632902431c...|         5.0|\n",
      "|5745d934dfb11a294...|b184461ba53ea15b7...|         5.0|\n",
      "|ba4ed9f6b174012ec...|50e9e70a21b874311...|         5.0|\n",
      "|057f54779f0908b7b...|98a5e061c4731a1d4...|         2.0|\n",
      "|886d5f561ce675d06...|9b968712a8768d8e2...|         4.0|\n",
      "|99be275a1517effe1...|bc4a074ab7a7ff14e...|         5.0|\n",
      "|b067d457d34c2533b...|2ed4ea5a5394cfcb0...|         2.0|\n",
      "|97107c892093c359b...|bb9a7bcdb8c9facc7...|         1.0|\n",
      "|4d7ad8005bec85fd6...|8a2c3b7ed6d098de8...|         5.0|\n",
      "|1b277f8bf9377e4d8...|d315b738a6e96f4d9...|         1.0|\n",
      "|4965d8d652518d91e...|6fa96cbd1d917acb1...|         5.0|\n",
      "|fcf2ba2ef07129a98...|306e6b5dda3397e4a...|         4.0|\n",
      "|914dfdee6667429de...|617186c3d97ea56c9...|         1.0|\n",
      "|560046dc7dd7b822b...|809e226beeb0526cf...|         5.0|\n",
      "|0bf1278577a2acf85...|389d119b48cf3043d...|         4.0|\n",
      "+--------------------+--------------------+------------+\n",
      "only showing top 20 rows\n",
      "\n"
     ]
    }
   ],
   "source": [
    "user_features.show()"
   ]
  },
  {
   "cell_type": "code",
   "execution_count": 14,
   "metadata": {},
   "outputs": [],
   "source": [
    "item_features = df_master.select(df_master['product_id'], \n",
    "                               df_master['product_category_name'])\n",
    "item_features = item_features.dropna()"
   ]
  },
  {
   "cell_type": "markdown",
   "metadata": {},
   "source": [
    "## Index user and product ids"
   ]
  },
  {
   "cell_type": "code",
   "execution_count": 15,
   "metadata": {},
   "outputs": [
    {
     "name": "stdout",
     "output_type": "stream",
     "text": [
      "+--------------------+-------------+\n",
      "|          product_id|product_index|\n",
      "+--------------------+-------------+\n",
      "|e5f2d52b802189ee6...|      29774.0|\n",
      "|8d4f2bb7e93e6710a...|       7523.0|\n",
      "|4fa33915031a8cde0...|        653.0|\n",
      "|08279c494018541f7...|      14836.0|\n",
      "|9545d45c37449ccbc...|        161.0|\n",
      "|19421075ae0b585f2...|        128.0|\n",
      "|e819fddd6622f30e8...|       8461.0|\n",
      "|7583d9a579408cb84...|       3335.0|\n",
      "|d64e758afad411049...|      28752.0|\n",
      "|eaa26a34984cbfedc...|       1839.0|\n",
      "+--------------------+-------------+\n",
      "only showing top 10 rows\n",
      "\n"
     ]
    }
   ],
   "source": [
    "from pyspark.ml.feature import StringIndexer\n",
    "\n",
    "SI_product = StringIndexer(inputCol='product_id',outputCol='product_index')\n",
    "\n",
    "item_features = SI_product.fit(item_features).transform(item_features)\n",
    "\n",
    "item_features.select('product_id', 'product_index').show(10)"
   ]
  },
  {
   "cell_type": "code",
   "execution_count": 16,
   "metadata": {
    "scrolled": false
   },
   "outputs": [
    {
     "name": "stdout",
     "output_type": "stream",
     "text": [
      "+--------------------+--------------+--------------------+-------------+\n",
      "|  customer_unique_id|customer_index|          product_id|product_index|\n",
      "+--------------------+--------------+--------------------+-------------+\n",
      "|0000366f3b9a7992b...|        5166.0|372645c7439f9661f...|        451.0|\n",
      "|0000b849f77a49e4a...|        5167.0|5099f7000472b634f...|       2313.0|\n",
      "|0000f46a3911fa3c0...|        5168.0|64b488de448a5324c...|       3486.0|\n",
      "|0000f6ccb0745a6a4...|        5169.0|2345a354a6f203360...|       5592.0|\n",
      "|0004aac84e0df4da2...|        5170.0|c72e18b3fe2739b8d...|      27381.0|\n",
      "|0004bd2a26a76fe21...|        5171.0|25cf184645f3fae66...|       5607.0|\n",
      "|00050ab1314c0e55a...|        5172.0|8cefe1c6f2304e7e6...|       2900.0|\n",
      "|00053a61a98854899...|         726.0|62984ea1bba7fcea1...|       4526.0|\n",
      "|00053a61a98854899...|         726.0|58727e154e8e85d84...|       1134.0|\n",
      "|0005e1862207bf6cc...|        5173.0|e24f73b7631ee3fbb...|        887.0|\n",
      "+--------------------+--------------+--------------------+-------------+\n",
      "only showing top 10 rows\n",
      "\n"
     ]
    }
   ],
   "source": [
    "\n",
    "# create object of StringIndexer class and specify input and output column\n",
    "SI_customer = StringIndexer(inputCol='customer_unique_id',outputCol='customer_index')\n",
    "SI_product = StringIndexer(inputCol='product_id',outputCol='product_index')\n",
    "\n",
    "# transform the data\n",
    "user_features = SI_customer.fit(user_features).transform(user_features)\n",
    "user_features = SI_product.fit(user_features).transform(user_features)\n",
    "\n",
    "# view the transformed data\n",
    "user_features.select('customer_unique_id', 'customer_index', 'product_id', 'product_index').show(10)"
   ]
  },
  {
   "cell_type": "code",
   "execution_count": 17,
   "metadata": {},
   "outputs": [],
   "source": [
    "from pyspark.sql.types import IntegerType\n",
    "# convert columns to integer types\n",
    "user_features = user_features.withColumn(\"review_score\",\n",
    "                                        user_features[\"review_score\"].cast(IntegerType()))"
   ]
  },
  {
   "cell_type": "code",
   "execution_count": 18,
   "metadata": {},
   "outputs": [
    {
     "name": "stdout",
     "output_type": "stream",
     "text": [
      "+------------------+----------+------------+--------------+-------------+\n",
      "|customer_unique_id|product_id|review_score|customer_index|product_index|\n",
      "+------------------+----------+------------+--------------+-------------+\n",
      "+------------------+----------+------------+--------------+-------------+\n",
      "\n"
     ]
    }
   ],
   "source": [
    "user_features.where((user_features.review_score > 5) | (user_features.review_score < 1)).show()"
   ]
  },
  {
   "cell_type": "code",
   "execution_count": 22,
   "metadata": {},
   "outputs": [],
   "source": [
    "owd = \"D:/UTECollege/program/HK7/bdml/project/olist_recommend_sys\"\n",
    "\n",
    "def write_df_as_csv_file(df, path,csvsavename, mode=\"overwrite\", header=True, inferschema = True ):\n",
    "    import shutil\n",
    "\n",
    "    df = df.coalesce(1)  # join partitions to produce 1 csv file\n",
    "\n",
    "    header = \"true\" if header else \"false\"\n",
    "    inferschema = \"true\" if inferschema else \"false\"\n",
    "\n",
    "    dfw = df.write.format(\"csv\")\\\n",
    "                    .option(\"header\", header)\\\n",
    "                    .mode(mode)\\\n",
    "                    .option(\"timestampFormat\", \"yyyy-MM-dd HH:mm:ss\")\\\n",
    "                    .option(\"inferSchema\", inferschema)\\\n",
    "                    .option(\"multipleLine\", \"false\")\n",
    "    dfw.save(path + csvsavename)\n",
    "\n",
    "\n",
    "    csv_filenames = [filename for filename in os.listdir(path + csvsavename) if filename.endswith(\".csv\")]\n",
    "\n",
    "    os.chdir(owd)\n",
    "    source_path = path + csvsavename + \"/\" + csv_filenames[0]\n",
    "    destination_path = path +\"/\"+ csvsavename\n",
    "\n",
    "    shutil.copyfile(source_path, destination_path)\n",
    "\n",
    "    shutil.rmtree(path + csvsavename)"
   ]
  },
  {
   "cell_type": "code",
   "execution_count": 25,
   "metadata": {},
   "outputs": [],
   "source": [
    "savepath = owd + \"/model_data\"\n",
    "\n",
    "write_df_as_csv_file(user_features, savepath, \"user_model.csv\")\n",
    "write_df_as_csv_file(item_features, savepath, \"item_model.csv\")"
   ]
  },
  {
   "cell_type": "markdown",
   "metadata": {},
   "source": [
    "## Model Training"
   ]
  },
  {
   "cell_type": "code",
   "execution_count": 39,
   "metadata": {},
   "outputs": [],
   "source": [
    "# split 80-20\n",
    "(training, test) = user_features.randomSplit([0.8, 0.2], seed= 42)"
   ]
  },
  {
   "cell_type": "code",
   "execution_count": 40,
   "metadata": {},
   "outputs": [
    {
     "name": "stdout",
     "output_type": "stream",
     "text": [
      "Root-mean-squared-error = 0.791\n"
     ]
    }
   ],
   "source": [
    "# train the recommender with als\n",
    "als_alg = ALS(maxIter=5, \n",
    "              regParam=0.01, \n",
    "              userCol='customer_index', \n",
    "              itemCol=\"product_index\", \n",
    "              ratingCol='review_score',\n",
    "              coldStartStrategy='drop', \n",
    "              seed = 3)\n",
    "\n",
    "model=als_alg.fit(training)\n",
    "\n",
    "# evaluate with the holdout set\n",
    "predictions = model.transform(test)\n",
    "\n",
    "evaluator = RegressionEvaluator(metricName='rmse',\n",
    "                                labelCol='review_score',\n",
    "                                predictionCol='prediction')\n",
    "rmse = evaluator.evaluate(predictions)\n",
    "\n",
    "print(\"Root-mean-squared-error = \" + str(round(rmse, 3)))"
   ]
  },
  {
   "cell_type": "markdown",
   "metadata": {},
   "source": [
    "## Generate user and product recommendations\n",
    "\n",
    "These can be sampled from to output predictions for specific users."
   ]
  },
  {
   "cell_type": "code",
   "execution_count": 41,
   "metadata": {},
   "outputs": [],
   "source": [
    "# generate top 5 product recommendations for user\n",
    "user_recs = model.recommendForAllUsers(5)\n"
   ]
  },
  {
   "cell_type": "code",
   "execution_count": 42,
   "metadata": {},
   "outputs": [
    {
     "name": "stdout",
     "output_type": "stream",
     "text": [
      "+--------------+----------------------------------------------------------------------------------------------+\n",
      "|customer_index|recommendations                                                                               |\n",
      "+--------------+----------------------------------------------------------------------------------------------+\n",
      "|28            |[{5239, 8.591616}, {2221, 8.454046}, {1591, 8.136092}, {2967, 8.027724}, {1305, 7.9842086}]   |\n",
      "|31            |[{3265, 31.620695}, {1144, 24.839703}, {1562, 24.37097}, {1648, 23.669706}, {4239, 23.259539}]|\n",
      "|34            |[{1313, 10.192295}, {606, 8.620806}, {3473, 8.282006}, {2566, 8.25243}, {970, 8.24069}]       |\n",
      "|53            |[{3801, 9.271465}, {1159, 8.952887}, {2475, 8.172123}, {969, 8.152481}, {1552, 7.9951453}]    |\n",
      "|65            |[{1317, 10.571407}, {1502, 9.80579}, {2671, 9.321613}, {2245, 9.25376}, {678, 8.876094}]      |\n",
      "|78            |[{3206, 9.30542}, {1522, 9.105015}, {1775, 8.748946}, {1875, 8.656139}, {2325, 8.513549}]     |\n",
      "|81            |[{2544, 9.97822}, {1048, 9.922913}, {2502, 9.564446}, {1525, 8.97151}, {2274, 8.700055}]      |\n",
      "|85            |[{1922, 10.160906}, {2267, 9.437816}, {2338, 9.311887}, {3306, 9.228666}, {1571, 8.972626}]   |\n",
      "|101           |[{1028, 9.107401}, {2270, 8.769315}, {874, 8.590856}, {1916, 8.514763}, {3486, 8.3191}]       |\n",
      "|108           |[{958, 9.927302}, {1642, 9.308289}, {2808, 8.615459}, {1571, 8.40739}, {1441, 8.3799305}]     |\n",
      "|115           |[{1775, 10.160455}, {1039, 9.165348}, {1348, 9.151339}, {1541, 9.138711}, {981, 8.778483}]    |\n",
      "|126           |[{866, 9.71002}, {2599, 9.20959}, {3523, 8.957639}, {4315, 8.804865}, {3314, 8.727849}]       |\n",
      "|133           |[{928, 8.75111}, {3994, 8.534246}, {2414, 7.95434}, {6892, 7.8364315}, {2349, 7.821208}]      |\n",
      "|137           |[{626, 2.987476}, {2221, 2.8452582}, {3627, 2.79837}, {2519, 2.7904305}, {4670, 2.7451587}]   |\n",
      "|148           |[{1369, 9.293924}, {1017, 8.9216}, {1106, 8.880048}, {1693, 8.529738}, {2418, 8.482705}]      |\n",
      "|155           |[{4490, 10.085432}, {2344, 10.017205}, {1542, 9.71292}, {728, 8.855888}, {1626, 8.63532}]     |\n",
      "|183           |[{1782, 14.946898}, {797, 13.7460785}, {4786, 12.93647}, {2069, 12.799778}, {3486, 12.473908}]|\n",
      "|193           |[{2824, 11.731647}, {1929, 11.44414}, {3197, 11.126706}, {2349, 10.485197}, {1675, 9.868306}] |\n",
      "|210           |[{1333, 11.132131}, {2793, 9.822783}, {6508, 9.084656}, {1793, 8.940713}, {3352, 8.919671}]   |\n",
      "|211           |[{1554, 4.453219}, {2874, 4.419489}, {875, 4.3383064}, {2247, 4.0368977}, {2048, 4.0350356}]  |\n",
      "+--------------+----------------------------------------------------------------------------------------------+\n",
      "only showing top 20 rows\n",
      "\n"
     ]
    }
   ],
   "source": [
    "user_recs.show(truncate=False)"
   ]
  },
  {
   "cell_type": "code",
   "execution_count": 43,
   "metadata": {},
   "outputs": [
    {
     "data": {
      "text/plain": [
       "[Row(product_index=[2967, 1183, 1654, 2067, 2323], rating=[9.555474281311035, 8.723526954650879, 8.46434497833252, 8.348270416259766, 8.124532699584961])]"
      ]
     },
     "execution_count": 43,
     "metadata": {},
     "output_type": "execute_result"
    }
   ],
   "source": [
    "user_recs.where(user_recs.customer_index == 728).select(\"recommendations.product_index\", \"recommendations.rating\").collect()"
   ]
  },
  {
   "cell_type": "code",
   "execution_count": 44,
   "metadata": {},
   "outputs": [],
   "source": [
    "# generate top 10 user recommendations for product\n",
    "product_recs = model.recommendForAllItems(10)"
   ]
  },
  {
   "cell_type": "code",
   "execution_count": 45,
   "metadata": {},
   "outputs": [
    {
     "name": "stdout",
     "output_type": "stream",
     "text": [
      "root\n",
      " |-- product_index: integer (nullable = false)\n",
      " |-- recommendations: array (nullable = true)\n",
      " |    |-- element: struct (containsNull = true)\n",
      " |    |    |-- customer_index: integer (nullable = true)\n",
      " |    |    |-- rating: float (nullable = true)\n",
      "\n"
     ]
    }
   ],
   "source": [
    "product_recs.printSchema()"
   ]
  },
  {
   "cell_type": "code",
   "execution_count": 46,
   "metadata": {},
   "outputs": [
    {
     "name": "stdout",
     "output_type": "stream",
     "text": [
      "+-------------+--------------------------------------------------------------------------------------------------------------------------------------------------------------------------------------------------------+\n",
      "|product_index|recommendations                                                                                                                                                                                         |\n",
      "+-------------+--------------------------------------------------------------------------------------------------------------------------------------------------------------------------------------------------------+\n",
      "|28           |[{3882, 4.999965}, {89923, 4.9956784}, {87758, 4.9956784}, {87193, 4.9956784}, {86686, 4.9956784}, {85176, 4.9956784}, {84207, 4.9956784}, {83307, 4.9956784}, {82030, 4.9956784}, {80889, 4.9956784}]  |\n",
      "|31           |[{660, 5.697052}, {91003, 4.9938865}, {90435, 4.9938865}, {90270, 4.9938865}, {88074, 4.9938865}, {87809, 4.9938865}, {87276, 4.9938865}, {86389, 4.9938865}, {86190, 4.9938865}, {82583, 4.9938865}]   |\n",
      "|34           |[{91290, 4.9931107}, {88749, 4.9931107}, {85825, 4.9931107}, {84884, 4.9931107}, {84820, 4.9931107}, {78871, 4.9931107}, {78015, 4.9931107}, {75269, 4.9931107}, {75145, 4.9931107}, {74920, 4.9931107}]|\n",
      "|53           |[{4884, 17.0178}, {3374, 11.084152}, {2245, 10.364345}, {106, 9.196436}, {3370, 9.167903}, {2893, 9.167903}, {2879, 9.167903}, {1267, 9.167903}, {3179, 9.128545}, {234, 9.0932665}]                    |\n",
      "|65           |[{724, 12.282822}, {4400, 11.336058}, {4042, 11.336058}, {3370, 11.205059}, {2893, 11.205059}, {2879, 11.205059}, {1267, 11.205059}, {2738, 11.072165}, {106, 10.905193}, {2760, 10.825342}]            |\n",
      "|78           |[{3794, 7.064627}, {90524, 5.835789}, {88716, 5.835789}, {83775, 5.835789}, {83747, 5.835789}, {79464, 5.835789}, {77908, 5.835789}, {77741, 5.835789}, {76774, 5.835789}, {76191, 5.835789}]           |\n",
      "|81           |[{359, 12.992958}, {162, 11.080619}, {5007, 10.351156}, {4678, 10.351156}, {4005, 10.351156}, {3750, 10.351156}, {3612, 10.351156}, {3314, 10.351156}, {2322, 10.351156}, {1786, 10.351156}]            |\n",
      "|85           |[{4428, 10.228279}, {450, 10.223206}, {3916, 9.872112}, {5099, 9.772348}, {2832, 8.82456}, {2247, 8.82456}, {4884, 8.736744}, {90778, 8.615885}, {90461, 8.615885}, {90445, 8.615885}]                  |\n",
      "|101          |[{2738, 11.206724}, {4400, 9.086403}, {4042, 9.086403}, {2760, 8.824928}, {89329, 7.719176}, {89001, 7.719176}, {88463, 7.719176}, {87977, 7.719176}, {87681, 7.719176}, {85642, 7.719176}]             |\n",
      "|108          |[{3401, 7.961279}, {90524, 7.6865005}, {88716, 7.6865005}, {83775, 7.6865005}, {83747, 7.6865005}, {79464, 7.6865005}, {77908, 7.6865005}, {77741, 7.6865005}, {76774, 7.6865005}, {76191, 7.6865005}]  |\n",
      "|115          |[{5020, 9.024518}, {71, 9.024518}, {44, 8.569842}, {1998, 8.027717}, {2366, 7.5371847}, {2620, 6.403446}, {2287, 6.1978354}, {1755, 6.1978354}, {4388, 6.0713954}, {4220, 5.8891487}]                   |\n",
      "|126          |[{4428, 9.617547}, {1998, 9.231629}, {90778, 8.823206}, {90461, 8.823206}, {90445, 8.823206}, {89697, 8.823206}, {88056, 8.823206}, {88035, 8.823206}, {87959, 8.823206}, {87651, 8.823206}]            |\n",
      "|133          |[{359, 11.430363}, {4346, 10.472869}, {5071, 10.2349205}, {931, 9.935708}, {2245, 9.143058}, {2121, 9.080355}, {3179, 8.88968}, {234, 8.708259}, {3747, 8.657599}, {1239, 8.594981}]                    |\n",
      "|137          |[{162, 12.068877}, {510, 11.151495}, {1946, 9.149101}, {89739, 7.8818817}, {88284, 7.8818817}, {81315, 7.8818817}, {76361, 7.8818817}, {62346, 7.8818817}, {62310, 7.8818817}, {58126, 7.8818817}]      |\n",
      "|148          |[{4884, 11.258924}, {2245, 11.055347}, {4428, 10.174778}, {3374, 9.418494}, {3402, 8.876264}, {90778, 8.202722}, {90461, 8.202722}, {90445, 8.202722}, {89697, 8.202722}, {88056, 8.202722}]            |\n",
      "|155          |[{2245, 18.189287}, {4884, 15.477427}, {1306, 13.919176}, {2853, 13.491985}, {5071, 13.326236}, {3374, 12.856855}, {3402, 12.639431}, {3821, 12.558607}, {3179, 12.30325}, {89329, 12.087211}]          |\n",
      "|183          |[{450, 10.490177}, {2366, 10.1457615}, {1998, 9.935696}, {226, 9.3381}, {1968, 9.166954}, {90778, 8.966749}, {90461, 8.966749}, {90445, 8.966749}, {89697, 8.966749}, {88056, 8.966749}]                |\n",
      "|193          |[{660, 12.752128}, {4455, 11.467565}, {3864, 11.467565}, {2777, 11.467565}, {2446, 11.467565}, {1913, 11.467565}, {345, 11.440606}, {1647, 11.143027}, {4093, 10.134933}, {4188, 9.858284}]             |\n",
      "|210          |[{2886, 5.8124676}, {4886, 5.0680537}, {4689, 5.0262027}, {37708, 4.9975224}, {28991, 4.9975224}, {23389, 4.9975224}, {17192, 4.9975224}, {12167, 4.9975224}, {91198, 4.9933605}, {89434, 4.9933605}]   |\n",
      "|211          |[{450, 6.4260345}, {3249, 6.2013745}, {3401, 6.146087}, {183, 6.1366735}, {4346, 6.105741}, {1336, 5.9400096}, {78640, 5.7189183}, {2473, 5.6722474}, {14843, 5.549761}, {205, 5.4914856}]              |\n",
      "+-------------+--------------------------------------------------------------------------------------------------------------------------------------------------------------------------------------------------------+\n",
      "only showing top 20 rows\n",
      "\n"
     ]
    }
   ],
   "source": [
    "product_recs.show(truncate=False)"
   ]
  },
  {
   "cell_type": "code",
   "execution_count": 47,
   "metadata": {},
   "outputs": [
    {
     "name": "stdout",
     "output_type": "stream",
     "text": [
      "+--------------+--------------------------------------------------------------------------------------------------------------------------------------------------------------------------------------------+\n",
      "|customer_index|recommendations                                                                                                                                                                             |\n",
      "+--------------+--------------------------------------------------------------------------------------------------------------------------------------------------------------------------------------------+\n",
      "|5360          |[{1858, 4.9994364}, {952, 4.9726667}, {1186, 4.942286}, {2364, 4.676838}, {1782, 4.4951973}, {1057, 4.464791}, {5562, 4.2932606}, {2941, 4.246251}, {4827, 4.1962085}, {2609, 4.182798}]    |\n",
      "|5776          |[{3286, 6.8482294}, {1847, 6.664742}, {3702, 6.4560204}, {741, 6.379898}, {1059, 6.293709}, {1760, 6.204213}, {1628, 6.1397147}, {2006, 6.0567827}, {1346, 5.8749456}, {1857, 5.8103857}]   |\n",
      "|5858          |[{4286, 15.880457}, {807, 14.399605}, {10584, 14.285338}, {3658, 14.101318}, {7393, 12.872088}, {1660, 12.828162}, {1045, 12.706411}, {599, 12.689617}, {1317, 12.658638}, {609, 12.541872}]|\n",
      "+--------------+--------------------------------------------------------------------------------------------------------------------------------------------------------------------------------------------+\n",
      "\n"
     ]
    }
   ],
   "source": [
    "# generate top 10 product recommendations for subset user\n",
    "users = user_features.select(als_alg.getUserCol()).distinct().limit(3)\n",
    "user_subset_recs = model.recommendForUserSubset(users, 10)\n",
    "user_subset_recs.show(truncate=False)"
   ]
  },
  {
   "cell_type": "markdown",
   "metadata": {},
   "source": [
    "### Parameter Tuning"
   ]
  },
  {
   "cell_type": "code",
   "execution_count": 48,
   "metadata": {},
   "outputs": [],
   "source": [
    "# Import the required functions\n",
    "from pyspark.ml.evaluation import RegressionEvaluator\n",
    "from pyspark.ml.recommendation import ALS\n",
    "from pyspark.ml.tuning import ParamGridBuilder, CrossValidator"
   ]
  },
  {
   "cell_type": "code",
   "execution_count": 49,
   "metadata": {},
   "outputs": [],
   "source": [
    "# train the recommender with als\n",
    "als = ALS(maxIter=5, \n",
    "              regParam=0.01, \n",
    "              userCol='customer_index', \n",
    "              itemCol=\"product_index\", \n",
    "              ratingCol='review_score',\n",
    "              coldStartStrategy='drop')"
   ]
  },
  {
   "cell_type": "code",
   "execution_count": 50,
   "metadata": {},
   "outputs": [],
   "source": [
    "# Import the requisite packages\n",
    "from pyspark.ml.tuning import ParamGridBuilder, CrossValidator\n",
    "from pyspark.ml.evaluation import RegressionEvaluator\n",
    "\n",
    "# Add hyperparameters and their respective values to param_grid\n",
    "param_grid = ParamGridBuilder() \\\n",
    "            .addGrid(als.rank, [10, 50, 100, 150]) \\\n",
    "            .addGrid(als.regParam, [.01, .05, .1, .15]) \\\n",
    "            .build()"
   ]
  },
  {
   "cell_type": "code",
   "execution_count": 51,
   "metadata": {},
   "outputs": [
    {
     "name": "stdout",
     "output_type": "stream",
     "text": [
      "Num models to be tested:  16\n"
     ]
    }
   ],
   "source": [
    "evaluator = RegressionEvaluator(\n",
    "           metricName=\"rmse\", \n",
    "           labelCol=\"review_score\", \n",
    "           predictionCol=\"prediction\") \n",
    "print (\"Num models to be tested: \", len(param_grid))"
   ]
  },
  {
   "cell_type": "code",
   "execution_count": 52,
   "metadata": {},
   "outputs": [],
   "source": [
    "# Build cross validation using CrossValidator\n",
    "cv = CrossValidator(estimator=als, estimatorParamMaps=param_grid, evaluator=evaluator, numFolds=3)"
   ]
  },
  {
   "cell_type": "code",
   "execution_count": 53,
   "metadata": {},
   "outputs": [
    {
     "name": "stdout",
     "output_type": "stream",
     "text": [
      "0.7301471355235291\n"
     ]
    }
   ],
   "source": [
    "#Fit cross validator to the 'train' dataset\n",
    "model = cv.fit(training)\n",
    "#Extract best model from the cv model above\n",
    "best_model = model.bestModel\n",
    "# View the predictions\n",
    "test_predictions = best_model.transform(test)\n",
    "RMSE = evaluator.evaluate(test_predictions)\n",
    "print(RMSE)"
   ]
  },
  {
   "cell_type": "code",
   "execution_count": 61,
   "metadata": {},
   "outputs": [],
   "source": [
    "model.save(\"./model/cv\")"
   ]
  },
  {
   "cell_type": "code",
   "execution_count": 54,
   "metadata": {},
   "outputs": [
    {
     "name": "stdout",
     "output_type": "stream",
     "text": [
      "**Best Model**\n",
      "  Rank: 100\n",
      "  MaxIter: 5\n",
      "  RegParam: 0.1\n"
     ]
    }
   ],
   "source": [
    "print(\"**Best Model**\")\n",
    "# Print \"Rank\"\n",
    "print(\"  Rank:\", best_model._java_obj.parent().getRank())\n",
    "# Print \"MaxIter\"\n",
    "print(\"  MaxIter:\", best_model._java_obj.parent().getMaxIter())\n",
    "# Print \"RegParam\"\n",
    "print(\"  RegParam:\", best_model._java_obj.parent().getRegParam())"
   ]
  },
  {
   "cell_type": "code",
   "execution_count": 55,
   "metadata": {},
   "outputs": [
    {
     "name": "stdout",
     "output_type": "stream",
     "text": [
      "+--------------+--------------------+\n",
      "|customer_index|     recommendations|\n",
      "+--------------+--------------------+\n",
      "|            28|[{8237, 1.2886992...|\n",
      "|            31|[{1693, 4.971975}...|\n",
      "|            34|[{9339, 4.993264}...|\n",
      "|            53|[{11275, 5.00247}...|\n",
      "|            65|[{31272, 4.96101}...|\n",
      "|            78|[{8848, 4.968271}...|\n",
      "|            81|[{27303, 1.920084...|\n",
      "|            85|[{29113, 4.975552...|\n",
      "|           101|[{832, 4.949645},...|\n",
      "|           108|[{1785, 2.9949093...|\n",
      "|           115|[{1511, 4.9941206...|\n",
      "|           126|[{1772, 4.9977355...|\n",
      "|           133|[{955, 0.99072826...|\n",
      "|           137|[{4907, 0.9833292...|\n",
      "|           148|[{8138, 5.0114465...|\n",
      "|           155|[{6803, 1.2602482...|\n",
      "|           183|[{192, 4.894309},...|\n",
      "|           193|[{5148, 4.99889},...|\n",
      "|           210|[{28055, 3.952406...|\n",
      "|           211|[{363, 2.0038981}...|\n",
      "+--------------+--------------------+\n",
      "only showing top 20 rows\n",
      "\n"
     ]
    }
   ],
   "source": [
    "# Generate n Recommendations for all users\n",
    "recommendations = best_model.recommendForAllUsers(5)\n",
    "recommendations.show()"
   ]
  },
  {
   "cell_type": "markdown",
   "metadata": {},
   "source": [
    "### Re-run model for all users"
   ]
  },
  {
   "cell_type": "code",
   "execution_count": 62,
   "metadata": {},
   "outputs": [],
   "source": [
    "# train the recommender with als\n",
    "als_alg = ALS(rank=best_model._java_obj.parent().getRank(),\n",
    "              maxIter=best_model._java_obj.parent().getMaxIter(), \n",
    "              regParam=best_model._java_obj.parent().getRegParam(), \n",
    "              userCol='customer_index', \n",
    "              itemCol=\"product_index\", \n",
    "              ratingCol='review_score',\n",
    "              coldStartStrategy='drop')\n",
    "\n",
    "final_model=als_alg.fit(user_features)\n"
   ]
  },
  {
   "cell_type": "code",
   "execution_count": null,
   "metadata": {},
   "outputs": [],
   "source": [
    "final_model.save(\"./model/bestmodel\")"
   ]
  },
  {
   "cell_type": "code",
   "execution_count": 63,
   "metadata": {},
   "outputs": [
    {
     "name": "stdout",
     "output_type": "stream",
     "text": [
      "+--------------+--------------------+\n",
      "|customer_index|     recommendations|\n",
      "+--------------+--------------------+\n",
      "|            28|[{6490, 1.3932567...|\n",
      "|            31|[{2857, 4.959978}...|\n",
      "|            34|[{879, 4.951983},...|\n",
      "|            53|[{11275, 4.985459...|\n",
      "+--------------+--------------------+\n",
      "only showing top 4 rows\n",
      "\n"
     ]
    }
   ],
   "source": [
    "# generate top_n product recommendations for user\n",
    "nrecommend = 5\n",
    "user_recs = final_model.recommendForAllUsers(nrecommend)\n",
    "user_recs.show(4)"
   ]
  },
  {
   "cell_type": "code",
   "execution_count": 64,
   "metadata": {},
   "outputs": [],
   "source": [
    "recs = user_recs.toPandas()"
   ]
  },
  {
   "cell_type": "markdown",
   "metadata": {},
   "source": [
    "## Recommender Function"
   ]
  },
  {
   "cell_type": "code",
   "execution_count": 68,
   "metadata": {},
   "outputs": [
    {
     "ename": "KeyboardInterrupt",
     "evalue": "",
     "output_type": "error",
     "traceback": [
      "\u001b[1;31m---------------------------------------------------------------------------\u001b[0m",
      "\u001b[1;31mKeyboardInterrupt\u001b[0m                         Traceback (most recent call last)",
      "Cell \u001b[1;32mIn[68], line 2\u001b[0m\n\u001b[0;32m      1\u001b[0m \u001b[38;5;66;03m# Generate pandas df for accessing products in recommender function\u001b[39;00m\n\u001b[1;32m----> 2\u001b[0m products \u001b[38;5;241m=\u001b[39m \u001b[43mitem_features\u001b[49m\u001b[38;5;241;43m.\u001b[39;49m\u001b[43mtoPandas\u001b[49m\u001b[43m(\u001b[49m\u001b[43m)\u001b[49m\n",
      "File \u001b[1;32mc:\\Users\\nhatt\\miniconda3\\envs\\sparkml\\lib\\site-packages\\pyspark\\sql\\pandas\\conversion.py:208\u001b[0m, in \u001b[0;36mPandasConversionMixin.toPandas\u001b[1;34m(self)\u001b[0m\n\u001b[0;32m    205\u001b[0m             \u001b[38;5;28;01mraise\u001b[39;00m\n\u001b[0;32m    207\u001b[0m \u001b[38;5;66;03m# Below is toPandas without Arrow optimization.\u001b[39;00m\n\u001b[1;32m--> 208\u001b[0m pdf \u001b[38;5;241m=\u001b[39m pd\u001b[38;5;241m.\u001b[39mDataFrame\u001b[38;5;241m.\u001b[39mfrom_records(\u001b[38;5;28;43mself\u001b[39;49m\u001b[38;5;241;43m.\u001b[39;49m\u001b[43mcollect\u001b[49m\u001b[43m(\u001b[49m\u001b[43m)\u001b[49m, columns\u001b[38;5;241m=\u001b[39m\u001b[38;5;28mself\u001b[39m\u001b[38;5;241m.\u001b[39mcolumns)\n\u001b[0;32m    209\u001b[0m column_counter \u001b[38;5;241m=\u001b[39m Counter(\u001b[38;5;28mself\u001b[39m\u001b[38;5;241m.\u001b[39mcolumns)\n\u001b[0;32m    211\u001b[0m corrected_dtypes: List[Optional[Type]] \u001b[38;5;241m=\u001b[39m [\u001b[38;5;28;01mNone\u001b[39;00m] \u001b[38;5;241m*\u001b[39m \u001b[38;5;28mlen\u001b[39m(\u001b[38;5;28mself\u001b[39m\u001b[38;5;241m.\u001b[39mschema)\n",
      "File \u001b[1;32mc:\\Users\\nhatt\\miniconda3\\envs\\sparkml\\lib\\site-packages\\pyspark\\sql\\dataframe.py:1217\u001b[0m, in \u001b[0;36mDataFrame.collect\u001b[1;34m(self)\u001b[0m\n\u001b[0;32m   1215\u001b[0m \u001b[38;5;28;01mwith\u001b[39;00m SCCallSiteSync(\u001b[38;5;28mself\u001b[39m\u001b[38;5;241m.\u001b[39m_sc):\n\u001b[0;32m   1216\u001b[0m     sock_info \u001b[38;5;241m=\u001b[39m \u001b[38;5;28mself\u001b[39m\u001b[38;5;241m.\u001b[39m_jdf\u001b[38;5;241m.\u001b[39mcollectToPython()\n\u001b[1;32m-> 1217\u001b[0m \u001b[38;5;28;01mreturn\u001b[39;00m \u001b[38;5;28;43mlist\u001b[39;49m\u001b[43m(\u001b[49m\u001b[43m_load_from_socket\u001b[49m\u001b[43m(\u001b[49m\u001b[43msock_info\u001b[49m\u001b[43m,\u001b[49m\u001b[43m \u001b[49m\u001b[43mBatchedSerializer\u001b[49m\u001b[43m(\u001b[49m\u001b[43mCPickleSerializer\u001b[49m\u001b[43m(\u001b[49m\u001b[43m)\u001b[49m\u001b[43m)\u001b[49m\u001b[43m)\u001b[49m\u001b[43m)\u001b[49m\n",
      "File \u001b[1;32mc:\\Users\\nhatt\\miniconda3\\envs\\sparkml\\lib\\site-packages\\pyspark\\serializers.py:152\u001b[0m, in \u001b[0;36mFramedSerializer.load_stream\u001b[1;34m(self, stream)\u001b[0m\n\u001b[0;32m    150\u001b[0m \u001b[38;5;28;01mwhile\u001b[39;00m \u001b[38;5;28;01mTrue\u001b[39;00m:\n\u001b[0;32m    151\u001b[0m     \u001b[38;5;28;01mtry\u001b[39;00m:\n\u001b[1;32m--> 152\u001b[0m         \u001b[38;5;28;01myield\u001b[39;00m \u001b[38;5;28;43mself\u001b[39;49m\u001b[38;5;241;43m.\u001b[39;49m\u001b[43m_read_with_length\u001b[49m\u001b[43m(\u001b[49m\u001b[43mstream\u001b[49m\u001b[43m)\u001b[49m\n\u001b[0;32m    153\u001b[0m     \u001b[38;5;28;01mexcept\u001b[39;00m \u001b[38;5;167;01mEOFError\u001b[39;00m:\n\u001b[0;32m    154\u001b[0m         \u001b[38;5;28;01mreturn\u001b[39;00m\n",
      "File \u001b[1;32mc:\\Users\\nhatt\\miniconda3\\envs\\sparkml\\lib\\site-packages\\pyspark\\serializers.py:166\u001b[0m, in \u001b[0;36mFramedSerializer._read_with_length\u001b[1;34m(self, stream)\u001b[0m\n\u001b[0;32m    165\u001b[0m \u001b[38;5;28;01mdef\u001b[39;00m \u001b[38;5;21m_read_with_length\u001b[39m(\u001b[38;5;28mself\u001b[39m, stream):\n\u001b[1;32m--> 166\u001b[0m     length \u001b[38;5;241m=\u001b[39m \u001b[43mread_int\u001b[49m\u001b[43m(\u001b[49m\u001b[43mstream\u001b[49m\u001b[43m)\u001b[49m\n\u001b[0;32m    167\u001b[0m     \u001b[38;5;28;01mif\u001b[39;00m length \u001b[38;5;241m==\u001b[39m SpecialLengths\u001b[38;5;241m.\u001b[39mEND_OF_DATA_SECTION:\n\u001b[0;32m    168\u001b[0m         \u001b[38;5;28;01mraise\u001b[39;00m \u001b[38;5;167;01mEOFError\u001b[39;00m\n",
      "File \u001b[1;32mc:\\Users\\nhatt\\miniconda3\\envs\\sparkml\\lib\\site-packages\\pyspark\\serializers.py:594\u001b[0m, in \u001b[0;36mread_int\u001b[1;34m(stream)\u001b[0m\n\u001b[0;32m    593\u001b[0m \u001b[38;5;28;01mdef\u001b[39;00m \u001b[38;5;21mread_int\u001b[39m(stream):\n\u001b[1;32m--> 594\u001b[0m     length \u001b[38;5;241m=\u001b[39m \u001b[43mstream\u001b[49m\u001b[38;5;241;43m.\u001b[39;49m\u001b[43mread\u001b[49m\u001b[43m(\u001b[49m\u001b[38;5;241;43m4\u001b[39;49m\u001b[43m)\u001b[49m\n\u001b[0;32m    595\u001b[0m     \u001b[38;5;28;01mif\u001b[39;00m \u001b[38;5;129;01mnot\u001b[39;00m length:\n\u001b[0;32m    596\u001b[0m         \u001b[38;5;28;01mraise\u001b[39;00m \u001b[38;5;167;01mEOFError\u001b[39;00m\n",
      "File \u001b[1;32mc:\\Users\\nhatt\\miniconda3\\envs\\sparkml\\lib\\socket.py:705\u001b[0m, in \u001b[0;36mSocketIO.readinto\u001b[1;34m(self, b)\u001b[0m\n\u001b[0;32m    703\u001b[0m \u001b[38;5;28;01mwhile\u001b[39;00m \u001b[38;5;28;01mTrue\u001b[39;00m:\n\u001b[0;32m    704\u001b[0m     \u001b[38;5;28;01mtry\u001b[39;00m:\n\u001b[1;32m--> 705\u001b[0m         \u001b[38;5;28;01mreturn\u001b[39;00m \u001b[38;5;28;43mself\u001b[39;49m\u001b[38;5;241;43m.\u001b[39;49m\u001b[43m_sock\u001b[49m\u001b[38;5;241;43m.\u001b[39;49m\u001b[43mrecv_into\u001b[49m\u001b[43m(\u001b[49m\u001b[43mb\u001b[49m\u001b[43m)\u001b[49m\n\u001b[0;32m    706\u001b[0m     \u001b[38;5;28;01mexcept\u001b[39;00m timeout:\n\u001b[0;32m    707\u001b[0m         \u001b[38;5;28mself\u001b[39m\u001b[38;5;241m.\u001b[39m_timeout_occurred \u001b[38;5;241m=\u001b[39m \u001b[38;5;28;01mTrue\u001b[39;00m\n",
      "\u001b[1;31mKeyboardInterrupt\u001b[0m: "
     ]
    }
   ],
   "source": [
    "# Generate pandas df for accessing products in recommender function\n",
    "products = item_features.toPandas()"
   ]
  },
  {
   "cell_type": "code",
   "execution_count": null,
   "metadata": {},
   "outputs": [],
   "source": [
    "user_features_df = user_features.toPandas()"
   ]
  },
  {
   "cell_type": "code",
   "execution_count": null,
   "metadata": {},
   "outputs": [],
   "source": [
    "def user_recommendations(user_id, top_n = 3):\n",
    "    \n",
    "    if top_n > nrecommend:\n",
    "        print(\"Please select up to {} items to recommend\".format(nrecommend))\n",
    "        return; \n",
    "    \n",
    "    prior_purchases = user_features_df[user_features_df['customer_unique_id'] == user_id]\\\n",
    "                                                                                        ['product_id'].unique()\n",
    "    num_items = len(prior_purchases)\n",
    "    \n",
    "    if num_items < 3:\n",
    "        items = num_items\n",
    "    else:\n",
    "        items = 3\n",
    "    \n",
    "    print(\"User: {}\\n\".format(user_id))\n",
    "    print(\"Known positives: \")\n",
    "    for n in range(items):\n",
    "        known_like_product = user_features_df[user_features_df['customer_unique_id'] == user_id]\\\n",
    "                                                            ['product_id'].unique()[n]\n",
    "        known_like_category = products[products['product_id'] == known_like_product]\\\n",
    "                                                            ['product_category_name'].unique()[0]\n",
    "    \n",
    "        print(\"\\t\", known_like_product)\n",
    "        print(\"\\t\", known_like_category, \"\\n\")\n",
    "    \n",
    "    \n",
    "    customer_index = user_features_df[user_features_df['customer_unique_id'] == user_id]\\\n",
    "                                                            ['customer_index'].unique()[0]\n",
    "    print(\"Top {} Recommendations: \\n\".format(top_n))\n",
    "    rec_products = []\n",
    "    \n",
    "    for n in range(top_n):\n",
    "        \n",
    "        rec_products.append(list(recs[recs['customer_index'] == customer_index]['recommendations'])[0][n][0])\n",
    "        \n",
    "        print(\"{}.\\n\".format(n+1), products[products['product_index'] == rec_products[n]]\\\n",
    "                                                  [['product_id', 'product_category_name']].iloc[0][0])\n",
    "        \n",
    "        print(products[products['product_index'] == rec_products[n]]\\\n",
    "                                                  [['product_id', 'product_category_name']].iloc[0][1])"
   ]
  },
  {
   "cell_type": "markdown",
   "metadata": {},
   "source": [
    "__Test for customer_id = 'c8ed31310fc440a3f8031b177f9842c3'__"
   ]
  },
  {
   "cell_type": "code",
   "execution_count": null,
   "metadata": {},
   "outputs": [
    {
     "name": "stdout",
     "output_type": "stream",
     "text": [
      "User: c8ed31310fc440a3f8031b177f9842c3\n",
      "\n",
      "Known positives: \n",
      "\t 1065e0ebef073787a7bf691924c60eeb\n",
      "\t construction_tools_construction \n",
      "\n",
      "\t 0cf2faf9749f53924cea652a09d8e327\n",
      "\t construction_tools_construction \n",
      "\n",
      "\t 309dd69eb83cea38c51709d62befe1a4\n",
      "\t construction_tools_construction \n",
      "\n",
      "Top 5 Recommendations: \n",
      "\n",
      "1.\n",
      " 15b1f9b06d0e709552d7d8638387e09b\n",
      "furniture_decor\n",
      "2.\n",
      " 7189fb70393a0b87189f93f19655f8db\n",
      "toys\n",
      "3.\n",
      " 3e7ec3672e5549ba74cf635752bfc70b\n",
      "furniture_decor\n",
      "4.\n",
      " 14ad6805c263d8d758d648f46a06570e\n",
      "baby\n",
      "5.\n",
      " 329c661807f085964b1877bfeca6ff73\n",
      "furniture_decor\n"
     ]
    }
   ],
   "source": [
    "user_recommendations('c8ed31310fc440a3f8031b177f9842c3', top_n=5)"
   ]
  },
  {
   "cell_type": "markdown",
   "metadata": {},
   "source": [
    "__Test for customer_id = '698e1cf81d01a3d389d96145f7fa6df8'__"
   ]
  },
  {
   "cell_type": "code",
   "execution_count": null,
   "metadata": {},
   "outputs": [
    {
     "name": "stdout",
     "output_type": "stream",
     "text": [
      "User: 698e1cf81d01a3d389d96145f7fa6df8\n",
      "\n",
      "Known positives: \n",
      "\t 9571759451b1d780ee7c15012ea109d4\n",
      "\t auto \n",
      "\n",
      "Top 5 Recommendations: \n",
      "\n",
      "1.\n",
      " 0a4f9f421af66d2ea061fbb8883419f7\n",
      "health_beauty\n",
      "2.\n",
      " fdd84aefb08c8f8225e0b8c97429d53b\n",
      "health_beauty\n",
      "3.\n",
      " 12485f9cdebb6ca179826ede539554ad\n",
      "air_conditioning\n",
      "4.\n",
      " 616042729c11849827291496b18e9ec5\n",
      "sports_leisure\n",
      "5.\n",
      " 7a5c07212703b5f01ee199d29a29a587\n",
      "cool_stuff\n"
     ]
    }
   ],
   "source": [
    "user_recommendations('698e1cf81d01a3d389d96145f7fa6df8', top_n=5)"
   ]
  },
  {
   "cell_type": "markdown",
   "metadata": {},
   "source": [
    "__Test for customer_id = '89be58cbdd6ef318e3ed93fdb22be178'__"
   ]
  },
  {
   "cell_type": "code",
   "execution_count": null,
   "metadata": {},
   "outputs": [
    {
     "name": "stdout",
     "output_type": "stream",
     "text": [
      "User: 89be58cbdd6ef318e3ed93fdb22be178\n",
      "\n",
      "Known positives: \n",
      "\t 3fdb534dccf5bc9ab0406944b913787d\n",
      "\t diapers_and_hygiene \n",
      "\n",
      "Top 5 Recommendations: \n",
      "\n",
      "1.\n",
      " 779dd392d4fbe5ca656bf3ceabecbf0b\n",
      "construction_tools_construction\n",
      "2.\n",
      " bdcf6a834e8faa30dac3886c7a58e92e\n",
      "health_beauty\n",
      "3.\n",
      " 91b08d34d0ba4db44da2dc382867ba49\n",
      "telephony\n",
      "4.\n",
      " 1b8ee158f59c098470fad33f39660964\n",
      "furniture_living_room\n",
      "5.\n",
      " d9339c5714743c460a9470730f79f6c5\n",
      "computers_accessories\n"
     ]
    }
   ],
   "source": [
    "user_recommendations('89be58cbdd6ef318e3ed93fdb22be178', top_n=5)"
   ]
  },
  {
   "cell_type": "markdown",
   "metadata": {},
   "source": [
    "## Summary of Results"
   ]
  },
  {
   "cell_type": "markdown",
   "metadata": {},
   "source": [
    "It's clear after producing a simple recommendation system with matrix factorization using only users prior purchase history that this dataset simply does not have the data necessary to give accurate results. Many of the attempted recommendations produced results that are clearly not relevant for the user. As can be seen in the suggestions above, many of the top items are from categories very different from the original purchase. \n",
    "\n",
    "Comparing these same recommendations with LightFM shows how well hybrid recommenders can do for data sets like this one, with very few return users. "
   ]
  },
  {
   "cell_type": "code",
   "execution_count": null,
   "metadata": {},
   "outputs": [],
   "source": []
  }
 ],
 "metadata": {
  "kernelspec": {
   "display_name": "Python 3",
   "language": "python",
   "name": "python3"
  },
  "language_info": {
   "codemirror_mode": {
    "name": "ipython",
    "version": 3
   },
   "file_extension": ".py",
   "mimetype": "text/x-python",
   "name": "python",
   "nbconvert_exporter": "python",
   "pygments_lexer": "ipython3",
   "version": "3.10.13"
  }
 },
 "nbformat": 4,
 "nbformat_minor": 2
}
