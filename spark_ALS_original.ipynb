{
 "cells": [
  {
   "cell_type": "markdown",
   "metadata": {},
   "source": [
    "# Spark Recommender System"
   ]
  },
  {
   "cell_type": "code",
   "execution_count": 48,
   "metadata": {},
   "outputs": [],
   "source": [
    "# import necessary modules\n",
    "import os\n",
    "import shutil\n",
    "import pyspark as ps\n",
    "from pyspark.ml import Pipeline, Transformer\n",
    "from pyspark.ml.evaluation import RegressionEvaluator\n",
    "from pyspark.ml.recommendation import ALS, ALSModel\n",
    "from pyspark.sql import Row\n",
    "from pyspark.sql.types import DoubleType"
   ]
  },
  {
   "cell_type": "code",
   "execution_count": 49,
   "metadata": {},
   "outputs": [
    {
     "name": "stdout",
     "output_type": "stream",
     "text": [
      "3.5.0\n"
     ]
    }
   ],
   "source": [
    "# create spark context\n",
    "spark = (ps.sql.SparkSession.builder\n",
    "        .appName(\"ALS model\")\n",
    "        .getOrCreate()\n",
    "        )\n",
    "sc = spark.sparkContext\n",
    "print(spark.version)"
   ]
  },
  {
   "cell_type": "markdown",
   "metadata": {},
   "source": [
    "## Read in Data\n",
    "\n",
    "We will use user clusters as part of user features for our model here. "
   ]
  },
  {
   "cell_type": "code",
   "execution_count": 50,
   "metadata": {},
   "outputs": [
    {
     "data": {
      "text/plain": [
       "'modified_data\\\\item_features_clustered.csv'"
      ]
     },
     "execution_count": 50,
     "metadata": {},
     "output_type": "execute_result"
    }
   ],
   "source": [
    "data_dir = os.path.join(\"modified_data\", \"\")\n",
    "file = os.path.join(data_dir, \"item_features_clustered.csv\")\n",
    "\n",
    "file"
   ]
  },
  {
   "cell_type": "code",
   "execution_count": 51,
   "metadata": {},
   "outputs": [],
   "source": [
    "# source data from prior step\n",
    "data_dir = os.path.join(\"clean_data\", \"\")\n",
    "file = os.path.join(data_dir, \"master.csv\")\n",
    "\n",
    "# options are specified to read in data without error\n",
    "df_master = spark.read.format(\"csv\")\\\n",
    "               .option(\"multiline\", \"true\")\\\n",
    "               .option(\"quote\", '\"')\\\n",
    "               .option(\"header\", \"true\")\\\n",
    "               .option(\"escape\", \"\\\\\")\\\n",
    "               .option(\"escape\", '\"')\\\n",
    "               .option(\"inferSchema\", \"true\")\\\n",
    "               .load(file)"
   ]
  },
  {
   "cell_type": "markdown",
   "metadata": {},
   "source": [
    "## Create use and item feature matrices"
   ]
  },
  {
   "cell_type": "code",
   "execution_count": 52,
   "metadata": {},
   "outputs": [],
   "source": [
    "user_features = df_master.select(df_master['customer_unique_id'], \n",
    "                               df_master['product_id'], \n",
    "                               df_master['review_score'])"
   ]
  },
  {
   "cell_type": "code",
   "execution_count": 53,
   "metadata": {},
   "outputs": [
    {
     "name": "stdout",
     "output_type": "stream",
     "text": [
      "+--------------------+--------------------+------------+\n",
      "|  customer_unique_id|          product_id|review_score|\n",
      "+--------------------+--------------------+------------+\n",
      "|eb28e67c4c0b83846...|e5f2d52b802189ee6...|           4|\n",
      "|635d9ac1680f03288...|8d4f2bb7e93e6710a...|           4|\n",
      "|6457be0b331148fb5...|4fa33915031a8cde0...|           1|\n",
      "|98e71752819916789...|08279c494018541f7...|           1|\n",
      "+--------------------+--------------------+------------+\n",
      "only showing top 4 rows\n",
      "\n"
     ]
    }
   ],
   "source": [
    "user_features.show(4)"
   ]
  },
  {
   "cell_type": "code",
   "execution_count": 54,
   "metadata": {},
   "outputs": [
    {
     "data": {
      "text/plain": [
       "108455"
      ]
     },
     "execution_count": 54,
     "metadata": {},
     "output_type": "execute_result"
    }
   ],
   "source": [
    "user_features = user_features.sort(\"customer_unique_id\")\n",
    "user_features.count()"
   ]
  },
  {
   "cell_type": "code",
   "execution_count": 55,
   "metadata": {},
   "outputs": [
    {
     "data": {
      "text/plain": [
       "97686"
      ]
     },
     "execution_count": 55,
     "metadata": {},
     "output_type": "execute_result"
    }
   ],
   "source": [
    "from pyspark.sql.functions import mean\n",
    "\n",
    "user_features = user_features.groupBy(\"customer_unique_id\",\"product_id\") \\\n",
    "    .agg(mean('review_score').alias('review_score'))\n",
    "    # .mean(\"review_score\").alias(\"review_score\")\n",
    "\n",
    "user_features.count()\n",
    "\n",
    "\n"
   ]
  },
  {
   "cell_type": "code",
   "execution_count": 56,
   "metadata": {},
   "outputs": [
    {
     "name": "stdout",
     "output_type": "stream",
     "text": [
      "+--------------------+--------------------+------------+\n",
      "|  customer_unique_id|          product_id|review_score|\n",
      "+--------------------+--------------------+------------+\n",
      "|f507945d757fe904e...|f3b8bfa5b86249e75...|         1.0|\n",
      "|e59d98970fee89f12...|abc3432ff825d8e52...|         5.0|\n",
      "|f7089cec59a3515cb...|9615c720e219d641f...|         4.0|\n",
      "|5097528b417fe105b...|2d65aa8c163f7a8dc...|         5.0|\n",
      "|c3ec2ad05ad7887e8...|bddc1407637849d18...|         4.0|\n",
      "|56018f90d63660400...|71da6d6632902431c...|         5.0|\n",
      "|5745d934dfb11a294...|b184461ba53ea15b7...|         5.0|\n",
      "|ba4ed9f6b174012ec...|50e9e70a21b874311...|         5.0|\n",
      "|057f54779f0908b7b...|98a5e061c4731a1d4...|         2.0|\n",
      "|886d5f561ce675d06...|9b968712a8768d8e2...|         4.0|\n",
      "|99be275a1517effe1...|bc4a074ab7a7ff14e...|         5.0|\n",
      "|b067d457d34c2533b...|2ed4ea5a5394cfcb0...|         2.0|\n",
      "|97107c892093c359b...|bb9a7bcdb8c9facc7...|         1.0|\n",
      "|4d7ad8005bec85fd6...|8a2c3b7ed6d098de8...|         5.0|\n",
      "|1b277f8bf9377e4d8...|d315b738a6e96f4d9...|         1.0|\n",
      "|4965d8d652518d91e...|6fa96cbd1d917acb1...|         5.0|\n",
      "|fcf2ba2ef07129a98...|306e6b5dda3397e4a...|         4.0|\n",
      "|914dfdee6667429de...|617186c3d97ea56c9...|         1.0|\n",
      "|560046dc7dd7b822b...|809e226beeb0526cf...|         5.0|\n",
      "|0bf1278577a2acf85...|389d119b48cf3043d...|         4.0|\n",
      "+--------------------+--------------------+------------+\n",
      "only showing top 20 rows\n",
      "\n"
     ]
    }
   ],
   "source": [
    "user_features.show()"
   ]
  },
  {
   "cell_type": "markdown",
   "metadata": {},
   "source": [
    "## Index user and product ids"
   ]
  },
  {
   "cell_type": "code",
   "execution_count": 57,
   "metadata": {
    "scrolled": false
   },
   "outputs": [
    {
     "name": "stdout",
     "output_type": "stream",
     "text": [
      "+--------------------+--------------+--------------------+-------------+\n",
      "|  customer_unique_id|customer_index|          product_id|product_index|\n",
      "+--------------------+--------------+--------------------+-------------+\n",
      "|0000366f3b9a7992b...|        5166.0|372645c7439f9661f...|        451.0|\n",
      "|0000b849f77a49e4a...|        5167.0|5099f7000472b634f...|       2313.0|\n",
      "|0000f46a3911fa3c0...|        5168.0|64b488de448a5324c...|       3486.0|\n",
      "|0000f6ccb0745a6a4...|        5169.0|2345a354a6f203360...|       5592.0|\n",
      "|0004aac84e0df4da2...|        5170.0|c72e18b3fe2739b8d...|      27381.0|\n",
      "|0004bd2a26a76fe21...|        5171.0|25cf184645f3fae66...|       5607.0|\n",
      "|00050ab1314c0e55a...|        5172.0|8cefe1c6f2304e7e6...|       2900.0|\n",
      "|00053a61a98854899...|         726.0|62984ea1bba7fcea1...|       4526.0|\n",
      "|00053a61a98854899...|         726.0|58727e154e8e85d84...|       1134.0|\n",
      "|0005e1862207bf6cc...|        5173.0|e24f73b7631ee3fbb...|        887.0|\n",
      "+--------------------+--------------+--------------------+-------------+\n",
      "only showing top 10 rows\n",
      "\n"
     ]
    }
   ],
   "source": [
    "from pyspark.ml.feature import StringIndexer\n",
    "\n",
    "# create object of StringIndexer class and specify input and output column\n",
    "SI_customer = StringIndexer(inputCol='customer_unique_id',outputCol='customer_index')\n",
    "SI_product = StringIndexer(inputCol='product_id',outputCol='product_index')\n",
    "\n",
    "# transform the data\n",
    "user_features = SI_customer.fit(user_features).transform(user_features)\n",
    "user_features = SI_product.fit(user_features).transform(user_features)\n",
    "\n",
    "# view the transformed data\n",
    "user_features.select('customer_unique_id', 'customer_index', 'product_id', 'product_index').show(10)"
   ]
  },
  {
   "cell_type": "code",
   "execution_count": 58,
   "metadata": {},
   "outputs": [],
   "source": [
    "from pyspark.sql.types import IntegerType\n",
    "# convert columns to integer types\n",
    "user_features = user_features.withColumn(\"review_score\",\n",
    "                                        user_features[\"review_score\"].cast(IntegerType()))"
   ]
  },
  {
   "cell_type": "code",
   "execution_count": 59,
   "metadata": {},
   "outputs": [
    {
     "name": "stdout",
     "output_type": "stream",
     "text": [
      "+------------------+----------+------------+--------------+-------------+\n",
      "|customer_unique_id|product_id|review_score|customer_index|product_index|\n",
      "+------------------+----------+------------+--------------+-------------+\n",
      "+------------------+----------+------------+--------------+-------------+\n",
      "\n"
     ]
    }
   ],
   "source": [
    "user_features.where((user_features.review_score > 5) | (user_features.review_score < 1)).show()"
   ]
  },
  {
   "cell_type": "markdown",
   "metadata": {},
   "source": [
    "## Model Training"
   ]
  },
  {
   "cell_type": "code",
   "execution_count": 60,
   "metadata": {},
   "outputs": [],
   "source": [
    "# split 80-20\n",
    "(training, test) = user_features.randomSplit([0.8, 0.2], seed= 42)"
   ]
  },
  {
   "cell_type": "code",
   "execution_count": 61,
   "metadata": {},
   "outputs": [
    {
     "name": "stdout",
     "output_type": "stream",
     "text": [
      "Root-mean-squared-error = 0.767\n"
     ]
    }
   ],
   "source": [
    "# train the recommender with als\n",
    "als_alg = ALS(maxIter=5, \n",
    "              regParam=0.01, \n",
    "              userCol='customer_index', \n",
    "              itemCol=\"product_index\", \n",
    "              ratingCol='review_score',\n",
    "              coldStartStrategy='drop', \n",
    "              seed = 3)\n",
    "\n",
    "model=als_alg.fit(training)\n",
    "\n",
    "# evaluate with the holdout set\n",
    "predictions = model.transform(test)\n",
    "\n",
    "evaluator = RegressionEvaluator(metricName='rmse',\n",
    "                                labelCol='review_score',\n",
    "                                predictionCol='prediction')\n",
    "rmse = evaluator.evaluate(predictions)\n",
    "\n",
    "print(\"Root-mean-squared-error = \" + str(round(rmse, 3)))"
   ]
  },
  {
   "cell_type": "markdown",
   "metadata": {},
   "source": [
    "## Generate user and product recommendations\n",
    "\n",
    "These can be sampled from to output predictions for specific users."
   ]
  },
  {
   "cell_type": "code",
   "execution_count": 62,
   "metadata": {},
   "outputs": [],
   "source": [
    "# generate top 5 product recommendations for user\n",
    "user_recs = model.recommendForAllUsers(5)\n"
   ]
  },
  {
   "cell_type": "code",
   "execution_count": 63,
   "metadata": {},
   "outputs": [
    {
     "data": {
      "text/plain": [
       "[Row(product_index=[3122, 6583, 2815, 1364, 2351], rating=[8.74084186553955, 8.381982803344727, 8.03279972076416, 7.954357147216797, 7.855741500854492])]"
      ]
     },
     "execution_count": 63,
     "metadata": {},
     "output_type": "execute_result"
    }
   ],
   "source": [
    "user_recs.where(user_recs.customer_index == 728).select(\"recommendations.product_index\", \"recommendations.rating\").collect()"
   ]
  },
  {
   "cell_type": "code",
   "execution_count": 64,
   "metadata": {},
   "outputs": [],
   "source": [
    "product_recs = model.recommendForAllItems(10)"
   ]
  },
  {
   "cell_type": "code",
   "execution_count": 65,
   "metadata": {},
   "outputs": [
    {
     "name": "stdout",
     "output_type": "stream",
     "text": [
      "+--------------+-----------------------------------------------------------------------------------------------+\n",
      "|customer_index|recommendations                                                                                |\n",
      "+--------------+-----------------------------------------------------------------------------------------------+\n",
      "|28            |[{1079, 8.19504}, {2325, 8.102985}, {1979, 7.702739}, {3122, 7.689831}, {1744, 7.307098}]      |\n",
      "|31            |[{2758, 19.74845}, {1700, 19.039661}, {2165, 18.61437}, {984, 17.944609}, {951, 17.652035}]    |\n",
      "|34            |[{358, 10.140588}, {1668, 10.120234}, {1283, 9.923436}, {1254, 9.726533}, {1281, 9.715166}]    |\n",
      "|53            |[{4163, 8.803051}, {2150, 8.466472}, {2615, 8.005125}, {723, 7.9910007}, {2041, 7.9739823}]    |\n",
      "|65            |[{5262, 9.820147}, {2327, 9.441342}, {1732, 9.422139}, {3258, 9.079272}, {2456, 9.049652}]     |\n",
      "|78            |[{3151, 10.416695}, {1147, 10.159479}, {1103, 10.02924}, {908, 9.4026985}, {2993, 9.1943245}]  |\n",
      "|81            |[{3787, 8.713407}, {1737, 8.567405}, {1172, 8.443583}, {1477, 8.415179}, {2239, 8.099145}]     |\n",
      "|85            |[{2376, 10.424744}, {4025, 10.279799}, {1808, 9.15348}, {2134, 9.101909}, {1052, 8.735822}]    |\n",
      "|101           |[{1606, 6.588626}, {994, 6.5582848}, {2427, 6.458578}, {1541, 6.158696}, {1564, 6.0599017}]    |\n",
      "|108           |[{1678, 9.787087}, {1444, 9.103723}, {3003, 9.062777}, {1735, 9.000708}, {1209, 8.73657}]      |\n",
      "|115           |[{1793, 9.415183}, {3654, 8.598092}, {1103, 8.412611}, {1502, 8.288385}, {1016, 8.271252}]     |\n",
      "|126           |[{2342, 9.227229}, {4279, 8.81178}, {2381, 8.733575}, {1187, 8.5900345}, {989, 8.567561}]      |\n",
      "|133           |[{2842, 9.797718}, {6088, 8.747473}, {1348, 8.61587}, {1288, 8.463905}, {5090, 8.283697}]      |\n",
      "|137           |[{3325, 2.3808136}, {4640, 2.2552521}, {1965, 2.2532847}, {1650, 2.243348}, {1333, 2.1200101}] |\n",
      "|148           |[{1352, 9.7651205}, {2525, 9.450409}, {7138, 9.354437}, {1211, 8.927395}, {1099, 8.8488}]      |\n",
      "|155           |[{2008, 1.5799984}, {2667, 1.4745132}, {4750, 1.3874066}, {5186, 1.3304775}, {4374, 1.3208766}]|\n",
      "|183           |[{786, 9.050791}, {1079, 8.90734}, {1363, 8.838095}, {1208, 8.649029}, {1987, 8.545947}]       |\n",
      "|193           |[{2074, 6.3641925}, {1209, 6.258366}, {2313, 6.2537627}, {2413, 6.2282014}, {1571, 6.186639}]  |\n",
      "|210           |[{2307, 10.424351}, {1982, 9.939856}, {1404, 9.067431}, {1364, 9.036148}, {2459, 9.028399}]    |\n",
      "|211           |[{2428, 4.978482}, {1436, 4.6556053}, {763, 4.451513}, {1461, 4.3835883}, {1991, 4.005792}]    |\n",
      "+--------------+-----------------------------------------------------------------------------------------------+\n",
      "only showing top 20 rows\n",
      "\n"
     ]
    }
   ],
   "source": [
    "user_recs.show(truncate=False)"
   ]
  },
  {
   "cell_type": "code",
   "execution_count": 66,
   "metadata": {},
   "outputs": [
    {
     "name": "stdout",
     "output_type": "stream",
     "text": [
      "+-------------+---------------------------------------------------------------------------------------------------------------------------------------------------------------------------------------------------+\n",
      "|product_index|recommendations                                                                                                                                                                                    |\n",
      "+-------------+---------------------------------------------------------------------------------------------------------------------------------------------------------------------------------------------------+\n",
      "|28           |[{345, 6.918575}, {61, 6.63913}, {106, 6.1025157}, {2778, 4.9998403}, {3882, 4.9998255}, {90959, 4.9958224}, {89923, 4.9958224}, {89310, 4.9958224}, {88108, 4.9958224}, {87193, 4.9958224}]       |\n",
      "|31           |[{61, 5.4109335}, {4144, 4.999881}, {91003, 4.995648}, {90270, 4.995648}, {89932, 4.995648}, {88773, 4.995648}, {88074, 4.995648}, {87809, 4.995648}, {86389, 4.995648}, {86190, 4.995648}]        |\n",
      "|34           |[{234, 9.23165}, {3401, 8.960572}, {753, 8.291896}, {993, 8.1764}, {86440, 7.6487713}, {85497, 7.6487713}, {83059, 7.6487713}, {83010, 7.6487713}, {82581, 7.6487713}, {81466, 7.6487713}]         |\n",
      "|53           |[{44, 6.5076637}, {71, 5.641885}, {2287, 5.159403}, {88225, 4.9929543}, {86287, 4.9929543}, {83365, 4.9929543}, {79468, 4.9929543}, {79068, 4.9929543}, {78908, 4.9929543}, {76496, 4.9929543}]    |\n",
      "|65           |[{1306, 7.374996}, {226, 5.9585185}, {2345, 5.7681866}, {3336, 5.5339255}, {4275, 5.4657283}, {2366, 5.3718925}, {2996, 5.3628616}, {4436, 5.2986813}, {88357, 4.997554}, {88179, 4.997554}]       |\n",
      "|78           |[{3544, 11.621147}, {2673, 11.621147}, {2184, 11.621147}, {3400, 8.381468}, {71, 7.82168}, {191, 6.7128077}, {2789, 6.6281447}, {4220, 6.6246934}, {4120, 6.6246934}, {3941, 6.6246934}]           |\n",
      "|81           |[{5150, 13.3999}, {5154, 10.4000845}, {724, 9.467597}, {1306, 9.409616}, {4663, 9.351165}, {3584, 9.351165}, {3370, 9.351165}, {2879, 9.351165}, {2722, 9.351165}, {1577, 9.351165}]               |\n",
      "|85           |[{2820, 10.545226}, {162, 10.186541}, {2366, 9.445985}, {167, 8.8194}, {2245, 8.365302}, {141, 7.753369}, {91139, 7.0959616}, {90896, 7.0959616}, {89575, 7.0959616}, {86067, 7.0959616}]          |\n",
      "|101          |[{1306, 9.227909}, {106, 6.546289}, {345, 6.4456005}, {4663, 6.099974}, {3584, 6.099974}, {3370, 6.099974}, {2879, 6.099974}, {2722, 6.099974}, {1577, 6.099974}, {1556, 6.099974}]                |\n",
      "|108          |[{4311, 12.976791}, {1354, 12.968593}, {3689, 11.850727}, {3544, 11.7985}, {2673, 11.7985}, {2184, 11.7985}, {234, 11.777835}, {2512, 11.640842}, {2335, 11.050225}, {2832, 10.996145}]            |\n",
      "|115          |[{3747, 9.250506}, {977, 9.19013}, {3401, 8.860493}, {2121, 8.784188}, {1745, 8.329471}, {91169, 8.15722}, {90318, 8.15722}, {89917, 8.15722}, {89468, 8.15722}, {89453, 8.15722}]                 |\n",
      "|126          |[{3544, 13.80213}, {2673, 13.80213}, {2184, 13.80213}, {3400, 9.853709}, {71, 9.785623}, {200, 7.611652}, {5150, 7.5363793}, {2369, 7.51582}, {2287, 7.3107104}, {5020, 7.249409}]                 |\n",
      "|133          |[{753, 8.16605}, {993, 7.5316405}, {86440, 7.3263874}, {85497, 7.3263874}, {83059, 7.3263874}, {83010, 7.3263874}, {82581, 7.3263874}, {81466, 7.3263874}, {80982, 7.3263874}, {80968, 7.3263874}] |\n",
      "|137          |[{200, 14.591704}, {44, 11.661879}, {3640, 11.126854}, {1354, 10.400609}, {2326, 10.3323765}, {2512, 8.974254}, {3277, 8.779456}, {3544, 8.394764}, {2673, 8.394764}, {2184, 8.394764}]            |\n",
      "|148          |[{5041, 12.588082}, {3401, 12.533714}, {753, 11.499772}, {510, 9.741985}, {86440, 9.686421}, {85497, 9.686421}, {83059, 9.686421}, {83010, 9.686421}, {82581, 9.686421}, {81466, 9.686421}]        |\n",
      "|155          |[{200, 10.274115}, {5154, 9.998463}, {31, 8.690974}, {3400, 8.168445}, {1306, 7.7172523}, {5150, 7.6943393}, {1164, 7.4400554}, {4262, 7.4131727}, {4275, 7.06472}, {3391, 6.9272127}]             |\n",
      "|183          |[{1306, 8.633131}, {4925, 7.8131766}, {345, 7.5798173}, {2016, 7.3115344}, {3594, 7.267393}, {90203, 7.227432}, {89826, 7.227432}, {89748, 7.227432}, {89214, 7.227432}, {88089, 7.227432}]        |\n",
      "|193          |[{234, 20.72496}, {3640, 18.098211}, {2512, 16.484148}, {2832, 15.049027}, {1354, 15.032584}, {2021, 14.986165}, {3588, 14.829132}, {91357, 14.7559185}, {90567, 14.7559185}, {89456, 14.7559185}] |\n",
      "|210          |[{61, 5.6010365}, {3758, 5.0237226}, {72398, 4.997207}, {37708, 4.997207}, {23389, 4.997207}, {17192, 4.997207}, {12167, 4.997207}, {3882, 4.70532}, {1675, 4.7037635}, {44, 4.567499}]            |\n",
      "|211          |[{4876, 10.484437}, {3137, 10.484437}, {2613, 10.484437}, {599, 10.484437}, {91091, 10.358711}, {90342, 10.358711}, {89864, 10.358711}, {88313, 10.358711}, {87448, 10.358711}, {87337, 10.358711}]|\n",
      "+-------------+---------------------------------------------------------------------------------------------------------------------------------------------------------------------------------------------------+\n",
      "only showing top 20 rows\n",
      "\n"
     ]
    }
   ],
   "source": [
    "product_recs.show(truncate=False)"
   ]
  },
  {
   "cell_type": "code",
   "execution_count": 67,
   "metadata": {},
   "outputs": [
    {
     "name": "stdout",
     "output_type": "stream",
     "text": [
      "+--------------+--------------------+\n",
      "|customer_index|     recommendations|\n",
      "+--------------+--------------------+\n",
      "|          5360|[{1858, 4.999555}...|\n",
      "|          5776|[{660, 6.7424064}...|\n",
      "|          5858|[{1829, 31.782501...|\n",
      "+--------------+--------------------+\n",
      "\n"
     ]
    }
   ],
   "source": [
    "users = user_features.select(als_alg.getUserCol()).distinct().limit(3)\n",
    "user_subset_recs = model.recommendForUserSubset(users, 10)\n",
    "user_subset_recs.show(n=4)"
   ]
  },
  {
   "cell_type": "markdown",
   "metadata": {},
   "source": [
    "### Parameter Tuning"
   ]
  },
  {
   "cell_type": "code",
   "execution_count": 102,
   "metadata": {},
   "outputs": [],
   "source": [
    "# Import the required functions\n",
    "from pyspark.ml.evaluation import RegressionEvaluator\n",
    "from pyspark.ml.recommendation import ALS\n",
    "from pyspark.ml.tuning import ParamGridBuilder, CrossValidator"
   ]
  },
  {
   "cell_type": "code",
   "execution_count": 103,
   "metadata": {},
   "outputs": [],
   "source": [
    "# train the recommender with als\n",
    "als = ALS(maxIter=5, \n",
    "              regParam=0.01, \n",
    "              userCol='customer_index', \n",
    "              itemCol=\"product_index\", \n",
    "              ratingCol='review_score',\n",
    "              coldStartStrategy='drop')"
   ]
  },
  {
   "cell_type": "code",
   "execution_count": 104,
   "metadata": {},
   "outputs": [],
   "source": [
    "# Import the requisite packages\n",
    "from pyspark.ml.tuning import ParamGridBuilder, CrossValidator\n",
    "from pyspark.ml.evaluation import RegressionEvaluator\n",
    "\n",
    "# Add hyperparameters and their respective values to param_grid\n",
    "param_grid = ParamGridBuilder() \\\n",
    "            .addGrid(als.rank, [10, 50, 100, 150]) \\\n",
    "            .addGrid(als.regParam, [.01, .05, .1, .15]) \\\n",
    "            .build()"
   ]
  },
  {
   "cell_type": "code",
   "execution_count": 105,
   "metadata": {},
   "outputs": [
    {
     "name": "stdout",
     "output_type": "stream",
     "text": [
      "Num models to be tested:  16\n"
     ]
    }
   ],
   "source": [
    "evaluator = RegressionEvaluator(\n",
    "           metricName=\"rmse\", \n",
    "           labelCol=\"review_score\", \n",
    "           predictionCol=\"prediction\") \n",
    "print (\"Num models to be tested: \", len(param_grid))"
   ]
  },
  {
   "cell_type": "code",
   "execution_count": 106,
   "metadata": {},
   "outputs": [],
   "source": [
    "# Build cross validation using CrossValidator\n",
    "cv = CrossValidator(estimator=als, estimatorParamMaps=param_grid, evaluator=evaluator, numFolds=3)"
   ]
  },
  {
   "cell_type": "code",
   "execution_count": 107,
   "metadata": {},
   "outputs": [
    {
     "name": "stdout",
     "output_type": "stream",
     "text": [
      "0.7172052405614309\n"
     ]
    }
   ],
   "source": [
    "#Fit cross validator to the 'train' dataset\n",
    "model = cv.fit(training)\n",
    "#Extract best model from the cv model above\n",
    "best_model = model.bestModel\n",
    "# View the predictions\n",
    "test_predictions = best_model.transform(test)\n",
    "RMSE = evaluator.evaluate(test_predictions)\n",
    "print(RMSE)"
   ]
  },
  {
   "cell_type": "code",
   "execution_count": 108,
   "metadata": {},
   "outputs": [
    {
     "name": "stdout",
     "output_type": "stream",
     "text": [
      "**Best Model**\n",
      "  Rank: 150\n",
      "  MaxIter: 5\n",
      "  RegParam: 0.1\n"
     ]
    }
   ],
   "source": [
    "print(\"**Best Model**\")\n",
    "# Print \"Rank\"\n",
    "print(\"  Rank:\", best_model._java_obj.parent().getRank())\n",
    "# Print \"MaxIter\"\n",
    "print(\"  MaxIter:\", best_model._java_obj.parent().getMaxIter())\n",
    "# Print \"RegParam\"\n",
    "print(\"  RegParam:\", best_model._java_obj.parent().getRegParam())"
   ]
  },
  {
   "cell_type": "code",
   "execution_count": 25,
   "metadata": {},
   "outputs": [
    {
     "name": "stdout",
     "output_type": "stream",
     "text": [
      "+--------------+--------------------+\n",
      "|customer_index|     recommendations|\n",
      "+--------------+--------------------+\n",
      "|           148|[[1358, 5.983632]...|\n",
      "|           463|[[586, 5.0032835]...|\n",
      "|           471|[[353, 4.9666333]...|\n",
      "|           496|[[14701, 3.994572...|\n",
      "|           833|[[5976, 3.981684]...|\n",
      "|          1088|[[8835, 4.0529366...|\n",
      "|          1238|[[19280, 1.956733...|\n",
      "|          1342|[[3733, 2.9766014...|\n",
      "|          1580|[[2116, 2.9813814...|\n",
      "|          1591|[[30130, 3.586678...|\n",
      "|          1645|[[8578, 2.9761343...|\n",
      "|          1829|[[8550, 2.9761338...|\n",
      "|          1959|[[23256, 3.067747...|\n",
      "|          2122|[[460, 1.9372059]...|\n",
      "|          2142|[[13069, 3.092081...|\n",
      "|          2366|[[23114, 3.457238...|\n",
      "|          2659|[[1923, 2.969991]...|\n",
      "|          2866|[[678, 3.32295], ...|\n",
      "|          3175|[[3776, 1.9789387...|\n",
      "|          3749|[[5388, 1.3674556...|\n",
      "+--------------+--------------------+\n",
      "only showing top 20 rows\n",
      "\n"
     ]
    }
   ],
   "source": [
    "# Generate n Recommendations for all users\n",
    "recommendations = best_model.recommendForAllUsers(5)\n",
    "recommendations.show()"
   ]
  },
  {
   "cell_type": "markdown",
   "metadata": {},
   "source": [
    "### Re-run model for all users"
   ]
  },
  {
   "cell_type": "code",
   "execution_count": 26,
   "metadata": {},
   "outputs": [],
   "source": [
    "# train the recommender with als\n",
    "als_alg = ALS(rank=best_model._java_obj.parent().getRank(),\n",
    "              maxIter=best_model._java_obj.parent().getMaxIter(), \n",
    "              regParam=best_model._java_obj.parent().getRegParam(), \n",
    "              userCol='customer_index', \n",
    "              itemCol=\"product_index\", \n",
    "              ratingCol='product_category_count',\n",
    "              coldStartStrategy='drop')\n",
    "\n",
    "final_model=als_alg.fit(user_features)"
   ]
  },
  {
   "cell_type": "code",
   "execution_count": 27,
   "metadata": {},
   "outputs": [
    {
     "name": "stdout",
     "output_type": "stream",
     "text": [
      "+--------------+--------------------+\n",
      "|customer_index|     recommendations|\n",
      "+--------------+--------------------+\n",
      "|           148|[[1358, 5.9854245...|\n",
      "|           463|[[586, 5.0025682]...|\n",
      "|           471|[[353, 4.9697766]...|\n",
      "|           496|[[14701, 3.999740...|\n",
      "+--------------+--------------------+\n",
      "only showing top 4 rows\n",
      "\n"
     ]
    }
   ],
   "source": [
    "# generate top_n product recommendations for user\n",
    "nrecommend = 5\n",
    "user_recs = final_model.recommendForAllUsers(nrecommend)\n",
    "user_recs.show(4)"
   ]
  },
  {
   "cell_type": "code",
   "execution_count": 28,
   "metadata": {},
   "outputs": [],
   "source": [
    "recs = user_recs.toPandas()"
   ]
  },
  {
   "cell_type": "markdown",
   "metadata": {},
   "source": [
    "## Recommender Function"
   ]
  },
  {
   "cell_type": "code",
   "execution_count": 29,
   "metadata": {},
   "outputs": [],
   "source": [
    "# Generate pandas df for accessing products in recommender function\n",
    "products = item_features.toPandas()"
   ]
  },
  {
   "cell_type": "code",
   "execution_count": 32,
   "metadata": {},
   "outputs": [],
   "source": [
    "user_features_df = user_features.toPandas()"
   ]
  },
  {
   "cell_type": "code",
   "execution_count": 33,
   "metadata": {},
   "outputs": [],
   "source": [
    "def user_recommendations(user_id, top_n = 3):\n",
    "    \n",
    "    if top_n > nrecommend:\n",
    "        print(\"Please select up to {} items to recommend\".format(nrecommend))\n",
    "        return; \n",
    "    \n",
    "    prior_purchases = user_features_df[user_features_df['customer_unique_id'] == user_id]\\\n",
    "                                                                                        ['product_id'].unique()\n",
    "    num_items = len(prior_purchases)\n",
    "    \n",
    "    if num_items < 3:\n",
    "        items = num_items\n",
    "    else:\n",
    "        items = 3\n",
    "    \n",
    "    print(\"User: {}\\n\".format(user_id))\n",
    "    print(\"Known positives: \")\n",
    "    for n in range(items):\n",
    "        known_like_product = user_features_df[user_features_df['customer_unique_id'] == user_id]\\\n",
    "                                                            ['product_id'].unique()[n]\n",
    "        known_like_category = products[products['product_id'] == known_like_product]\\\n",
    "                                                            ['product_category_name'].unique()[0]\n",
    "    \n",
    "        print(\"\\t\", known_like_product)\n",
    "        print(\"\\t\", known_like_category, \"\\n\")\n",
    "    \n",
    "    \n",
    "    customer_index = user_features_df[user_features_df['customer_unique_id'] == user_id]\\\n",
    "                                                            ['customer_index'].unique()[0]\n",
    "    print(\"Top {} Recommendations: \\n\".format(top_n))\n",
    "    rec_products = []\n",
    "    \n",
    "    for n in range(top_n):\n",
    "        \n",
    "        rec_products.append(list(recs[recs['customer_index'] == customer_index]['recommendations'])[0][n][0])\n",
    "        \n",
    "        print(\"{}.\\n\".format(n+1), products[products['product_index'] == rec_products[n]]\\\n",
    "                                                  [['product_id', 'product_category_name']].iloc[0][0])\n",
    "        \n",
    "        print(products[products['product_index'] == rec_products[n]]\\\n",
    "                                                  [['product_id', 'product_category_name']].iloc[0][1])"
   ]
  },
  {
   "cell_type": "markdown",
   "metadata": {},
   "source": [
    "__Test for customer_id = 'c8ed31310fc440a3f8031b177f9842c3'__"
   ]
  },
  {
   "cell_type": "code",
   "execution_count": 34,
   "metadata": {},
   "outputs": [
    {
     "name": "stdout",
     "output_type": "stream",
     "text": [
      "User: c8ed31310fc440a3f8031b177f9842c3\n",
      "\n",
      "Known positives: \n",
      "\t 1065e0ebef073787a7bf691924c60eeb\n",
      "\t construction_tools_construction \n",
      "\n",
      "\t 0cf2faf9749f53924cea652a09d8e327\n",
      "\t construction_tools_construction \n",
      "\n",
      "\t 309dd69eb83cea38c51709d62befe1a4\n",
      "\t construction_tools_construction \n",
      "\n",
      "Top 5 Recommendations: \n",
      "\n",
      "1.\n",
      " 15b1f9b06d0e709552d7d8638387e09b\n",
      "furniture_decor\n",
      "2.\n",
      " 7189fb70393a0b87189f93f19655f8db\n",
      "toys\n",
      "3.\n",
      " 3e7ec3672e5549ba74cf635752bfc70b\n",
      "furniture_decor\n",
      "4.\n",
      " 14ad6805c263d8d758d648f46a06570e\n",
      "baby\n",
      "5.\n",
      " 329c661807f085964b1877bfeca6ff73\n",
      "furniture_decor\n"
     ]
    }
   ],
   "source": [
    "user_recommendations('c8ed31310fc440a3f8031b177f9842c3', top_n=5)"
   ]
  },
  {
   "cell_type": "markdown",
   "metadata": {},
   "source": [
    "__Test for customer_id = '698e1cf81d01a3d389d96145f7fa6df8'__"
   ]
  },
  {
   "cell_type": "code",
   "execution_count": 35,
   "metadata": {},
   "outputs": [
    {
     "name": "stdout",
     "output_type": "stream",
     "text": [
      "User: 698e1cf81d01a3d389d96145f7fa6df8\n",
      "\n",
      "Known positives: \n",
      "\t 9571759451b1d780ee7c15012ea109d4\n",
      "\t auto \n",
      "\n",
      "Top 5 Recommendations: \n",
      "\n",
      "1.\n",
      " 0a4f9f421af66d2ea061fbb8883419f7\n",
      "health_beauty\n",
      "2.\n",
      " fdd84aefb08c8f8225e0b8c97429d53b\n",
      "health_beauty\n",
      "3.\n",
      " 12485f9cdebb6ca179826ede539554ad\n",
      "air_conditioning\n",
      "4.\n",
      " 616042729c11849827291496b18e9ec5\n",
      "sports_leisure\n",
      "5.\n",
      " 7a5c07212703b5f01ee199d29a29a587\n",
      "cool_stuff\n"
     ]
    }
   ],
   "source": [
    "user_recommendations('698e1cf81d01a3d389d96145f7fa6df8', top_n=5)"
   ]
  },
  {
   "cell_type": "markdown",
   "metadata": {},
   "source": [
    "__Test for customer_id = '89be58cbdd6ef318e3ed93fdb22be178'__"
   ]
  },
  {
   "cell_type": "code",
   "execution_count": 36,
   "metadata": {},
   "outputs": [
    {
     "name": "stdout",
     "output_type": "stream",
     "text": [
      "User: 89be58cbdd6ef318e3ed93fdb22be178\n",
      "\n",
      "Known positives: \n",
      "\t 3fdb534dccf5bc9ab0406944b913787d\n",
      "\t diapers_and_hygiene \n",
      "\n",
      "Top 5 Recommendations: \n",
      "\n",
      "1.\n",
      " 779dd392d4fbe5ca656bf3ceabecbf0b\n",
      "construction_tools_construction\n",
      "2.\n",
      " bdcf6a834e8faa30dac3886c7a58e92e\n",
      "health_beauty\n",
      "3.\n",
      " 91b08d34d0ba4db44da2dc382867ba49\n",
      "telephony\n",
      "4.\n",
      " 1b8ee158f59c098470fad33f39660964\n",
      "furniture_living_room\n",
      "5.\n",
      " d9339c5714743c460a9470730f79f6c5\n",
      "computers_accessories\n"
     ]
    }
   ],
   "source": [
    "user_recommendations('89be58cbdd6ef318e3ed93fdb22be178', top_n=5)"
   ]
  },
  {
   "cell_type": "markdown",
   "metadata": {},
   "source": [
    "## Summary of Results"
   ]
  },
  {
   "cell_type": "markdown",
   "metadata": {},
   "source": [
    "It's clear after producing a simple recommendation system with matrix factorization using only users prior purchase history that this dataset simply does not have the data necessary to give accurate results. Many of the attempted recommendations produced results that are clearly not relevant for the user. As can be seen in the suggestions above, many of the top items are from categories very different from the original purchase. \n",
    "\n",
    "Comparing these same recommendations with LightFM shows how well hybrid recommenders can do for data sets like this one, with very few return users. "
   ]
  },
  {
   "cell_type": "code",
   "execution_count": null,
   "metadata": {},
   "outputs": [],
   "source": []
  }
 ],
 "metadata": {
  "kernelspec": {
   "display_name": "Python 3",
   "language": "python",
   "name": "python3"
  },
  "language_info": {
   "codemirror_mode": {
    "name": "ipython",
    "version": 3
   },
   "file_extension": ".py",
   "mimetype": "text/x-python",
   "name": "python",
   "nbconvert_exporter": "python",
   "pygments_lexer": "ipython3",
   "version": "3.10.13"
  }
 },
 "nbformat": 4,
 "nbformat_minor": 2
}
