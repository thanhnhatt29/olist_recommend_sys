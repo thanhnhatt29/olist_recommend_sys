{
 "cells": [
  {
   "cell_type": "markdown",
   "metadata": {},
   "source": [
    "# Spark Recommender System"
   ]
  },
  {
   "cell_type": "code",
   "execution_count": 27,
   "metadata": {},
   "outputs": [],
   "source": [
    "# import necessary modules\n",
    "import os\n",
    "import shutil\n",
    "import pyspark as ps\n",
    "from pyspark.ml import Pipeline, Transformer\n",
    "from pyspark.ml.evaluation import RegressionEvaluator\n",
    "from pyspark.ml.recommendation import ALS, ALSModel\n",
    "from pyspark.sql import Row\n",
    "from pyspark.sql.types import DoubleType"
   ]
  },
  {
   "cell_type": "code",
   "execution_count": 28,
   "metadata": {},
   "outputs": [
    {
     "name": "stdout",
     "output_type": "stream",
     "text": [
      "3.5.0\n"
     ]
    }
   ],
   "source": [
    "# create spark context\n",
    "spark = (ps.sql.SparkSession.builder\n",
    "        .appName(\"ALS model\")\n",
    "        .getOrCreate()\n",
    "        )\n",
    "sc = spark.sparkContext\n",
    "print(spark.version)"
   ]
  },
  {
   "cell_type": "markdown",
   "metadata": {},
   "source": [
    "## Read in Data\n",
    "\n",
    "We will use user clusters as part of user features for our model here. "
   ]
  },
  {
   "cell_type": "code",
   "execution_count": 29,
   "metadata": {},
   "outputs": [],
   "source": [
    "# source data from prior step\n",
    "data_dir = os.path.join(\"clean_data\", \"\")\n",
    "file = os.path.join(data_dir, \"spark_master.csv\")\n",
    "\n",
    "# options are specified to read in data without error\n",
    "df_master = spark.read.format(\"csv\")\\\n",
    "               .option(\"multiline\", \"true\")\\\n",
    "               .option(\"header\", \"true\")\\\n",
    "               .option(\"inferSchema\", \"true\")\\\n",
    "               .load(file)"
   ]
  },
  {
   "cell_type": "markdown",
   "metadata": {},
   "source": [
    "## Create use and item feature matrices"
   ]
  },
  {
   "cell_type": "code",
   "execution_count": 30,
   "metadata": {},
   "outputs": [],
   "source": [
    "user_features = df_master.select(df_master['customer_unique_id'], \n",
    "                               df_master['product_id'], \n",
    "                               df_master['review_score'])"
   ]
  },
  {
   "cell_type": "code",
   "execution_count": 31,
   "metadata": {},
   "outputs": [
    {
     "data": {
      "text/plain": [
       "108455"
      ]
     },
     "execution_count": 31,
     "metadata": {},
     "output_type": "execute_result"
    }
   ],
   "source": [
    "user_features = user_features.sort(\"customer_unique_id\")\n",
    "user_features.count()"
   ]
  },
  {
   "cell_type": "code",
   "execution_count": 32,
   "metadata": {},
   "outputs": [],
   "source": [
    "# check any missing value\n",
    "from pyspark.sql.functions import isnan, when, count, col\n",
    "\n",
    "def check_any_missing_value(df):\n",
    "    missing_counts = df.select([count(when(col(c).isNull(), c)).alias(c) for c in df.columns])\n",
    "    missing_counts.show()"
   ]
  },
  {
   "cell_type": "code",
   "execution_count": 33,
   "metadata": {},
   "outputs": [
    {
     "name": "stdout",
     "output_type": "stream",
     "text": [
      "+------------------+----------+------------+\n",
      "|customer_unique_id|product_id|review_score|\n",
      "+------------------+----------+------------+\n",
      "|                 0|         0|           0|\n",
      "+------------------+----------+------------+\n",
      "\n"
     ]
    }
   ],
   "source": [
    "user_features = user_features.dropna()\n",
    "check_any_missing_value(user_features)"
   ]
  },
  {
   "cell_type": "code",
   "execution_count": null,
   "metadata": {},
   "outputs": [],
   "source": [
    "user_features.select('review_score').distinct().collect()"
   ]
  },
  {
   "cell_type": "code",
   "execution_count": 34,
   "metadata": {},
   "outputs": [
    {
     "data": {
      "text/plain": [
       "97686"
      ]
     },
     "execution_count": 34,
     "metadata": {},
     "output_type": "execute_result"
    }
   ],
   "source": [
    "from pyspark.sql.functions import mean\n",
    "\n",
    "user_features = user_features.groupBy(\"customer_unique_id\",\"product_id\") \\\n",
    "    .agg(mean('review_score').alias('review_score'))\n",
    "    # .mean(\"review_score\").alias(\"review_score\")\n",
    "\n",
    "user_features.count()"
   ]
  },
  {
   "cell_type": "code",
   "execution_count": 35,
   "metadata": {},
   "outputs": [
    {
     "name": "stdout",
     "output_type": "stream",
     "text": [
      "+--------------------+--------------------+------------+\n",
      "|  customer_unique_id|          product_id|review_score|\n",
      "+--------------------+--------------------+------------+\n",
      "|f507945d757fe904e...|f3b8bfa5b86249e75...|         1.0|\n",
      "|e59d98970fee89f12...|abc3432ff825d8e52...|         5.0|\n",
      "|f7089cec59a3515cb...|9615c720e219d641f...|         4.0|\n",
      "|5097528b417fe105b...|2d65aa8c163f7a8dc...|         5.0|\n",
      "|c3ec2ad05ad7887e8...|bddc1407637849d18...|         4.0|\n",
      "|56018f90d63660400...|71da6d6632902431c...|         5.0|\n",
      "|5745d934dfb11a294...|b184461ba53ea15b7...|         5.0|\n",
      "|ba4ed9f6b174012ec...|50e9e70a21b874311...|         5.0|\n",
      "|057f54779f0908b7b...|98a5e061c4731a1d4...|         2.0|\n",
      "|886d5f561ce675d06...|9b968712a8768d8e2...|         4.0|\n",
      "|99be275a1517effe1...|bc4a074ab7a7ff14e...|         5.0|\n",
      "|b067d457d34c2533b...|2ed4ea5a5394cfcb0...|         2.0|\n",
      "|97107c892093c359b...|bb9a7bcdb8c9facc7...|         1.0|\n",
      "|4d7ad8005bec85fd6...|8a2c3b7ed6d098de8...|         5.0|\n",
      "|1b277f8bf9377e4d8...|d315b738a6e96f4d9...|         1.0|\n",
      "|4965d8d652518d91e...|6fa96cbd1d917acb1...|         5.0|\n",
      "|fcf2ba2ef07129a98...|306e6b5dda3397e4a...|         4.0|\n",
      "|914dfdee6667429de...|617186c3d97ea56c9...|         1.0|\n",
      "|560046dc7dd7b822b...|809e226beeb0526cf...|         5.0|\n",
      "|0bf1278577a2acf85...|389d119b48cf3043d...|         4.0|\n",
      "+--------------------+--------------------+------------+\n",
      "only showing top 20 rows\n",
      "\n"
     ]
    }
   ],
   "source": [
    "user_features.show()"
   ]
  },
  {
   "cell_type": "markdown",
   "metadata": {},
   "source": [
    "## Index user and product ids"
   ]
  },
  {
   "cell_type": "code",
   "execution_count": 36,
   "metadata": {
    "scrolled": false
   },
   "outputs": [
    {
     "name": "stdout",
     "output_type": "stream",
     "text": [
      "+--------------------+--------------+--------------------+-------------+\n",
      "|  customer_unique_id|customer_index|          product_id|product_index|\n",
      "+--------------------+--------------+--------------------+-------------+\n",
      "|0000366f3b9a7992b...|        5166.0|372645c7439f9661f...|        451.0|\n",
      "|0000b849f77a49e4a...|        5167.0|5099f7000472b634f...|       2313.0|\n",
      "|0000f46a3911fa3c0...|        5168.0|64b488de448a5324c...|       3486.0|\n",
      "|0000f6ccb0745a6a4...|        5169.0|2345a354a6f203360...|       5592.0|\n",
      "|0004aac84e0df4da2...|        5170.0|c72e18b3fe2739b8d...|      27381.0|\n",
      "|0004bd2a26a76fe21...|        5171.0|25cf184645f3fae66...|       5607.0|\n",
      "|00050ab1314c0e55a...|        5172.0|8cefe1c6f2304e7e6...|       2900.0|\n",
      "|00053a61a98854899...|         726.0|62984ea1bba7fcea1...|       4526.0|\n",
      "|00053a61a98854899...|         726.0|58727e154e8e85d84...|       1134.0|\n",
      "|0005e1862207bf6cc...|        5173.0|e24f73b7631ee3fbb...|        887.0|\n",
      "+--------------------+--------------+--------------------+-------------+\n",
      "only showing top 10 rows\n",
      "\n"
     ]
    }
   ],
   "source": [
    "from pyspark.ml.feature import StringIndexer\n",
    "\n",
    "# create object of StringIndexer class and specify input and output column\n",
    "SI_customer = StringIndexer(inputCol='customer_unique_id',outputCol='customer_index')\n",
    "SI_product = StringIndexer(inputCol='product_id',outputCol='product_index')\n",
    "\n",
    "# transform the data\n",
    "user_features = SI_customer.fit(user_features).transform(user_features)\n",
    "user_features = SI_product.fit(user_features).transform(user_features)\n",
    "\n",
    "# view the transformed data\n",
    "user_features.select('customer_unique_id', 'customer_index', 'product_id', 'product_index').show(10)"
   ]
  },
  {
   "cell_type": "code",
   "execution_count": 37,
   "metadata": {},
   "outputs": [],
   "source": [
    "from pyspark.sql.types import IntegerType\n",
    "# convert columns to integer types\n",
    "user_features = user_features.withColumn(\"review_score\",\n",
    "                                        user_features[\"review_score\"].cast(IntegerType()))"
   ]
  },
  {
   "cell_type": "code",
   "execution_count": 38,
   "metadata": {},
   "outputs": [
    {
     "name": "stdout",
     "output_type": "stream",
     "text": [
      "+------------------+----------+------------+--------------+-------------+\n",
      "|customer_unique_id|product_id|review_score|customer_index|product_index|\n",
      "+------------------+----------+------------+--------------+-------------+\n",
      "+------------------+----------+------------+--------------+-------------+\n",
      "\n"
     ]
    }
   ],
   "source": [
    "user_features.where((user_features.review_score > 5) | (user_features.review_score < 1)).show()"
   ]
  },
  {
   "cell_type": "markdown",
   "metadata": {},
   "source": [
    "## Model Training"
   ]
  },
  {
   "cell_type": "code",
   "execution_count": 39,
   "metadata": {},
   "outputs": [],
   "source": [
    "# split 80-20\n",
    "(training, test) = user_features.randomSplit([0.8, 0.2], seed= 42)"
   ]
  },
  {
   "cell_type": "code",
   "execution_count": 40,
   "metadata": {},
   "outputs": [
    {
     "name": "stdout",
     "output_type": "stream",
     "text": [
      "Root-mean-squared-error = 0.791\n"
     ]
    }
   ],
   "source": [
    "# # train the recommender with als\n",
    "# als_alg = ALS(maxIter=5, \n",
    "#               regParam=0.01, \n",
    "#               userCol='customer_index', \n",
    "#               itemCol=\"product_index\", \n",
    "#               ratingCol='review_score',\n",
    "#               coldStartStrategy='drop', \n",
    "#               seed = 3)\n",
    "\n",
    "# model=als_alg.fit(training)\n",
    "\n",
    "# # evaluate with the holdout set\n",
    "# predictions = model.transform(test)\n",
    "\n",
    "# evaluator = RegressionEvaluator(metricName='rmse',\n",
    "#                                 labelCol='review_score',\n",
    "#                                 predictionCol='prediction')\n",
    "# rmse = evaluator.evaluate(predictions)\n",
    "\n",
    "# print(\"Root-mean-squared-error = \" + str(round(rmse, 3)))"
   ]
  },
  {
   "cell_type": "markdown",
   "metadata": {},
   "source": [
    "## Generate user and product recommendations\n",
    "\n",
    "These can be sampled from to output predictions for specific users."
   ]
  },
  {
   "cell_type": "code",
   "execution_count": 41,
   "metadata": {},
   "outputs": [],
   "source": [
    "# # generate top 5 product recommendations for user\n",
    "# user_recs = model.recommendForAllUsers(5)\n"
   ]
  },
  {
   "cell_type": "code",
   "execution_count": 42,
   "metadata": {},
   "outputs": [
    {
     "name": "stdout",
     "output_type": "stream",
     "text": [
      "+--------------+----------------------------------------------------------------------------------------------+\n",
      "|customer_index|recommendations                                                                               |\n",
      "+--------------+----------------------------------------------------------------------------------------------+\n",
      "|28            |[{5239, 8.591616}, {2221, 8.454046}, {1591, 8.136092}, {2967, 8.027724}, {1305, 7.9842086}]   |\n",
      "|31            |[{3265, 31.620695}, {1144, 24.839703}, {1562, 24.37097}, {1648, 23.669706}, {4239, 23.259539}]|\n",
      "|34            |[{1313, 10.192295}, {606, 8.620806}, {3473, 8.282006}, {2566, 8.25243}, {970, 8.24069}]       |\n",
      "|53            |[{3801, 9.271465}, {1159, 8.952887}, {2475, 8.172123}, {969, 8.152481}, {1552, 7.9951453}]    |\n",
      "|65            |[{1317, 10.571407}, {1502, 9.80579}, {2671, 9.321613}, {2245, 9.25376}, {678, 8.876094}]      |\n",
      "|78            |[{3206, 9.30542}, {1522, 9.105015}, {1775, 8.748946}, {1875, 8.656139}, {2325, 8.513549}]     |\n",
      "|81            |[{2544, 9.97822}, {1048, 9.922913}, {2502, 9.564446}, {1525, 8.97151}, {2274, 8.700055}]      |\n",
      "|85            |[{1922, 10.160906}, {2267, 9.437816}, {2338, 9.311887}, {3306, 9.228666}, {1571, 8.972626}]   |\n",
      "|101           |[{1028, 9.107401}, {2270, 8.769315}, {874, 8.590856}, {1916, 8.514763}, {3486, 8.3191}]       |\n",
      "|108           |[{958, 9.927302}, {1642, 9.308289}, {2808, 8.615459}, {1571, 8.40739}, {1441, 8.3799305}]     |\n",
      "|115           |[{1775, 10.160455}, {1039, 9.165348}, {1348, 9.151339}, {1541, 9.138711}, {981, 8.778483}]    |\n",
      "|126           |[{866, 9.71002}, {2599, 9.20959}, {3523, 8.957639}, {4315, 8.804865}, {3314, 8.727849}]       |\n",
      "|133           |[{928, 8.75111}, {3994, 8.534246}, {2414, 7.95434}, {6892, 7.8364315}, {2349, 7.821208}]      |\n",
      "|137           |[{626, 2.987476}, {2221, 2.8452582}, {3627, 2.79837}, {2519, 2.7904305}, {4670, 2.7451587}]   |\n",
      "|148           |[{1369, 9.293924}, {1017, 8.9216}, {1106, 8.880048}, {1693, 8.529738}, {2418, 8.482705}]      |\n",
      "|155           |[{4490, 10.085432}, {2344, 10.017205}, {1542, 9.71292}, {728, 8.855888}, {1626, 8.63532}]     |\n",
      "|183           |[{1782, 14.946898}, {797, 13.7460785}, {4786, 12.93647}, {2069, 12.799778}, {3486, 12.473908}]|\n",
      "|193           |[{2824, 11.731647}, {1929, 11.44414}, {3197, 11.126706}, {2349, 10.485197}, {1675, 9.868306}] |\n",
      "|210           |[{1333, 11.132131}, {2793, 9.822783}, {6508, 9.084656}, {1793, 8.940713}, {3352, 8.919671}]   |\n",
      "|211           |[{1554, 4.453219}, {2874, 4.419489}, {875, 4.3383064}, {2247, 4.0368977}, {2048, 4.0350356}]  |\n",
      "+--------------+----------------------------------------------------------------------------------------------+\n",
      "only showing top 20 rows\n",
      "\n"
     ]
    }
   ],
   "source": [
    "# user_recs.show(truncate=False)"
   ]
  },
  {
   "cell_type": "code",
   "execution_count": 43,
   "metadata": {},
   "outputs": [],
   "source": [
    "# user_recs.where(user_recs.customer_index == 728).select(\"recommendations.product_index\", \"recommendations.rating\").collect()"
   ]
  },
  {
   "cell_type": "code",
   "execution_count": null,
   "metadata": {},
   "outputs": [],
   "source": [
    "# generate top 10 user recommendations for product\n",
    "# product_recs = model.recommendForAllItems(10)"
   ]
  },
  {
   "cell_type": "code",
   "execution_count": null,
   "metadata": {},
   "outputs": [
    {
     "name": "stdout",
     "output_type": "stream",
     "text": [
      "root\n",
      " |-- product_index: integer (nullable = false)\n",
      " |-- recommendations: array (nullable = true)\n",
      " |    |-- element: struct (containsNull = true)\n",
      " |    |    |-- customer_index: integer (nullable = true)\n",
      " |    |    |-- rating: float (nullable = true)\n",
      "\n"
     ]
    }
   ],
   "source": [
    "# product_recs.printSchema()"
   ]
  },
  {
   "cell_type": "code",
   "execution_count": null,
   "metadata": {},
   "outputs": [
    {
     "name": "stdout",
     "output_type": "stream",
     "text": [
      "+-------------+------------------------------------------------------------------------------------------------------------------------------------------------------------------------------------------------------+\n",
      "|product_index|recommendations                                                                                                                                                                                       |\n",
      "+-------------+------------------------------------------------------------------------------------------------------------------------------------------------------------------------------------------------------+\n",
      "|28           |[{3821, 7.414382}, {816, 5.7808323}, {2778, 4.9998965}, {90959, 4.9946795}, {89923, 4.9946795}, {89310, 4.9946795}, {88108, 4.9946795}, {87758, 4.9946795}, {84207, 4.9946795}, {83307, 4.9946795}]   |\n",
      "|31           |[{3753, 5.237474}, {2017, 5.074536}, {91003, 4.997167}, {90270, 4.997167}, {89932, 4.997167}, {88074, 4.997167}, {87809, 4.997167}, {87276, 4.997167}, {86389, 4.997167}, {86190, 4.997167}]          |\n",
      "|34           |[{2777, 5.4789214}, {2446, 5.4789214}, {1913, 5.4789214}, {660, 5.4789214}, {91290, 4.996467}, {88749, 4.996467}, {84884, 4.996467}, {78871, 4.996467}, {78015, 4.996467}, {75540, 4.996467}]         |\n",
      "|53           |[{162, 8.527464}, {931, 8.42263}, {2820, 8.209315}, {1745, 8.061979}, {91169, 7.7047396}, {89468, 7.7047396}, {89407, 7.7047396}, {89201, 7.7047396}, {87359, 7.7047396}, {87334, 7.7047396}]         |\n",
      "|65           |[{816, 7.594117}, {2820, 7.079945}, {3302, 6.765545}, {175, 6.7468157}, {1745, 6.072411}, {586, 5.5082793}, {162, 5.3336096}, {3869, 5.236714}, {88357, 4.9978957}, {83046, 4.9978957}]               |\n",
      "|78           |[{654, 8.484649}, {816, 5.8385673}, {3302, 5.2930875}, {4689, 4.9999905}, {90892, 4.997977}, {85240, 4.997977}, {82273, 4.997977}, {81814, 4.997977}, {81115, 4.997977}, {77802, 4.997977}]           |\n",
      "|81           |[{724, 8.207021}, {2777, 7.2570524}, {2446, 7.2570524}, {1913, 7.2570524}, {660, 7.2570524}, {4993, 6.889663}, {2473, 6.774895}, {4097, 6.6230974}, {463, 6.5656176}, {91294, 6.348917}]              |\n",
      "|85           |[{4908, 8.928381}, {88987, 8.7447815}, {86761, 8.7447815}, {84486, 8.7447815}, {83015, 8.7447815}, {82124, 8.7447815}, {81997, 8.7447815}, {81866, 8.7447815}, {78496, 8.7447815}, {75685, 8.7447815}]|\n",
      "|101          |[{162, 10.277366}, {2820, 8.67531}, {387, 6.3341475}, {111, 6.096583}, {3747, 5.925604}, {311, 5.9038687}, {3102, 5.8767133}, {4663, 5.5161366}, {3454, 5.5161366}, {3415, 5.5161366}]                |\n",
      "|108          |[{4400, 5.86767}, {4042, 5.86767}, {44, 5.6586685}, {3821, 5.31285}, {816, 5.2274323}, {2778, 5.156622}, {3527, 5.0921936}, {1698, 4.9999814}, {90605, 4.9972944}, {86335, 4.9972944}]                |\n",
      "|115          |[{4220, 5.0662932}, {4120, 5.0662932}, {3941, 5.0662932}, {3783, 5.0662932}, {2081, 5.0662932}, {1703, 5.0662932}, {2165, 5.0010653}, {77651, 4.997567}, {75381, 4.997567}, {70971, 4.997567}]        |\n",
      "|126          |[{3302, 7.0299425}, {4436, 6.7155356}, {4106, 6.132087}, {4083, 6.116567}, {5007, 6.0378237}, {4766, 6.0378237}, {4678, 6.0378237}, {4305, 6.0378237}, {4005, 6.0378237}, {3890, 6.0378237}]          |\n",
      "|133          |[{3544, 13.5032215}, {2673, 13.5032215}, {2184, 13.5032215}, {2017, 12.330784}, {2121, 11.126561}, {44, 10.220473}, {2326, 9.700154}, {510, 9.572675}, {2335, 9.22893}, {1679, 9.153953}]             |\n",
      "|137          |[{44, 8.466267}, {475, 8.193851}, {1544, 7.834791}, {1306, 6.72495}, {1225, 6.330278}, {333, 6.322142}, {3562, 6.2986035}, {90524, 6.263945}, {83775, 6.263945}, {81667, 6.263945}]                   |\n",
      "|148          |[{3821, 13.884069}, {3302, 12.95715}, {678, 11.255018}, {4181, 10.8586235}, {3544, 10.840642}, {2673, 10.840642}, {2184, 10.840642}, {5020, 10.007647}, {539, 10.007647}, {175, 9.795294}]            |\n",
      "|155          |[{3821, 6.3894424}, {4876, 5.3076553}, {3222, 5.3076553}, {3137, 5.3076553}, {90604, 4.9975276}, {83748, 4.9975276}, {77244, 4.9975276}, {73826, 4.9975276}, {63586, 4.9975276}, {60432, 4.9975276}]  |\n",
      "|183          |[{4220, 13.860452}, {4120, 13.860452}, {3941, 13.860452}, {3783, 13.860452}, {2081, 13.860452}, {1703, 13.860452}, {71, 13.7068815}, {3544, 13.286495}, {2673, 13.286495}, {2184, 13.286495}]         |\n",
      "|193          |[{654, 17.050985}, {1306, 9.043914}, {510, 8.892197}, {1881, 8.095045}, {2247, 7.7465386}, {4876, 7.436252}, {3222, 7.436252}, {3137, 7.436252}, {91476, 7.28644}, {91023, 7.28644}]                  |\n",
      "|210          |[{816, 11.885441}, {3821, 11.006208}, {44, 9.9322605}, {5071, 6.7279215}, {4108, 6.605439}, {67595, 6.4707394}, {77157, 6.235401}, {36249, 6.220502}, {1698, 6.20539}, {80402, 6.0982895}]            |\n",
      "|211          |[{3544, 13.384336}, {2673, 13.384336}, {2184, 13.384336}, {724, 11.942672}, {3821, 11.237814}, {4876, 10.818491}, {3222, 10.818491}, {3137, 10.818491}, {4071, 9.704268}, {463, 9.554138}]            |\n",
      "+-------------+------------------------------------------------------------------------------------------------------------------------------------------------------------------------------------------------------+\n",
      "only showing top 20 rows\n",
      "\n"
     ]
    }
   ],
   "source": [
    "# product_recs.show(truncate=False)"
   ]
  },
  {
   "cell_type": "code",
   "execution_count": null,
   "metadata": {},
   "outputs": [
    {
     "name": "stdout",
     "output_type": "stream",
     "text": [
      "+--------------+-----------------------------------------------------------------------------------------------------------------------------------------------------------------------------------------+\n",
      "|customer_index|recommendations                                                                                                                                                                          |\n",
      "+--------------+-----------------------------------------------------------------------------------------------------------------------------------------------------------------------------------------+\n",
      "|5360          |[{3182, 5.475836}, {2901, 5.1813574}, {1858, 4.999365}, {2268, 4.976379}, {786, 4.823523}, {1438, 4.759083}, {2079, 4.7221885}, {839, 4.7157526}, {439, 4.7023306}, {2254, 4.6928344}]   |\n",
      "|5776          |[{1582, 6.212308}, {2308, 5.9535217}, {1945, 5.769675}, {1263, 5.718038}, {670, 5.5434585}, {1983, 5.4620824}, {3914, 5.4259243}, {2294, 5.327133}, {2069, 5.1828337}, {6400, 5.0401335}]|\n",
      "|5858          |[{2889, 23.054565}, {959, 22.855183}, {1790, 22.638466}, {1983, 22.312021}, {3559, 22.01259}, {5137, 21.862026}, {813, 21.476067}, {667, 21.42404}, {2281, 21.145714}, {1057, 20.827429}]|\n",
      "+--------------+-----------------------------------------------------------------------------------------------------------------------------------------------------------------------------------------+\n",
      "\n"
     ]
    }
   ],
   "source": [
    "# # generate top 10 product recommendations for subset user\n",
    "# users = user_features.select(als_alg.getUserCol()).distinct().limit(3)\n",
    "# user_subset_recs = model.recommendForUserSubset(users, 10)\n",
    "# user_subset_recs.show(truncate=False)"
   ]
  },
  {
   "cell_type": "markdown",
   "metadata": {},
   "source": [
    "### Parameter Tuning"
   ]
  },
  {
   "cell_type": "code",
   "execution_count": null,
   "metadata": {},
   "outputs": [],
   "source": [
    "# Import the required functions\n",
    "from pyspark.ml.evaluation import RegressionEvaluator\n",
    "from pyspark.ml.recommendation import ALS\n",
    "from pyspark.ml.tuning import ParamGridBuilder, CrossValidator"
   ]
  },
  {
   "cell_type": "code",
   "execution_count": null,
   "metadata": {},
   "outputs": [],
   "source": [
    "# train the recommender with als\n",
    "als = ALS(maxIter=5, \n",
    "              regParam=0.01, \n",
    "              userCol='customer_index', \n",
    "              itemCol=\"product_index\", \n",
    "              ratingCol='review_score',\n",
    "              coldStartStrategy='drop')"
   ]
  },
  {
   "cell_type": "code",
   "execution_count": null,
   "metadata": {},
   "outputs": [],
   "source": [
    "# Import the requisite packages\n",
    "from pyspark.ml.tuning import ParamGridBuilder, CrossValidator\n",
    "from pyspark.ml.evaluation import RegressionEvaluator\n",
    "\n",
    "# Add hyperparameters and their respective values to param_grid\n",
    "param_grid = ParamGridBuilder() \\\n",
    "            .addGrid(als.rank, [10, 50, 100, 150]) \\\n",
    "            .addGrid(als.regParam, [.01, .05, .1, .15]) \\\n",
    "            .build()"
   ]
  },
  {
   "cell_type": "code",
   "execution_count": null,
   "metadata": {},
   "outputs": [
    {
     "name": "stdout",
     "output_type": "stream",
     "text": [
      "Num models to be tested:  16\n"
     ]
    }
   ],
   "source": [
    "evaluator = RegressionEvaluator(\n",
    "           metricName=\"rmse\", \n",
    "           labelCol=\"review_score\", \n",
    "           predictionCol=\"prediction\") \n",
    "print (\"Num models to be tested: \", len(param_grid))"
   ]
  },
  {
   "cell_type": "code",
   "execution_count": null,
   "metadata": {},
   "outputs": [],
   "source": [
    "# Build cross validation using CrossValidator\n",
    "cv = CrossValidator(estimator=als, estimatorParamMaps=param_grid, evaluator=evaluator, numFolds=3)"
   ]
  },
  {
   "cell_type": "code",
   "execution_count": 28,
   "metadata": {},
   "outputs": [
    {
     "ename": "ConnectionRefusedError",
     "evalue": "[WinError 10061] No connection could be made because the target machine actively refused it",
     "output_type": "error",
     "traceback": [
      "\u001b[1;31m---------------------------------------------------------------------------\u001b[0m",
      "\u001b[1;31mConnectionRefusedError\u001b[0m                    Traceback (most recent call last)",
      "Cell \u001b[1;32mIn[28], line 2\u001b[0m\n\u001b[0;32m      1\u001b[0m \u001b[38;5;66;03m#Fit cross validator to the 'train' dataset\u001b[39;00m\n\u001b[1;32m----> 2\u001b[0m model \u001b[38;5;241m=\u001b[39m \u001b[43mcv\u001b[49m\u001b[38;5;241;43m.\u001b[39;49m\u001b[43mfit\u001b[49m\u001b[43m(\u001b[49m\u001b[43mtraining\u001b[49m\u001b[43m)\u001b[49m\n\u001b[0;32m      3\u001b[0m \u001b[38;5;66;03m#Extract best model from the cv model above\u001b[39;00m\n\u001b[0;32m      4\u001b[0m best_model \u001b[38;5;241m=\u001b[39m model\u001b[38;5;241m.\u001b[39mbestModel\n",
      "File \u001b[1;32mc:\\Users\\nhatt\\miniconda3\\envs\\sparkml\\lib\\site-packages\\pyspark\\ml\\base.py:205\u001b[0m, in \u001b[0;36mEstimator.fit\u001b[1;34m(self, dataset, params)\u001b[0m\n\u001b[0;32m    203\u001b[0m         \u001b[38;5;28;01mreturn\u001b[39;00m \u001b[38;5;28mself\u001b[39m\u001b[38;5;241m.\u001b[39mcopy(params)\u001b[38;5;241m.\u001b[39m_fit(dataset)\n\u001b[0;32m    204\u001b[0m     \u001b[38;5;28;01melse\u001b[39;00m:\n\u001b[1;32m--> 205\u001b[0m         \u001b[38;5;28;01mreturn\u001b[39;00m \u001b[38;5;28;43mself\u001b[39;49m\u001b[38;5;241;43m.\u001b[39;49m\u001b[43m_fit\u001b[49m\u001b[43m(\u001b[49m\u001b[43mdataset\u001b[49m\u001b[43m)\u001b[49m\n\u001b[0;32m    206\u001b[0m \u001b[38;5;28;01melse\u001b[39;00m:\n\u001b[0;32m    207\u001b[0m     \u001b[38;5;28;01mraise\u001b[39;00m \u001b[38;5;167;01mTypeError\u001b[39;00m(\n\u001b[0;32m    208\u001b[0m         \u001b[38;5;124m\"\u001b[39m\u001b[38;5;124mParams must be either a param map or a list/tuple of param maps, \u001b[39m\u001b[38;5;124m\"\u001b[39m\n\u001b[0;32m    209\u001b[0m         \u001b[38;5;124m\"\u001b[39m\u001b[38;5;124mbut got \u001b[39m\u001b[38;5;132;01m%s\u001b[39;00m\u001b[38;5;124m.\u001b[39m\u001b[38;5;124m\"\u001b[39m \u001b[38;5;241m%\u001b[39m \u001b[38;5;28mtype\u001b[39m(params)\n\u001b[0;32m    210\u001b[0m     )\n",
      "File \u001b[1;32mc:\\Users\\nhatt\\miniconda3\\envs\\sparkml\\lib\\site-packages\\pyspark\\ml\\tuning.py:838\u001b[0m, in \u001b[0;36mCrossValidator._fit\u001b[1;34m(self, dataset)\u001b[0m\n\u001b[0;32m    835\u001b[0m \u001b[38;5;28;01mif\u001b[39;00m collectSubModelsParam:\n\u001b[0;32m    836\u001b[0m     subModels \u001b[38;5;241m=\u001b[39m [[\u001b[38;5;28;01mNone\u001b[39;00m \u001b[38;5;28;01mfor\u001b[39;00m j \u001b[38;5;129;01min\u001b[39;00m \u001b[38;5;28mrange\u001b[39m(numModels)] \u001b[38;5;28;01mfor\u001b[39;00m i \u001b[38;5;129;01min\u001b[39;00m \u001b[38;5;28mrange\u001b[39m(nFolds)]\n\u001b[1;32m--> 838\u001b[0m datasets \u001b[38;5;241m=\u001b[39m \u001b[38;5;28;43mself\u001b[39;49m\u001b[38;5;241;43m.\u001b[39;49m\u001b[43m_kFold\u001b[49m\u001b[43m(\u001b[49m\u001b[43mdataset\u001b[49m\u001b[43m)\u001b[49m\n\u001b[0;32m    839\u001b[0m \u001b[38;5;28;01mfor\u001b[39;00m i \u001b[38;5;129;01min\u001b[39;00m \u001b[38;5;28mrange\u001b[39m(nFolds):\n\u001b[0;32m    840\u001b[0m     validation \u001b[38;5;241m=\u001b[39m datasets[i][\u001b[38;5;241m1\u001b[39m]\u001b[38;5;241m.\u001b[39mcache()\n",
      "File \u001b[1;32mc:\\Users\\nhatt\\miniconda3\\envs\\sparkml\\lib\\site-packages\\pyspark\\ml\\tuning.py:877\u001b[0m, in \u001b[0;36mCrossValidator._kFold\u001b[1;34m(self, dataset)\u001b[0m\n\u001b[0;32m    875\u001b[0m h \u001b[38;5;241m=\u001b[39m \u001b[38;5;241m1.0\u001b[39m \u001b[38;5;241m/\u001b[39m nFolds\n\u001b[0;32m    876\u001b[0m randCol \u001b[38;5;241m=\u001b[39m \u001b[38;5;28mself\u001b[39m\u001b[38;5;241m.\u001b[39muid \u001b[38;5;241m+\u001b[39m \u001b[38;5;124m\"\u001b[39m\u001b[38;5;124m_rand\u001b[39m\u001b[38;5;124m\"\u001b[39m\n\u001b[1;32m--> 877\u001b[0m df \u001b[38;5;241m=\u001b[39m dataset\u001b[38;5;241m.\u001b[39mselect(\u001b[38;5;124m\"\u001b[39m\u001b[38;5;124m*\u001b[39m\u001b[38;5;124m\"\u001b[39m, \u001b[43mrand\u001b[49m\u001b[43m(\u001b[49m\u001b[43mseed\u001b[49m\u001b[43m)\u001b[49m\u001b[38;5;241m.\u001b[39malias(randCol))\n\u001b[0;32m    878\u001b[0m \u001b[38;5;28;01mfor\u001b[39;00m i \u001b[38;5;129;01min\u001b[39;00m \u001b[38;5;28mrange\u001b[39m(nFolds):\n\u001b[0;32m    879\u001b[0m     validateLB \u001b[38;5;241m=\u001b[39m i \u001b[38;5;241m*\u001b[39m h\n",
      "File \u001b[1;32mc:\\Users\\nhatt\\miniconda3\\envs\\sparkml\\lib\\site-packages\\pyspark\\sql\\utils.py:160\u001b[0m, in \u001b[0;36mtry_remote_functions.<locals>.wrapped\u001b[1;34m(*args, **kwargs)\u001b[0m\n\u001b[0;32m    158\u001b[0m     \u001b[38;5;28;01mreturn\u001b[39;00m \u001b[38;5;28mgetattr\u001b[39m(functions, f\u001b[38;5;241m.\u001b[39m\u001b[38;5;18m__name__\u001b[39m)(\u001b[38;5;241m*\u001b[39margs, \u001b[38;5;241m*\u001b[39m\u001b[38;5;241m*\u001b[39mkwargs)\n\u001b[0;32m    159\u001b[0m \u001b[38;5;28;01melse\u001b[39;00m:\n\u001b[1;32m--> 160\u001b[0m     \u001b[38;5;28;01mreturn\u001b[39;00m f(\u001b[38;5;241m*\u001b[39margs, \u001b[38;5;241m*\u001b[39m\u001b[38;5;241m*\u001b[39mkwargs)\n",
      "File \u001b[1;32mc:\\Users\\nhatt\\miniconda3\\envs\\sparkml\\lib\\site-packages\\pyspark\\sql\\functions.py:3370\u001b[0m, in \u001b[0;36mrand\u001b[1;34m(seed)\u001b[0m\n\u001b[0;32m   3336\u001b[0m \u001b[38;5;250m\u001b[39m\u001b[38;5;124;03m\"\"\"Generates a random column with independent and identically distributed (i.i.d.) samples\u001b[39;00m\n\u001b[0;32m   3337\u001b[0m \u001b[38;5;124;03muniformly distributed in [0.0, 1.0).\u001b[39;00m\n\u001b[0;32m   3338\u001b[0m \n\u001b[1;32m   (...)\u001b[0m\n\u001b[0;32m   3367\u001b[0m \u001b[38;5;124;03m+---+------------------+\u001b[39;00m\n\u001b[0;32m   3368\u001b[0m \u001b[38;5;124;03m\"\"\"\u001b[39;00m\n\u001b[0;32m   3369\u001b[0m \u001b[38;5;28;01mif\u001b[39;00m seed \u001b[38;5;129;01mis\u001b[39;00m \u001b[38;5;129;01mnot\u001b[39;00m \u001b[38;5;28;01mNone\u001b[39;00m:\n\u001b[1;32m-> 3370\u001b[0m     \u001b[38;5;28;01mreturn\u001b[39;00m \u001b[43m_invoke_function\u001b[49m\u001b[43m(\u001b[49m\u001b[38;5;124;43m\"\u001b[39;49m\u001b[38;5;124;43mrand\u001b[39;49m\u001b[38;5;124;43m\"\u001b[39;49m\u001b[43m,\u001b[49m\u001b[43m \u001b[49m\u001b[43mseed\u001b[49m\u001b[43m)\u001b[49m\n\u001b[0;32m   3371\u001b[0m \u001b[38;5;28;01melse\u001b[39;00m:\n\u001b[0;32m   3372\u001b[0m     \u001b[38;5;28;01mreturn\u001b[39;00m _invoke_function(\u001b[38;5;124m\"\u001b[39m\u001b[38;5;124mrand\u001b[39m\u001b[38;5;124m\"\u001b[39m)\n",
      "File \u001b[1;32mc:\\Users\\nhatt\\miniconda3\\envs\\sparkml\\lib\\site-packages\\pyspark\\sql\\functions.py:94\u001b[0m, in \u001b[0;36m_invoke_function\u001b[1;34m(name, *args)\u001b[0m\n\u001b[0;32m     89\u001b[0m \u001b[38;5;250m\u001b[39m\u001b[38;5;124;03m\"\"\"\u001b[39;00m\n\u001b[0;32m     90\u001b[0m \u001b[38;5;124;03mInvokes JVM function identified by name with args\u001b[39;00m\n\u001b[0;32m     91\u001b[0m \u001b[38;5;124;03mand wraps the result with :class:`~pyspark.sql.Column`.\u001b[39;00m\n\u001b[0;32m     92\u001b[0m \u001b[38;5;124;03m\"\"\"\u001b[39;00m\n\u001b[0;32m     93\u001b[0m \u001b[38;5;28;01massert\u001b[39;00m SparkContext\u001b[38;5;241m.\u001b[39m_active_spark_context \u001b[38;5;129;01mis\u001b[39;00m \u001b[38;5;129;01mnot\u001b[39;00m \u001b[38;5;28;01mNone\u001b[39;00m\n\u001b[1;32m---> 94\u001b[0m jf \u001b[38;5;241m=\u001b[39m \u001b[43m_get_jvm_function\u001b[49m\u001b[43m(\u001b[49m\u001b[43mname\u001b[49m\u001b[43m,\u001b[49m\u001b[43m \u001b[49m\u001b[43mSparkContext\u001b[49m\u001b[38;5;241;43m.\u001b[39;49m\u001b[43m_active_spark_context\u001b[49m\u001b[43m)\u001b[49m\n\u001b[0;32m     95\u001b[0m \u001b[38;5;28;01mreturn\u001b[39;00m Column(jf(\u001b[38;5;241m*\u001b[39margs))\n",
      "File \u001b[1;32mc:\\Users\\nhatt\\miniconda3\\envs\\sparkml\\lib\\site-packages\\pyspark\\sql\\functions.py:85\u001b[0m, in \u001b[0;36m_get_jvm_function\u001b[1;34m(name, sc)\u001b[0m\n\u001b[0;32m     80\u001b[0m \u001b[38;5;250m\u001b[39m\u001b[38;5;124;03m\"\"\"\u001b[39;00m\n\u001b[0;32m     81\u001b[0m \u001b[38;5;124;03mRetrieves JVM function identified by name from\u001b[39;00m\n\u001b[0;32m     82\u001b[0m \u001b[38;5;124;03mJava gateway associated with sc.\u001b[39;00m\n\u001b[0;32m     83\u001b[0m \u001b[38;5;124;03m\"\"\"\u001b[39;00m\n\u001b[0;32m     84\u001b[0m \u001b[38;5;28;01massert\u001b[39;00m sc\u001b[38;5;241m.\u001b[39m_jvm \u001b[38;5;129;01mis\u001b[39;00m \u001b[38;5;129;01mnot\u001b[39;00m \u001b[38;5;28;01mNone\u001b[39;00m\n\u001b[1;32m---> 85\u001b[0m \u001b[38;5;28;01mreturn\u001b[39;00m \u001b[38;5;28mgetattr\u001b[39m(\u001b[43msc\u001b[49m\u001b[38;5;241;43m.\u001b[39;49m\u001b[43m_jvm\u001b[49m\u001b[38;5;241;43m.\u001b[39;49m\u001b[43mfunctions\u001b[49m, name)\n",
      "File \u001b[1;32mc:\\Users\\nhatt\\miniconda3\\envs\\sparkml\\lib\\site-packages\\py4j\\java_gateway.py:1712\u001b[0m, in \u001b[0;36mJVMView.__getattr__\u001b[1;34m(self, name)\u001b[0m\n\u001b[0;32m   1709\u001b[0m \u001b[38;5;28;01mif\u001b[39;00m name \u001b[38;5;241m==\u001b[39m UserHelpAutoCompletion\u001b[38;5;241m.\u001b[39mKEY:\n\u001b[0;32m   1710\u001b[0m     \u001b[38;5;28;01mreturn\u001b[39;00m UserHelpAutoCompletion()\n\u001b[1;32m-> 1712\u001b[0m answer \u001b[38;5;241m=\u001b[39m \u001b[38;5;28;43mself\u001b[39;49m\u001b[38;5;241;43m.\u001b[39;49m\u001b[43m_gateway_client\u001b[49m\u001b[38;5;241;43m.\u001b[39;49m\u001b[43msend_command\u001b[49m\u001b[43m(\u001b[49m\n\u001b[0;32m   1713\u001b[0m \u001b[43m    \u001b[49m\u001b[43mproto\u001b[49m\u001b[38;5;241;43m.\u001b[39;49m\u001b[43mREFLECTION_COMMAND_NAME\u001b[49m\u001b[43m \u001b[49m\u001b[38;5;241;43m+\u001b[39;49m\n\u001b[0;32m   1714\u001b[0m \u001b[43m    \u001b[49m\u001b[43mproto\u001b[49m\u001b[38;5;241;43m.\u001b[39;49m\u001b[43mREFL_GET_UNKNOWN_SUB_COMMAND_NAME\u001b[49m\u001b[43m \u001b[49m\u001b[38;5;241;43m+\u001b[39;49m\u001b[43m \u001b[49m\u001b[43mname\u001b[49m\u001b[43m \u001b[49m\u001b[38;5;241;43m+\u001b[39;49m\u001b[43m \u001b[49m\u001b[38;5;124;43m\"\u001b[39;49m\u001b[38;5;130;43;01m\\n\u001b[39;49;00m\u001b[38;5;124;43m\"\u001b[39;49m\u001b[43m \u001b[49m\u001b[38;5;241;43m+\u001b[39;49m\u001b[43m \u001b[49m\u001b[38;5;28;43mself\u001b[39;49m\u001b[38;5;241;43m.\u001b[39;49m\u001b[43m_id\u001b[49m\u001b[43m \u001b[49m\u001b[38;5;241;43m+\u001b[39;49m\n\u001b[0;32m   1715\u001b[0m \u001b[43m    \u001b[49m\u001b[38;5;124;43m\"\u001b[39;49m\u001b[38;5;130;43;01m\\n\u001b[39;49;00m\u001b[38;5;124;43m\"\u001b[39;49m\u001b[43m \u001b[49m\u001b[38;5;241;43m+\u001b[39;49m\u001b[43m \u001b[49m\u001b[43mproto\u001b[49m\u001b[38;5;241;43m.\u001b[39;49m\u001b[43mEND_COMMAND_PART\u001b[49m\u001b[43m)\u001b[49m\n\u001b[0;32m   1716\u001b[0m \u001b[38;5;28;01mif\u001b[39;00m answer \u001b[38;5;241m==\u001b[39m proto\u001b[38;5;241m.\u001b[39mSUCCESS_PACKAGE:\n\u001b[0;32m   1717\u001b[0m     \u001b[38;5;28;01mreturn\u001b[39;00m JavaPackage(name, \u001b[38;5;28mself\u001b[39m\u001b[38;5;241m.\u001b[39m_gateway_client, jvm_id\u001b[38;5;241m=\u001b[39m\u001b[38;5;28mself\u001b[39m\u001b[38;5;241m.\u001b[39m_id)\n",
      "File \u001b[1;32mc:\\Users\\nhatt\\miniconda3\\envs\\sparkml\\lib\\site-packages\\py4j\\java_gateway.py:1036\u001b[0m, in \u001b[0;36mGatewayClient.send_command\u001b[1;34m(self, command, retry, binary)\u001b[0m\n\u001b[0;32m   1015\u001b[0m \u001b[38;5;28;01mdef\u001b[39;00m \u001b[38;5;21msend_command\u001b[39m(\u001b[38;5;28mself\u001b[39m, command, retry\u001b[38;5;241m=\u001b[39m\u001b[38;5;28;01mTrue\u001b[39;00m, binary\u001b[38;5;241m=\u001b[39m\u001b[38;5;28;01mFalse\u001b[39;00m):\n\u001b[0;32m   1016\u001b[0m \u001b[38;5;250m    \u001b[39m\u001b[38;5;124;03m\"\"\"Sends a command to the JVM. This method is not intended to be\u001b[39;00m\n\u001b[0;32m   1017\u001b[0m \u001b[38;5;124;03m       called directly by Py4J users. It is usually called by\u001b[39;00m\n\u001b[0;32m   1018\u001b[0m \u001b[38;5;124;03m       :class:`JavaMember` instances.\u001b[39;00m\n\u001b[1;32m   (...)\u001b[0m\n\u001b[0;32m   1034\u001b[0m \u001b[38;5;124;03m     if `binary` is `True`.\u001b[39;00m\n\u001b[0;32m   1035\u001b[0m \u001b[38;5;124;03m    \"\"\"\u001b[39;00m\n\u001b[1;32m-> 1036\u001b[0m     connection \u001b[38;5;241m=\u001b[39m \u001b[38;5;28;43mself\u001b[39;49m\u001b[38;5;241;43m.\u001b[39;49m\u001b[43m_get_connection\u001b[49m\u001b[43m(\u001b[49m\u001b[43m)\u001b[49m\n\u001b[0;32m   1037\u001b[0m     \u001b[38;5;28;01mtry\u001b[39;00m:\n\u001b[0;32m   1038\u001b[0m         response \u001b[38;5;241m=\u001b[39m connection\u001b[38;5;241m.\u001b[39msend_command(command)\n",
      "File \u001b[1;32mc:\\Users\\nhatt\\miniconda3\\envs\\sparkml\\lib\\site-packages\\py4j\\clientserver.py:284\u001b[0m, in \u001b[0;36mJavaClient._get_connection\u001b[1;34m(self)\u001b[0m\n\u001b[0;32m    281\u001b[0m     \u001b[38;5;28;01mpass\u001b[39;00m\n\u001b[0;32m    283\u001b[0m \u001b[38;5;28;01mif\u001b[39;00m connection \u001b[38;5;129;01mis\u001b[39;00m \u001b[38;5;28;01mNone\u001b[39;00m \u001b[38;5;129;01mor\u001b[39;00m connection\u001b[38;5;241m.\u001b[39msocket \u001b[38;5;129;01mis\u001b[39;00m \u001b[38;5;28;01mNone\u001b[39;00m:\n\u001b[1;32m--> 284\u001b[0m     connection \u001b[38;5;241m=\u001b[39m \u001b[38;5;28;43mself\u001b[39;49m\u001b[38;5;241;43m.\u001b[39;49m\u001b[43m_create_new_connection\u001b[49m\u001b[43m(\u001b[49m\u001b[43m)\u001b[49m\n\u001b[0;32m    285\u001b[0m \u001b[38;5;28;01mreturn\u001b[39;00m connection\n",
      "File \u001b[1;32mc:\\Users\\nhatt\\miniconda3\\envs\\sparkml\\lib\\site-packages\\py4j\\clientserver.py:291\u001b[0m, in \u001b[0;36mJavaClient._create_new_connection\u001b[1;34m(self)\u001b[0m\n\u001b[0;32m    287\u001b[0m \u001b[38;5;28;01mdef\u001b[39;00m \u001b[38;5;21m_create_new_connection\u001b[39m(\u001b[38;5;28mself\u001b[39m):\n\u001b[0;32m    288\u001b[0m     connection \u001b[38;5;241m=\u001b[39m ClientServerConnection(\n\u001b[0;32m    289\u001b[0m         \u001b[38;5;28mself\u001b[39m\u001b[38;5;241m.\u001b[39mjava_parameters, \u001b[38;5;28mself\u001b[39m\u001b[38;5;241m.\u001b[39mpython_parameters,\n\u001b[0;32m    290\u001b[0m         \u001b[38;5;28mself\u001b[39m\u001b[38;5;241m.\u001b[39mgateway_property, \u001b[38;5;28mself\u001b[39m)\n\u001b[1;32m--> 291\u001b[0m     \u001b[43mconnection\u001b[49m\u001b[38;5;241;43m.\u001b[39;49m\u001b[43mconnect_to_java_server\u001b[49m\u001b[43m(\u001b[49m\u001b[43m)\u001b[49m\n\u001b[0;32m    292\u001b[0m     \u001b[38;5;28mself\u001b[39m\u001b[38;5;241m.\u001b[39mset_thread_connection(connection)\n\u001b[0;32m    293\u001b[0m     \u001b[38;5;28;01mreturn\u001b[39;00m connection\n",
      "File \u001b[1;32mc:\\Users\\nhatt\\miniconda3\\envs\\sparkml\\lib\\site-packages\\py4j\\clientserver.py:438\u001b[0m, in \u001b[0;36mClientServerConnection.connect_to_java_server\u001b[1;34m(self)\u001b[0m\n\u001b[0;32m    435\u001b[0m \u001b[38;5;28;01mif\u001b[39;00m \u001b[38;5;28mself\u001b[39m\u001b[38;5;241m.\u001b[39mssl_context:\n\u001b[0;32m    436\u001b[0m     \u001b[38;5;28mself\u001b[39m\u001b[38;5;241m.\u001b[39msocket \u001b[38;5;241m=\u001b[39m \u001b[38;5;28mself\u001b[39m\u001b[38;5;241m.\u001b[39mssl_context\u001b[38;5;241m.\u001b[39mwrap_socket(\n\u001b[0;32m    437\u001b[0m         \u001b[38;5;28mself\u001b[39m\u001b[38;5;241m.\u001b[39msocket, server_hostname\u001b[38;5;241m=\u001b[39m\u001b[38;5;28mself\u001b[39m\u001b[38;5;241m.\u001b[39mjava_address)\n\u001b[1;32m--> 438\u001b[0m \u001b[38;5;28;43mself\u001b[39;49m\u001b[38;5;241;43m.\u001b[39;49m\u001b[43msocket\u001b[49m\u001b[38;5;241;43m.\u001b[39;49m\u001b[43mconnect\u001b[49m\u001b[43m(\u001b[49m\u001b[43m(\u001b[49m\u001b[38;5;28;43mself\u001b[39;49m\u001b[38;5;241;43m.\u001b[39;49m\u001b[43mjava_address\u001b[49m\u001b[43m,\u001b[49m\u001b[43m \u001b[49m\u001b[38;5;28;43mself\u001b[39;49m\u001b[38;5;241;43m.\u001b[39;49m\u001b[43mjava_port\u001b[49m\u001b[43m)\u001b[49m\u001b[43m)\u001b[49m\n\u001b[0;32m    439\u001b[0m \u001b[38;5;28mself\u001b[39m\u001b[38;5;241m.\u001b[39mstream \u001b[38;5;241m=\u001b[39m \u001b[38;5;28mself\u001b[39m\u001b[38;5;241m.\u001b[39msocket\u001b[38;5;241m.\u001b[39mmakefile(\u001b[38;5;124m\"\u001b[39m\u001b[38;5;124mrb\u001b[39m\u001b[38;5;124m\"\u001b[39m)\n\u001b[0;32m    440\u001b[0m \u001b[38;5;28mself\u001b[39m\u001b[38;5;241m.\u001b[39mis_connected \u001b[38;5;241m=\u001b[39m \u001b[38;5;28;01mTrue\u001b[39;00m\n",
      "\u001b[1;31mConnectionRefusedError\u001b[0m: [WinError 10061] No connection could be made because the target machine actively refused it"
     ]
    }
   ],
   "source": [
    "#Fit cross validator to the 'train' dataset\n",
    "model = cv.fit(training)\n",
    "#Extract best model from the cv model above\n",
    "best_model = model.bestModel\n",
    "# View the predictions\n",
    "test_predictions = best_model.transform(test)\n",
    "RMSE = evaluator.evaluate(test_predictions)\n",
    "print(RMSE)"
   ]
  },
  {
   "cell_type": "code",
   "execution_count": null,
   "metadata": {},
   "outputs": [
    {
     "name": "stdout",
     "output_type": "stream",
     "text": [
      "**Best Model**\n",
      "  Rank: 150\n",
      "  MaxIter: 5\n",
      "  RegParam: 0.1\n"
     ]
    }
   ],
   "source": [
    "print(\"**Best Model**\")\n",
    "# Print \"Rank\"\n",
    "print(\"  Rank:\", best_model._java_obj.parent().getRank())\n",
    "# Print \"MaxIter\"\n",
    "print(\"  MaxIter:\", best_model._java_obj.parent().getMaxIter())\n",
    "# Print \"RegParam\"\n",
    "print(\"  RegParam:\", best_model._java_obj.parent().getRegParam())"
   ]
  },
  {
   "cell_type": "code",
   "execution_count": null,
   "metadata": {},
   "outputs": [
    {
     "name": "stdout",
     "output_type": "stream",
     "text": [
      "+--------------+--------------------+\n",
      "|customer_index|     recommendations|\n",
      "+--------------+--------------------+\n",
      "|           148|[[1358, 5.983632]...|\n",
      "|           463|[[586, 5.0032835]...|\n",
      "|           471|[[353, 4.9666333]...|\n",
      "|           496|[[14701, 3.994572...|\n",
      "|           833|[[5976, 3.981684]...|\n",
      "|          1088|[[8835, 4.0529366...|\n",
      "|          1238|[[19280, 1.956733...|\n",
      "|          1342|[[3733, 2.9766014...|\n",
      "|          1580|[[2116, 2.9813814...|\n",
      "|          1591|[[30130, 3.586678...|\n",
      "|          1645|[[8578, 2.9761343...|\n",
      "|          1829|[[8550, 2.9761338...|\n",
      "|          1959|[[23256, 3.067747...|\n",
      "|          2122|[[460, 1.9372059]...|\n",
      "|          2142|[[13069, 3.092081...|\n",
      "|          2366|[[23114, 3.457238...|\n",
      "|          2659|[[1923, 2.969991]...|\n",
      "|          2866|[[678, 3.32295], ...|\n",
      "|          3175|[[3776, 1.9789387...|\n",
      "|          3749|[[5388, 1.3674556...|\n",
      "+--------------+--------------------+\n",
      "only showing top 20 rows\n",
      "\n"
     ]
    }
   ],
   "source": [
    "# Generate n Recommendations for all users\n",
    "recommendations = best_model.recommendForAllUsers(5)\n",
    "recommendations.show()"
   ]
  },
  {
   "cell_type": "markdown",
   "metadata": {},
   "source": [
    "### Re-run model for all users"
   ]
  },
  {
   "cell_type": "code",
   "execution_count": null,
   "metadata": {},
   "outputs": [],
   "source": [
    "# train the recommender with als\n",
    "als_alg = ALS(rank=best_model._java_obj.parent().getRank(),\n",
    "              maxIter=best_model._java_obj.parent().getMaxIter(), \n",
    "              regParam=best_model._java_obj.parent().getRegParam(), \n",
    "              userCol='customer_index', \n",
    "              itemCol=\"product_index\", \n",
    "              ratingCol='product_category_count',\n",
    "              coldStartStrategy='drop')\n",
    "\n",
    "final_model=als_alg.fit(user_features)"
   ]
  },
  {
   "cell_type": "code",
   "execution_count": null,
   "metadata": {},
   "outputs": [
    {
     "name": "stdout",
     "output_type": "stream",
     "text": [
      "+--------------+--------------------+\n",
      "|customer_index|     recommendations|\n",
      "+--------------+--------------------+\n",
      "|           148|[[1358, 5.9854245...|\n",
      "|           463|[[586, 5.0025682]...|\n",
      "|           471|[[353, 4.9697766]...|\n",
      "|           496|[[14701, 3.999740...|\n",
      "+--------------+--------------------+\n",
      "only showing top 4 rows\n",
      "\n"
     ]
    }
   ],
   "source": [
    "# generate top_n product recommendations for user\n",
    "nrecommend = 5\n",
    "user_recs = final_model.recommendForAllUsers(nrecommend)\n",
    "user_recs.show(4)"
   ]
  },
  {
   "cell_type": "code",
   "execution_count": null,
   "metadata": {},
   "outputs": [],
   "source": [
    "recs = user_recs.toPandas()"
   ]
  },
  {
   "cell_type": "markdown",
   "metadata": {},
   "source": [
    "## Recommender Function"
   ]
  },
  {
   "cell_type": "code",
   "execution_count": null,
   "metadata": {},
   "outputs": [],
   "source": [
    "# Generate pandas df for accessing products in recommender function\n",
    "products = item_features.toPandas()"
   ]
  },
  {
   "cell_type": "code",
   "execution_count": null,
   "metadata": {},
   "outputs": [],
   "source": [
    "user_features_df = user_features.toPandas()"
   ]
  },
  {
   "cell_type": "code",
   "execution_count": null,
   "metadata": {},
   "outputs": [],
   "source": [
    "def user_recommendations(user_id, top_n = 3):\n",
    "    \n",
    "    if top_n > nrecommend:\n",
    "        print(\"Please select up to {} items to recommend\".format(nrecommend))\n",
    "        return; \n",
    "    \n",
    "    prior_purchases = user_features_df[user_features_df['customer_unique_id'] == user_id]\\\n",
    "                                                                                        ['product_id'].unique()\n",
    "    num_items = len(prior_purchases)\n",
    "    \n",
    "    if num_items < 3:\n",
    "        items = num_items\n",
    "    else:\n",
    "        items = 3\n",
    "    \n",
    "    print(\"User: {}\\n\".format(user_id))\n",
    "    print(\"Known positives: \")\n",
    "    for n in range(items):\n",
    "        known_like_product = user_features_df[user_features_df['customer_unique_id'] == user_id]\\\n",
    "                                                            ['product_id'].unique()[n]\n",
    "        known_like_category = products[products['product_id'] == known_like_product]\\\n",
    "                                                            ['product_category_name'].unique()[0]\n",
    "    \n",
    "        print(\"\\t\", known_like_product)\n",
    "        print(\"\\t\", known_like_category, \"\\n\")\n",
    "    \n",
    "    \n",
    "    customer_index = user_features_df[user_features_df['customer_unique_id'] == user_id]\\\n",
    "                                                            ['customer_index'].unique()[0]\n",
    "    print(\"Top {} Recommendations: \\n\".format(top_n))\n",
    "    rec_products = []\n",
    "    \n",
    "    for n in range(top_n):\n",
    "        \n",
    "        rec_products.append(list(recs[recs['customer_index'] == customer_index]['recommendations'])[0][n][0])\n",
    "        \n",
    "        print(\"{}.\\n\".format(n+1), products[products['product_index'] == rec_products[n]]\\\n",
    "                                                  [['product_id', 'product_category_name']].iloc[0][0])\n",
    "        \n",
    "        print(products[products['product_index'] == rec_products[n]]\\\n",
    "                                                  [['product_id', 'product_category_name']].iloc[0][1])"
   ]
  },
  {
   "cell_type": "markdown",
   "metadata": {},
   "source": [
    "__Test for customer_id = 'c8ed31310fc440a3f8031b177f9842c3'__"
   ]
  },
  {
   "cell_type": "code",
   "execution_count": null,
   "metadata": {},
   "outputs": [
    {
     "name": "stdout",
     "output_type": "stream",
     "text": [
      "User: c8ed31310fc440a3f8031b177f9842c3\n",
      "\n",
      "Known positives: \n",
      "\t 1065e0ebef073787a7bf691924c60eeb\n",
      "\t construction_tools_construction \n",
      "\n",
      "\t 0cf2faf9749f53924cea652a09d8e327\n",
      "\t construction_tools_construction \n",
      "\n",
      "\t 309dd69eb83cea38c51709d62befe1a4\n",
      "\t construction_tools_construction \n",
      "\n",
      "Top 5 Recommendations: \n",
      "\n",
      "1.\n",
      " 15b1f9b06d0e709552d7d8638387e09b\n",
      "furniture_decor\n",
      "2.\n",
      " 7189fb70393a0b87189f93f19655f8db\n",
      "toys\n",
      "3.\n",
      " 3e7ec3672e5549ba74cf635752bfc70b\n",
      "furniture_decor\n",
      "4.\n",
      " 14ad6805c263d8d758d648f46a06570e\n",
      "baby\n",
      "5.\n",
      " 329c661807f085964b1877bfeca6ff73\n",
      "furniture_decor\n"
     ]
    }
   ],
   "source": [
    "user_recommendations('c8ed31310fc440a3f8031b177f9842c3', top_n=5)"
   ]
  },
  {
   "cell_type": "markdown",
   "metadata": {},
   "source": [
    "__Test for customer_id = '698e1cf81d01a3d389d96145f7fa6df8'__"
   ]
  },
  {
   "cell_type": "code",
   "execution_count": null,
   "metadata": {},
   "outputs": [
    {
     "name": "stdout",
     "output_type": "stream",
     "text": [
      "User: 698e1cf81d01a3d389d96145f7fa6df8\n",
      "\n",
      "Known positives: \n",
      "\t 9571759451b1d780ee7c15012ea109d4\n",
      "\t auto \n",
      "\n",
      "Top 5 Recommendations: \n",
      "\n",
      "1.\n",
      " 0a4f9f421af66d2ea061fbb8883419f7\n",
      "health_beauty\n",
      "2.\n",
      " fdd84aefb08c8f8225e0b8c97429d53b\n",
      "health_beauty\n",
      "3.\n",
      " 12485f9cdebb6ca179826ede539554ad\n",
      "air_conditioning\n",
      "4.\n",
      " 616042729c11849827291496b18e9ec5\n",
      "sports_leisure\n",
      "5.\n",
      " 7a5c07212703b5f01ee199d29a29a587\n",
      "cool_stuff\n"
     ]
    }
   ],
   "source": [
    "user_recommendations('698e1cf81d01a3d389d96145f7fa6df8', top_n=5)"
   ]
  },
  {
   "cell_type": "markdown",
   "metadata": {},
   "source": [
    "__Test for customer_id = '89be58cbdd6ef318e3ed93fdb22be178'__"
   ]
  },
  {
   "cell_type": "code",
   "execution_count": null,
   "metadata": {},
   "outputs": [
    {
     "name": "stdout",
     "output_type": "stream",
     "text": [
      "User: 89be58cbdd6ef318e3ed93fdb22be178\n",
      "\n",
      "Known positives: \n",
      "\t 3fdb534dccf5bc9ab0406944b913787d\n",
      "\t diapers_and_hygiene \n",
      "\n",
      "Top 5 Recommendations: \n",
      "\n",
      "1.\n",
      " 779dd392d4fbe5ca656bf3ceabecbf0b\n",
      "construction_tools_construction\n",
      "2.\n",
      " bdcf6a834e8faa30dac3886c7a58e92e\n",
      "health_beauty\n",
      "3.\n",
      " 91b08d34d0ba4db44da2dc382867ba49\n",
      "telephony\n",
      "4.\n",
      " 1b8ee158f59c098470fad33f39660964\n",
      "furniture_living_room\n",
      "5.\n",
      " d9339c5714743c460a9470730f79f6c5\n",
      "computers_accessories\n"
     ]
    }
   ],
   "source": [
    "user_recommendations('89be58cbdd6ef318e3ed93fdb22be178', top_n=5)"
   ]
  },
  {
   "cell_type": "markdown",
   "metadata": {},
   "source": [
    "## Summary of Results"
   ]
  },
  {
   "cell_type": "markdown",
   "metadata": {},
   "source": [
    "It's clear after producing a simple recommendation system with matrix factorization using only users prior purchase history that this dataset simply does not have the data necessary to give accurate results. Many of the attempted recommendations produced results that are clearly not relevant for the user. As can be seen in the suggestions above, many of the top items are from categories very different from the original purchase. \n",
    "\n",
    "Comparing these same recommendations with LightFM shows how well hybrid recommenders can do for data sets like this one, with very few return users. "
   ]
  },
  {
   "cell_type": "code",
   "execution_count": null,
   "metadata": {},
   "outputs": [],
   "source": []
  }
 ],
 "metadata": {
  "kernelspec": {
   "display_name": "Python 3",
   "language": "python",
   "name": "python3"
  },
  "language_info": {
   "codemirror_mode": {
    "name": "ipython",
    "version": 3
   },
   "file_extension": ".py",
   "mimetype": "text/x-python",
   "name": "python",
   "nbconvert_exporter": "python",
   "pygments_lexer": "ipython3",
   "version": "3.10.13"
  }
 },
 "nbformat": 4,
 "nbformat_minor": 2
}
