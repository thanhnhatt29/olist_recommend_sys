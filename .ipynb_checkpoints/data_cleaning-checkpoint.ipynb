{
 "cells": [
  {
   "cell_type": "markdown",
   "metadata": {},
   "source": [
    "# đọc dữ liệu"
   ]
  },
  {
   "cell_type": "code",
   "execution_count": 1,
   "metadata": {},
   "outputs": [],
   "source": [
    "import os\n",
    "import glob"
   ]
  },
  {
   "cell_type": "code",
   "execution_count": 2,
   "metadata": {},
   "outputs": [],
   "source": [
    "from pyspark.sql import SparkSession\n",
    "\n",
    "# Initialize SparkSession\n",
    "spark = SparkSession.builder \\\n",
    "    .appName(\"CSV Reader\") \\\n",
    "    .getOrCreate()\n"
   ]
  },
  {
   "cell_type": "code",
   "execution_count": 3,
   "metadata": {},
   "outputs": [],
   "source": [
    "def read_in_data(df_names, directory = './'):\n",
    "    '''Read in data into seperate dataframes'''\n",
    "    \n",
    "    # change directory to data storage location\n",
    "    os.chdir(directory)\n",
    "    \n",
    "    # list of filenames\n",
    "    extension = 'csv'\n",
    "    filenames = [i for i in glob.glob('*.{}'.format(extension))]\n",
    "    print(filenames)\n",
    "    # create global dfs within function\n",
    "    for name, file in zip(df_names, filenames):\n",
    "        globals()[name] = spark.read \\\n",
    "                            .format(\"csv\") \\\n",
    "                            .option(\"header\", \"true\") \\\n",
    "                            .option(\"inferSchema\", \"true\") \\\n",
    "                            .option(\"multiline\", \"true\") \\\n",
    "                            .load(directory + \"/\" + file)"
   ]
  },
  {
   "cell_type": "code",
   "execution_count": 4,
   "metadata": {},
   "outputs": [
    {
     "name": "stdout",
     "output_type": "stream",
     "text": [
      "['olist_customers_dataset.csv', 'olist_geolocation_dataset.csv', 'olist_orders_dataset.csv', 'olist_order_items_dataset.csv', 'olist_order_payments_dataset.csv', 'olist_order_reviews_dataset.csv', 'olist_products_dataset.csv', 'olist_sellers_dataset.csv', 'product_category_name_translation.csv']\n"
     ]
    }
   ],
   "source": [
    "df_names = ['customers', 'location', 'orders', 'order_items', 'payments', \\\n",
    "                'reviews', 'products', 'sellers', 'translation']\n",
    "\n",
    "directory = 'D:/UTECollege/program/HK7/bdml/project/olist_recommend_sys/olist_data'\n",
    "\n",
    "read_in_data(df_names, directory)"
   ]
  },
  {
   "cell_type": "code",
   "execution_count": 5,
   "metadata": {},
   "outputs": [
    {
     "name": "stdout",
     "output_type": "stream",
     "text": [
      "+--------------------+--------------------+------------+--------------------+----------------------+--------------------+-----------------------+\n",
      "|           review_id|            order_id|review_score|review_comment_title|review_comment_message|review_creation_date|review_answer_timestamp|\n",
      "+--------------------+--------------------+------------+--------------------+----------------------+--------------------+-----------------------+\n",
      "|7bc2406110b926393...|73fc7af87114b3971...|           4|                NULL|                  NULL| 2018-01-18 00:00:00|    2018-01-18 21:46:59|\n",
      "|80e641a11e56f04c1...|a548910a1c6147796...|           5|                NULL|                  NULL| 2018-03-10 00:00:00|    2018-03-11 03:05:13|\n",
      "|228ce5500dc1d8e02...|f9e4b658b201a9f2e...|           5|                NULL|                  NULL| 2018-02-17 00:00:00|    2018-02-18 14:36:24|\n",
      "|e64fb393e7b32834b...|658677c97b385a9be...|           5|                NULL|  Recebi bem antes ...| 2017-04-21 00:00:00|    2017-04-21 22:02:06|\n",
      "|f7c4243c7fe1938f1...|8e6bfb81e283fa7e4...|           5|                NULL|  Parabéns lojas la...| 2018-03-01 00:00:00|    2018-03-02 10:26:53|\n",
      "|15197aa66ff4d0650...|b18dcdf73be663668...|           1|                NULL|                  NULL| 2018-04-13 00:00:00|    2018-04-16 00:39:37|\n",
      "|07f9bee5d1b850860...|e48aa0d2dcec3a2e8...|           5|                NULL|                  NULL| 2017-07-16 00:00:00|    2017-07-18 19:30:34|\n",
      "|7c6400515c67679fb...|c31a859e34e3adac2...|           5|                NULL|                  NULL| 2018-08-14 00:00:00|    2018-08-14 21:36:06|\n",
      "|a3f6f7f6f433de0ae...|9c214ac970e842735...|           5|                NULL|                  NULL| 2017-05-17 00:00:00|    2017-05-18 12:05:37|\n",
      "|8670d52e15e00043a...|b9bf720beb4ab3728...|           4|           recomendo|  aparelho eficient...| 2018-05-22 00:00:00|    2018-05-23 16:45:47|\n",
      "|c9cfd2d5ab5911836...|cdf9aa68e72324eeb...|           5|                NULL|                  NULL| 2017-12-23 00:00:00|    2017-12-26 14:36:03|\n",
      "|96052551d87e5f62e...|3d374c9e46530bb5e...|           5|                NULL|                  NULL| 2017-12-19 00:00:00|    2017-12-20 10:25:22|\n",
      "|4b49719c8a200003f...|9d6f15f95d01e79bd...|           4|                NULL|  Mas um pouco ,tra...| 2018-02-16 00:00:00|    2018-02-20 10:52:22|\n",
      "|23f75a37effc35d9a...|2eaf8e099d871cd5c...|           4|                NULL|                  NULL| 2018-03-28 00:00:00|    2018-03-30 15:10:55|\n",
      "|9a0abbb668bafb95a...|d7bd0e4afdf94846e...|           3|                NULL|                  NULL| 2017-04-30 00:00:00|    2017-05-03 00:02:22|\n",
      "|3948b09f7c818e2d8...|e51478e7e277a8374...|           5|     Super recomendo|  Vendedor confiáve...| 2018-05-23 00:00:00|    2018-05-24 03:00:01|\n",
      "|9314d6f9799f5bfba...|0dacf04c5ad59fd5a...|           2|                NULL|  GOSTARIA DE SABER...| 2018-01-18 00:00:00|    2018-01-20 21:25:45|\n",
      "|8e15a274d95600fa1...|ff1581e08b3011021...|           5|                NULL|                  NULL| 2018-03-24 00:00:00|    2018-03-26 15:58:32|\n",
      "|fdbdb2629a7cde0f6...|70a752414a13d09cc...|           3|                NULL|                  NULL| 2017-09-29 00:00:00|    2017-10-02 01:12:49|\n",
      "|373cbeecea8286a2b...|583174fbe37d3d5f0...|           1|Não chegou meu pr...|               Péssimo| 2018-08-15 00:00:00|    2018-08-15 04:10:37|\n",
      "+--------------------+--------------------+------------+--------------------+----------------------+--------------------+-----------------------+\n",
      "only showing top 20 rows\n",
      "\n"
     ]
    }
   ],
   "source": [
    "reviews.show()"
   ]
  },
  {
   "cell_type": "code",
   "execution_count": 6,
   "metadata": {},
   "outputs": [
    {
     "name": "stdout",
     "output_type": "stream",
     "text": [
      "root\n",
      " |-- review_id: string (nullable = true)\n",
      " |-- order_id: string (nullable = true)\n",
      " |-- review_score: string (nullable = true)\n",
      " |-- review_comment_title: string (nullable = true)\n",
      " |-- review_comment_message: string (nullable = true)\n",
      " |-- review_creation_date: string (nullable = true)\n",
      " |-- review_answer_timestamp: string (nullable = true)\n",
      "\n"
     ]
    }
   ],
   "source": [
    "reviews.printSchema()"
   ]
  },
  {
   "cell_type": "markdown",
   "metadata": {},
   "source": [
    "#### Order Reviews Dataset\n",
    "This dataset includes data about the reviews made by the customers.\n",
    "\n",
    "After a customer purchases the product from Olist Store a seller gets notified to fulfill that order. Once the customer receives the product, or the estimated delivery date is due, the customer gets a satisfaction survey by email where he can give a note for the purchase experience and write down some comments."
   ]
  },
  {
   "cell_type": "code",
   "execution_count": 7,
   "metadata": {},
   "outputs": [],
   "source": [
    "def replace_na_with_text(df, column, new_text):\n",
    "    '''replace missing text with preferred description'''\n",
    "    \n",
    "    # change missing data to appropriate label\n",
    "    df = df.fillna({column: new_text})\n",
    "    # return df because in function scope, it cant affect the original df\n",
    "    return df\n"
   ]
  },
  {
   "cell_type": "code",
   "execution_count": 8,
   "metadata": {},
   "outputs": [],
   "source": [
    "reviews = replace_na_with_text(df=reviews, column='review_comment_message', new_text='no comment given')\n",
    "reviews = replace_na_with_text(df=reviews, column='review_comment_title', new_text='no title')\n",
    "# reviews.show()"
   ]
  },
  {
   "cell_type": "code",
   "execution_count": 9,
   "metadata": {},
   "outputs": [
    {
     "name": "stdout",
     "output_type": "stream",
     "text": [
      "+---------+--------+------------+--------------------+----------------------+--------------------+-----------------------+\n",
      "|review_id|order_id|review_score|review_comment_title|review_comment_message|review_creation_date|review_answer_timestamp|\n",
      "+---------+--------+------------+--------------------+----------------------+--------------------+-----------------------+\n",
      "|        0|       0|           0|                   0|                     0|                   0|                      0|\n",
      "+---------+--------+------------+--------------------+----------------------+--------------------+-----------------------+\n",
      "\n"
     ]
    }
   ],
   "source": [
    "# check any missing value\n",
    "from pyspark.sql.functions import isnan, when, count, col\n",
    "\n",
    "reviews.select([count(when(isnan(c), c)).alias(c) for c in reviews.columns]).show()"
   ]
  },
  {
   "cell_type": "code",
   "execution_count": 10,
   "metadata": {},
   "outputs": [],
   "source": [
    "from pyspark.sql.functions import to_timestamp\n",
    "from pyspark.sql.types import IntegerType\n",
    "\n",
    "def string_to_timestamp(df, columns):\n",
    "    \n",
    "    for col in columns:\n",
    "        df = df.withColumn(col, to_timestamp(df[col], 'yyyy-MM-dd HH:mm:ss'))\n",
    "\n",
    "    return df\n"
   ]
  },
  {
   "cell_type": "code",
   "execution_count": 11,
   "metadata": {},
   "outputs": [
    {
     "name": "stdout",
     "output_type": "stream",
     "text": [
      "+--------------------+--------------------+------------+--------------------+----------------------+--------------------+-----------------------+\n",
      "|           review_id|            order_id|review_score|review_comment_title|review_comment_message|review_creation_date|review_answer_timestamp|\n",
      "+--------------------+--------------------+------------+--------------------+----------------------+--------------------+-----------------------+\n",
      "|7bc2406110b926393...|73fc7af87114b3971...|           4|            no title|      no comment given| 2018-01-18 00:00:00|    2018-01-18 21:46:59|\n",
      "|80e641a11e56f04c1...|a548910a1c6147796...|           5|            no title|      no comment given| 2018-03-10 00:00:00|    2018-03-11 03:05:13|\n",
      "|228ce5500dc1d8e02...|f9e4b658b201a9f2e...|           5|            no title|      no comment given| 2018-02-17 00:00:00|    2018-02-18 14:36:24|\n",
      "|e64fb393e7b32834b...|658677c97b385a9be...|           5|            no title|  Recebi bem antes ...| 2017-04-21 00:00:00|    2017-04-21 22:02:06|\n",
      "|f7c4243c7fe1938f1...|8e6bfb81e283fa7e4...|           5|            no title|  Parabéns lojas la...| 2018-03-01 00:00:00|    2018-03-02 10:26:53|\n",
      "|15197aa66ff4d0650...|b18dcdf73be663668...|           1|            no title|      no comment given| 2018-04-13 00:00:00|    2018-04-16 00:39:37|\n",
      "|07f9bee5d1b850860...|e48aa0d2dcec3a2e8...|           5|            no title|      no comment given| 2017-07-16 00:00:00|    2017-07-18 19:30:34|\n",
      "|7c6400515c67679fb...|c31a859e34e3adac2...|           5|            no title|      no comment given| 2018-08-14 00:00:00|    2018-08-14 21:36:06|\n",
      "|a3f6f7f6f433de0ae...|9c214ac970e842735...|           5|            no title|      no comment given| 2017-05-17 00:00:00|    2017-05-18 12:05:37|\n",
      "|8670d52e15e00043a...|b9bf720beb4ab3728...|           4|           recomendo|  aparelho eficient...| 2018-05-22 00:00:00|    2018-05-23 16:45:47|\n",
      "|c9cfd2d5ab5911836...|cdf9aa68e72324eeb...|           5|            no title|      no comment given| 2017-12-23 00:00:00|    2017-12-26 14:36:03|\n",
      "|96052551d87e5f62e...|3d374c9e46530bb5e...|           5|            no title|      no comment given| 2017-12-19 00:00:00|    2017-12-20 10:25:22|\n",
      "|4b49719c8a200003f...|9d6f15f95d01e79bd...|           4|            no title|  Mas um pouco ,tra...| 2018-02-16 00:00:00|    2018-02-20 10:52:22|\n",
      "|23f75a37effc35d9a...|2eaf8e099d871cd5c...|           4|            no title|      no comment given| 2018-03-28 00:00:00|    2018-03-30 15:10:55|\n",
      "|9a0abbb668bafb95a...|d7bd0e4afdf94846e...|           3|            no title|      no comment given| 2017-04-30 00:00:00|    2017-05-03 00:02:22|\n",
      "|3948b09f7c818e2d8...|e51478e7e277a8374...|           5|     Super recomendo|  Vendedor confiáve...| 2018-05-23 00:00:00|    2018-05-24 03:00:01|\n",
      "|9314d6f9799f5bfba...|0dacf04c5ad59fd5a...|           2|            no title|  GOSTARIA DE SABER...| 2018-01-18 00:00:00|    2018-01-20 21:25:45|\n",
      "|8e15a274d95600fa1...|ff1581e08b3011021...|           5|            no title|      no comment given| 2018-03-24 00:00:00|    2018-03-26 15:58:32|\n",
      "|fdbdb2629a7cde0f6...|70a752414a13d09cc...|           3|            no title|      no comment given| 2017-09-29 00:00:00|    2017-10-02 01:12:49|\n",
      "|373cbeecea8286a2b...|583174fbe37d3d5f0...|           1|Não chegou meu pr...|               Péssimo| 2018-08-15 00:00:00|    2018-08-15 04:10:37|\n",
      "+--------------------+--------------------+------------+--------------------+----------------------+--------------------+-----------------------+\n",
      "only showing top 20 rows\n",
      "\n"
     ]
    }
   ],
   "source": [
    "columns = ['review_creation_date', 'review_answer_timestamp']\n",
    "reviews = string_to_timestamp(reviews, columns)\n",
    "reviews.show()"
   ]
  },
  {
   "cell_type": "code",
   "execution_count": 12,
   "metadata": {},
   "outputs": [],
   "source": [
    "# from pyspark.sql.functions import to_timestamp\n",
    "# from pyspark.sql.types import IntegerType\n",
    "\n",
    "# df = df.withColumn('review_score', df['review_score'].cast(IntegerType()))\n",
    "\n",
    "# # Assuming you have a DataFrame called df with a column called 'date_str' containing the string dates\n",
    "# df = df.withColumn('review_creation_date', to_timestamp(df.review_creation_date, 'yyyy-MM-dd HH:mm:ss'))\n",
    "# df = df.withColumn('review_answer_timestamp', to_timestamp(df.review_answer_timestamp, 'yyyy-MM-dd HH:mm:ss'))\n",
    "\n",
    "# df.show(1)\n",
    "# df.printSchema()"
   ]
  },
  {
   "cell_type": "markdown",
   "metadata": {},
   "source": [
    "#### Order Dataset\n",
    "This is the core dataset. From each order you might find all other information."
   ]
  },
  {
   "cell_type": "code",
   "execution_count": 13,
   "metadata": {},
   "outputs": [
    {
     "name": "stdout",
     "output_type": "stream",
     "text": [
      "+--------------------+--------------------+------------+------------------------+-------------------+----------------------------+-----------------------------+-----------------------------+\n",
      "|            order_id|         customer_id|order_status|order_purchase_timestamp|  order_approved_at|order_delivered_carrier_date|order_delivered_customer_date|order_estimated_delivery_date|\n",
      "+--------------------+--------------------+------------+------------------------+-------------------+----------------------------+-----------------------------+-----------------------------+\n",
      "|e481f51cbdc54678b...|9ef432eb625129730...|   delivered|     2017-10-02 10:56:33|2017-10-02 11:07:15|         2017-10-04 19:55:00|          2017-10-10 21:25:13|          2017-10-18 00:00:00|\n",
      "|53cdb2fc8bc7dce0b...|b0830fb4747a6c6d2...|   delivered|     2018-07-24 20:41:37|2018-07-26 03:24:27|         2018-07-26 14:31:00|          2018-08-07 15:27:45|          2018-08-13 00:00:00|\n",
      "|47770eb9100c2d0c4...|41ce2a54c0b03bf34...|   delivered|     2018-08-08 08:38:49|2018-08-08 08:55:23|         2018-08-08 13:50:00|          2018-08-17 18:06:29|          2018-09-04 00:00:00|\n",
      "|949d5b44dbf5de918...|f88197465ea7920ad...|   delivered|     2017-11-18 19:28:06|2017-11-18 19:45:59|         2017-11-22 13:39:59|          2017-12-02 00:28:42|          2017-12-15 00:00:00|\n",
      "|ad21c59c0840e6cb8...|8ab97904e6daea886...|   delivered|     2018-02-13 21:18:39|2018-02-13 22:20:29|         2018-02-14 19:46:34|          2018-02-16 18:17:02|          2018-02-26 00:00:00|\n",
      "|a4591c265e18cb1dc...|503740e9ca751ccdd...|   delivered|     2017-07-09 21:57:05|2017-07-09 22:10:13|         2017-07-11 14:58:04|          2017-07-26 10:57:55|          2017-08-01 00:00:00|\n",
      "|6514b8ad8028c9f2c...|9bdf08b4b3b52b552...|   delivered|     2017-05-16 13:10:30|2017-05-16 13:22:11|         2017-05-22 10:07:46|          2017-05-26 12:55:51|          2017-06-07 00:00:00|\n",
      "|76c6e866289321a7c...|f54a9f0e6b351c431...|   delivered|     2017-01-23 18:29:09|2017-01-25 02:50:47|         2017-01-26 14:16:31|          2017-02-02 14:08:10|          2017-03-06 00:00:00|\n",
      "|e69bfb5eb88e0ed6a...|31ad1d1b63eb99624...|   delivered|     2017-07-29 11:55:02|2017-07-29 12:05:32|         2017-08-10 19:45:24|          2017-08-16 17:14:30|          2017-08-23 00:00:00|\n",
      "|e6ce16cb79ec1d90b...|494dded5b201313c6...|   delivered|     2017-05-16 19:41:10|2017-05-16 19:50:18|         2017-05-18 11:40:40|          2017-05-29 11:18:31|          2017-06-07 00:00:00|\n",
      "|34513ce0c4fab462a...|7711cf624183d843a...|   delivered|     2017-07-13 19:58:11|2017-07-13 20:10:08|         2017-07-14 18:43:29|          2017-07-19 14:04:48|          2017-08-08 00:00:00|\n",
      "|82566a660a982b15f...|d3e3b74c766bc6214...|   delivered|     2018-06-07 10:06:19|2018-06-09 03:13:12|         2018-06-11 13:29:00|          2018-06-19 12:05:52|          2018-07-18 00:00:00|\n",
      "|5ff96c15d0b717ac6...|19402a48fe860416a...|   delivered|     2018-07-25 17:44:10|2018-07-25 17:55:14|         2018-07-26 13:16:00|          2018-07-30 15:52:25|          2018-08-08 00:00:00|\n",
      "|432aaf21d85167c2c...|3df704f53d3f1d481...|   delivered|     2018-03-01 14:14:28|2018-03-01 15:10:47|         2018-03-02 21:09:20|          2018-03-12 23:36:26|          2018-03-21 00:00:00|\n",
      "|dcb36b511fcac050b...|3b6828a50ffe54694...|   delivered|     2018-06-07 19:03:12|2018-06-12 23:31:02|         2018-06-11 14:54:00|          2018-06-21 15:34:32|          2018-07-04 00:00:00|\n",
      "|403b97836b0c04a62...|738b086814c6fcc74...|   delivered|     2018-01-02 19:00:43|2018-01-02 19:09:04|         2018-01-03 18:19:09|          2018-01-20 01:38:59|          2018-02-06 00:00:00|\n",
      "|116f0b09343b49556...|3187789bec9909876...|   delivered|     2017-12-26 23:41:31|2017-12-26 23:50:22|         2017-12-28 18:33:05|          2018-01-08 22:36:36|          2018-01-29 00:00:00|\n",
      "|85ce859fd6dc634de...|059f7fc5719c7da6c...|   delivered|     2017-11-21 00:03:41|2017-11-21 00:14:22|         2017-11-23 21:32:26|          2017-11-27 18:28:00|          2017-12-11 00:00:00|\n",
      "|83018ec114eee8641...|7f8c8b9c2ae27bf33...|   delivered|     2017-10-26 15:54:26|2017-10-26 16:08:14|         2017-10-26 21:46:53|          2017-11-08 22:22:00|          2017-11-23 00:00:00|\n",
      "|203096f03d82e0dff...|d2b091571da224a1b...|   delivered|     2017-09-18 14:31:30|2017-09-19 04:04:09|         2017-10-06 17:50:03|          2017-10-09 22:23:46|          2017-09-28 00:00:00|\n",
      "+--------------------+--------------------+------------+------------------------+-------------------+----------------------------+-----------------------------+-----------------------------+\n",
      "only showing top 20 rows\n",
      "\n"
     ]
    }
   ],
   "source": [
    "from pyspark.sql.functions import col, monotonically_increasing_id\n",
    "\n",
    "# Drop rows containing NaN values\n",
    "orders = orders.dropna()\n",
    "\n",
    "# Drop canceled orders\n",
    "orders = orders.filter(col(\"order_status\") != \"canceled\")\n",
    "\n",
    "# Reset the DataFrame index\n",
    "orders = orders.withColumn(\"index\", monotonically_increasing_id())\n",
    "orders = orders.drop(\"index\")\n",
    "\n",
    "# Show the modified DataFrame\n",
    "orders.show()"
   ]
  },
  {
   "cell_type": "code",
   "execution_count": 14,
   "metadata": {},
   "outputs": [
    {
     "name": "stdout",
     "output_type": "stream",
     "text": [
      "root\n",
      " |-- order_id: string (nullable = true)\n",
      " |-- customer_id: string (nullable = true)\n",
      " |-- order_status: string (nullable = true)\n",
      " |-- order_purchase_timestamp: timestamp (nullable = true)\n",
      " |-- order_approved_at: timestamp (nullable = true)\n",
      " |-- order_delivered_carrier_date: timestamp (nullable = true)\n",
      " |-- order_delivered_customer_date: timestamp (nullable = true)\n",
      " |-- order_estimated_delivery_date: timestamp (nullable = true)\n",
      "\n"
     ]
    }
   ],
   "source": [
    "orders.printSchema()"
   ]
  },
  {
   "cell_type": "markdown",
   "metadata": {},
   "source": [
    "#### Products Dataset\n",
    "This dataset includes data about the products sold by Olist.\n"
   ]
  },
  {
   "cell_type": "code",
   "execution_count": 15,
   "metadata": {},
   "outputs": [
    {
     "name": "stdout",
     "output_type": "stream",
     "text": [
      "+---------------------+-----------------------------+\n",
      "|product_category_name|product_category_name_english|\n",
      "+---------------------+-----------------------------+\n",
      "|         beleza_saude|                health_beauty|\n",
      "| informatica_acess...|         computers_accesso...|\n",
      "|           automotivo|                         auto|\n",
      "|      cama_mesa_banho|               bed_bath_table|\n",
      "|     moveis_decoracao|              furniture_decor|\n",
      "|        esporte_lazer|               sports_leisure|\n",
      "|           perfumaria|                    perfumery|\n",
      "| utilidades_domest...|                   housewares|\n",
      "|            telefonia|                    telephony|\n",
      "|   relogios_presentes|                watches_gifts|\n",
      "|    alimentos_bebidas|                   food_drink|\n",
      "|                bebes|                         baby|\n",
      "|            papelaria|                   stationery|\n",
      "| tablets_impressao...|         tablets_printing_...|\n",
      "|           brinquedos|                         toys|\n",
      "|       telefonia_fixa|              fixed_telephony|\n",
      "|   ferramentas_jardim|                 garden_tools|\n",
      "| fashion_bolsas_e_...|         fashion_bags_acce...|\n",
      "|      eletroportateis|             small_appliances|\n",
      "|       consoles_games|               consoles_games|\n",
      "+---------------------+-----------------------------+\n",
      "only showing top 20 rows\n",
      "\n"
     ]
    }
   ],
   "source": [
    "translation.show()"
   ]
  },
  {
   "cell_type": "code",
   "execution_count": 16,
   "metadata": {},
   "outputs": [
    {
     "name": "stdout",
     "output_type": "stream",
     "text": [
      "+--------------------+---------------------+-------------------+--------------------------+------------------+----------------+-----------------+-----------------+----------------+\n",
      "|          product_id|product_category_name|product_name_lenght|product_description_lenght|product_photos_qty|product_weight_g|product_length_cm|product_height_cm|product_width_cm|\n",
      "+--------------------+---------------------+-------------------+--------------------------+------------------+----------------+-----------------+-----------------+----------------+\n",
      "|1e9e8ef04dbcff454...|           perfumaria|                 40|                       287|                 1|             225|               16|               10|              14|\n",
      "|3aa071139cb16b67c...|                artes|                 44|                       276|                 1|            1000|               30|               18|              20|\n",
      "|96bd76ec8810374ed...|        esporte_lazer|                 46|                       250|                 1|             154|               18|                9|              15|\n",
      "|cef67bcfe19066a93...|                bebes|                 27|                       261|                 1|             371|               26|                4|              26|\n",
      "|9dc1a7de274444849...| utilidades_domest...|                 37|                       402|                 4|             625|               20|               17|              13|\n",
      "|41d3672d4792049fa...| instrumentos_musi...|                 60|                       745|                 1|             200|               38|                5|              11|\n",
      "|732bd381ad09e530f...|           cool_stuff|                 56|                      1272|                 4|           18350|               70|               24|              44|\n",
      "|2548af3e6e77a690c...|     moveis_decoracao|                 56|                       184|                 2|             900|               40|                8|              40|\n",
      "|37cc742be07708b53...|     eletrodomesticos|                 57|                       163|                 1|             400|               27|               13|              17|\n",
      "|8c92109888e8cdf9d...|           brinquedos|                 36|                      1156|                 1|             600|               17|               10|              12|\n",
      "|14aa47b7fe5c25522...|      cama_mesa_banho|                 54|                       630|                 1|            1100|               16|               10|              16|\n",
      "|03b63c5fc16691530...|                bebes|                 49|                       728|                 4|            7150|               50|               19|              45|\n",
      "|cf55509ea8edaaac1...| instrumentos_musi...|                 43|                      1827|                 3|             250|               17|                7|              17|\n",
      "|7bb6f29c2be577161...|     moveis_decoracao|                 51|                      2083|                 2|             600|               68|               11|              13|\n",
      "|eb31436580a610f20...| construcao_ferram...|                 59|                      1602|                 4|             200|               17|                7|              17|\n",
      "|3bb7f144022e67327...|        esporte_lazer|                 22|                      3021|                 1|             800|               16|                2|              11|\n",
      "|6a2fb4dd53d2cdb88...|           perfumaria|                 39|                       346|                 2|             400|               27|                5|              20|\n",
      "|a1b71017a84f92fd8...| informatica_acess...|                 59|                       636|                 1|             900|               40|               15|              20|\n",
      "|a0736b92e52f6cead...|     moveis_decoracao|                 56|                       296|                 2|            1700|              100|                7|              15|\n",
      "|f53103a77d9cf245e...|      cama_mesa_banho|                 52|                       206|                 1|             500|               16|               10|              16|\n",
      "+--------------------+---------------------+-------------------+--------------------------+------------------+----------------+-----------------+-----------------+----------------+\n",
      "only showing top 20 rows\n",
      "\n"
     ]
    }
   ],
   "source": [
    "products.show()"
   ]
  },
  {
   "cell_type": "code",
   "execution_count": 17,
   "metadata": {},
   "outputs": [
    {
     "name": "stdout",
     "output_type": "stream",
     "text": [
      "root\n",
      " |-- product_id: string (nullable = true)\n",
      " |-- product_category_name: string (nullable = true)\n",
      " |-- product_name_lenght: integer (nullable = true)\n",
      " |-- product_description_lenght: integer (nullable = true)\n",
      " |-- product_photos_qty: integer (nullable = true)\n",
      " |-- product_weight_g: integer (nullable = true)\n",
      " |-- product_length_cm: integer (nullable = true)\n",
      " |-- product_height_cm: integer (nullable = true)\n",
      " |-- product_width_cm: integer (nullable = true)\n",
      "\n"
     ]
    }
   ],
   "source": [
    "from pyspark.sql.functions import col, monotonically_increasing_id\n",
    "# Drop rows with null values\n",
    "products = products.dropna()\n",
    "\n",
    "# Reset the DataFrame index\n",
    "products = products.withColumn(\"index\", monotonically_increasing_id())\n",
    "products = products.drop(\"index\")\n",
    "\n",
    "# Show the modified DataFrame\n",
    "products.printSchema()"
   ]
  },
  {
   "cell_type": "code",
   "execution_count": 18,
   "metadata": {},
   "outputs": [
    {
     "name": "stdout",
     "output_type": "stream",
     "text": [
      "+--------------------+-------------------+--------------------------+------------------+----------------+-----------------+-----------------+----------------+---------------------+\n",
      "|          product_id|product_name_lenght|product_description_lenght|product_photos_qty|product_weight_g|product_length_cm|product_height_cm|product_width_cm|product_category_name|\n",
      "+--------------------+-------------------+--------------------------+------------------+----------------+-----------------+-----------------+----------------+---------------------+\n",
      "|1e9e8ef04dbcff454...|                 40|                       287|                 1|             225|               16|               10|              14|            perfumery|\n",
      "|3aa071139cb16b67c...|                 44|                       276|                 1|            1000|               30|               18|              20|                  art|\n",
      "|96bd76ec8810374ed...|                 46|                       250|                 1|             154|               18|                9|              15|       sports_leisure|\n",
      "|cef67bcfe19066a93...|                 27|                       261|                 1|             371|               26|                4|              26|                 baby|\n",
      "|9dc1a7de274444849...|                 37|                       402|                 4|             625|               20|               17|              13|           housewares|\n",
      "|41d3672d4792049fa...|                 60|                       745|                 1|             200|               38|                5|              11|  musical_instruments|\n",
      "|732bd381ad09e530f...|                 56|                      1272|                 4|           18350|               70|               24|              44|           cool_stuff|\n",
      "|2548af3e6e77a690c...|                 56|                       184|                 2|             900|               40|                8|              40|      furniture_decor|\n",
      "|37cc742be07708b53...|                 57|                       163|                 1|             400|               27|               13|              17|      home_appliances|\n",
      "|8c92109888e8cdf9d...|                 36|                      1156|                 1|             600|               17|               10|              12|                 toys|\n",
      "|14aa47b7fe5c25522...|                 54|                       630|                 1|            1100|               16|               10|              16|       bed_bath_table|\n",
      "|03b63c5fc16691530...|                 49|                       728|                 4|            7150|               50|               19|              45|                 baby|\n",
      "|cf55509ea8edaaac1...|                 43|                      1827|                 3|             250|               17|                7|              17|  musical_instruments|\n",
      "|7bb6f29c2be577161...|                 51|                      2083|                 2|             600|               68|               11|              13|      furniture_decor|\n",
      "|eb31436580a610f20...|                 59|                      1602|                 4|             200|               17|                7|              17| construction_tool...|\n",
      "|3bb7f144022e67327...|                 22|                      3021|                 1|             800|               16|                2|              11|       sports_leisure|\n",
      "|6a2fb4dd53d2cdb88...|                 39|                       346|                 2|             400|               27|                5|              20|            perfumery|\n",
      "|a1b71017a84f92fd8...|                 59|                       636|                 1|             900|               40|               15|              20| computers_accesso...|\n",
      "|a0736b92e52f6cead...|                 56|                       296|                 2|            1700|              100|                7|              15|      furniture_decor|\n",
      "|f53103a77d9cf245e...|                 52|                       206|                 1|             500|               16|               10|              16|       bed_bath_table|\n",
      "+--------------------+-------------------+--------------------------+------------------+----------------+-----------------+-----------------+----------------+---------------------+\n",
      "only showing top 20 rows\n",
      "\n"
     ]
    }
   ],
   "source": [
    "# Perform the join operation\n",
    "joined_df = products.join(translation, on='product_category_name', how='left')\n",
    "\n",
    "# Select the translated column and drop the original column\n",
    "\n",
    "translated_df = joined_df.drop(\"product_category_name\").withColumnRenamed(\n",
    "    'product_category_name_english', 'product_category_name')\n",
    "\n",
    "# Show the modified DataFrame\n",
    "# translated_df.show()\n",
    "translated_df.show()\n",
    "products = translated_df"
   ]
  },
  {
   "cell_type": "code",
   "execution_count": 19,
   "metadata": {},
   "outputs": [
    {
     "data": {
      "text/plain": [
       "72"
      ]
     },
     "execution_count": 19,
     "metadata": {},
     "output_type": "execute_result"
    }
   ],
   "source": [
    "# products.describe(['product_id','product_category_name']).show()\n",
    "# products.groupBy(\"product_category_name\").count().show()\n",
    "products.select('product_category_name').distinct().count()\n"
   ]
  },
  {
   "cell_type": "markdown",
   "metadata": {},
   "source": [
    "#### Sellers Dataset\n",
    "This dataset includes data about the sellers that fulfilled orders made at Olist. Use it to find the seller location and to identify which seller fulfilled each product."
   ]
  },
  {
   "cell_type": "code",
   "execution_count": 20,
   "metadata": {},
   "outputs": [
    {
     "name": "stdout",
     "output_type": "stream",
     "text": [
      "+--------------------+----------------------+-----------------+------------+\n",
      "|           seller_id|seller_zip_code_prefix|      seller_city|seller_state|\n",
      "+--------------------+----------------------+-----------------+------------+\n",
      "|3442f8959a84dea7e...|                 13023|         campinas|          SP|\n",
      "|d1b65fc7debc3361e...|                 13844|       mogi guacu|          SP|\n",
      "|ce3ad9de960102d06...|                 20031|   rio de janeiro|          RJ|\n",
      "|c0f3eea2e14555b6f...|                  4195|        sao paulo|          SP|\n",
      "|51a04a8a6bdcb23de...|                 12914|braganca paulista|          SP|\n",
      "|c240c4061717ac180...|                 20920|   rio de janeiro|          RJ|\n",
      "|e49c26c3edfa46d22...|                 55325|           brejao|          PE|\n",
      "|1b938a7ec6ac5061a...|                 16304|        penapolis|          SP|\n",
      "|768a86e36ad6aae3d...|                  1529|        sao paulo|          SP|\n",
      "|ccc4bbb5f32a6ab2b...|                 80310|         curitiba|          PR|\n",
      "+--------------------+----------------------+-----------------+------------+\n",
      "only showing top 10 rows\n",
      "\n",
      "root\n",
      " |-- seller_id: string (nullable = true)\n",
      " |-- seller_zip_code_prefix: integer (nullable = true)\n",
      " |-- seller_city: string (nullable = true)\n",
      " |-- seller_state: string (nullable = true)\n",
      "\n"
     ]
    }
   ],
   "source": [
    "sellers.show(10)\n",
    "sellers.printSchema()"
   ]
  },
  {
   "cell_type": "code",
   "execution_count": 21,
   "metadata": {},
   "outputs": [
    {
     "name": "stdout",
     "output_type": "stream",
     "text": [
      "+-------+--------------------+----------------------+-----------+------------+\n",
      "|summary|           seller_id|seller_zip_code_prefix|seller_city|seller_state|\n",
      "+-------+--------------------+----------------------+-----------+------------+\n",
      "|  count|                3095|                  3095|       3095|        3095|\n",
      "|   mean|                NULL|    32291.059450726978|  4482255.0|        NULL|\n",
      "| stddev|                NULL|     32713.45382950901|       NULL|        NULL|\n",
      "|    min|0015a82c2db000af6...|                  1001|   04482255|          AC|\n",
      "|    max|ffff564a4f9085cd2...|                 99730|      xaxim|          SP|\n",
      "+-------+--------------------+----------------------+-----------+------------+\n",
      "\n"
     ]
    }
   ],
   "source": [
    "sellers.describe().show()"
   ]
  },
  {
   "cell_type": "markdown",
   "metadata": {},
   "source": [
    "#### Customers Dataset\n",
    "This dataset has information about the customer and its location. Use it to identify unique customers in the orders dataset and to find the orders delivery location.\n",
    "\n",
    "At our system each order is assigned to a unique customerid. This means that the same customer will get different ids for different orders. The purpose of having a customerunique_id on the dataset is to allow you to identify customers that made repurchases at the store. Otherwise you would find that each order had a different customer associated with."
   ]
  },
  {
   "cell_type": "code",
   "execution_count": 22,
   "metadata": {},
   "outputs": [
    {
     "name": "stdout",
     "output_type": "stream",
     "text": [
      "+--------------------+--------------------+------------------------+--------------------+--------------+\n",
      "|         customer_id|  customer_unique_id|customer_zip_code_prefix|       customer_city|customer_state|\n",
      "+--------------------+--------------------+------------------------+--------------------+--------------+\n",
      "|06b8999e2fba1a1fb...|861eff4711a542e4b...|                   14409|              franca|            SP|\n",
      "|18955e83d337fd6b2...|290c77bc529b7ac93...|                    9790|sao bernardo do c...|            SP|\n",
      "|4e7b3e00288586ebd...|060e732b5b29e8181...|                    1151|           sao paulo|            SP|\n",
      "|b2b6027bc5c5109e5...|259dac757896d24d7...|                    8775|     mogi das cruzes|            SP|\n",
      "|4f2d8ab171c80ec83...|345ecd01c38d18a90...|                   13056|            campinas|            SP|\n",
      "|879864dab9bc30475...|4c93744516667ad3b...|                   89254|      jaragua do sul|            SC|\n",
      "|fd826e7cf63160e53...|addec96d2e059c80c...|                    4534|           sao paulo|            SP|\n",
      "|5e274e7a0c3809e14...|57b2a98a409812fe9...|                   35182|             timoteo|            MG|\n",
      "|5adf08e34b2e99398...|1175e95fb47ddff9d...|                   81560|            curitiba|            PR|\n",
      "|4b7139f34592b3a31...|9afe194fb833f79e3...|                   30575|      belo horizonte|            MG|\n",
      "+--------------------+--------------------+------------------------+--------------------+--------------+\n",
      "only showing top 10 rows\n",
      "\n",
      "root\n",
      " |-- customer_id: string (nullable = true)\n",
      " |-- customer_unique_id: string (nullable = true)\n",
      " |-- customer_zip_code_prefix: integer (nullable = true)\n",
      " |-- customer_city: string (nullable = true)\n",
      " |-- customer_state: string (nullable = true)\n",
      "\n"
     ]
    }
   ],
   "source": [
    "customers.show(10)\n",
    "customers.printSchema()"
   ]
  },
  {
   "cell_type": "code",
   "execution_count": 23,
   "metadata": {},
   "outputs": [
    {
     "name": "stdout",
     "output_type": "stream",
     "text": [
      "+-------+--------------------+--------------------+------------------------+-------------------+--------------+\n",
      "|summary|         customer_id|  customer_unique_id|customer_zip_code_prefix|      customer_city|customer_state|\n",
      "+-------+--------------------+--------------------+------------------------+-------------------+--------------+\n",
      "|  count|               99441|               99441|                   99441|              99441|         99441|\n",
      "|   mean|                NULL|                NULL|       35137.47458291851|               NULL|          NULL|\n",
      "| stddev|                NULL|                NULL|       29797.93899620612|               NULL|          NULL|\n",
      "|    min|00012a2ce6f8dcda2...|0000366f3b9a7992b...|                    1003|abadia dos dourados|            AC|\n",
      "|    max|ffffe8b65bbe3087b...|ffffd2657e2aad290...|                   99990|             zortea|            TO|\n",
      "+-------+--------------------+--------------------+------------------------+-------------------+--------------+\n",
      "\n"
     ]
    }
   ],
   "source": [
    "customers.describe().show()"
   ]
  },
  {
   "cell_type": "markdown",
   "metadata": {},
   "source": [
    "#### Order Items Dataset\n",
    "This dataset includes data about the items purchased within each order."
   ]
  },
  {
   "cell_type": "code",
   "execution_count": 24,
   "metadata": {},
   "outputs": [
    {
     "name": "stdout",
     "output_type": "stream",
     "text": [
      "+--------------------+-------------+--------------------+--------------------+-------------------+------+-------------+\n",
      "|            order_id|order_item_id|          product_id|           seller_id|shipping_limit_date| price|freight_value|\n",
      "+--------------------+-------------+--------------------+--------------------+-------------------+------+-------------+\n",
      "|00010242fe8c5a6d1...|            1|4244733e06e7ecb49...|48436dade18ac8b2b...|2017-09-19 09:45:35|  58.9|        13.29|\n",
      "|00018f77f2f0320c5...|            1|e5f2d52b802189ee6...|dd7ddc04e1b6c2c61...|2017-05-03 11:05:13| 239.9|        19.93|\n",
      "|000229ec398224ef6...|            1|c777355d18b72b67a...|5b51032eddd242adc...|2018-01-18 14:48:30| 199.0|        17.87|\n",
      "|00024acbcdf0a6daa...|            1|7634da152a4610f15...|9d7a1d34a50524090...|2018-08-15 10:10:18| 12.99|        12.79|\n",
      "|00042b26cf59d7ce6...|            1|ac6c3623068f30de0...|df560393f3a51e745...|2017-02-13 13:57:51| 199.9|        18.14|\n",
      "|00048cc3ae777c65d...|            1|ef92defde845ab845...|6426d21aca402a131...|2017-05-23 03:55:27|  21.9|        12.69|\n",
      "|00054e8431b9d7675...|            1|8d4f2bb7e93e6710a...|7040e82f899a04d1b...|2017-12-14 12:10:31|  19.9|        11.85|\n",
      "|000576fe39319847c...|            1|557d850972a7d6f79...|5996cddab893a4652...|2018-07-10 12:30:45| 810.0|        70.75|\n",
      "|0005a1a1728c9d785...|            1|310ae3c140ff94b03...|a416b6a846a117243...|2018-03-26 18:31:29|145.95|        11.65|\n",
      "|0005f50442cb953dc...|            1|4535b0e1091c278df...|ba143b05f0110f0dc...|2018-07-06 14:10:56| 53.99|         11.4|\n",
      "+--------------------+-------------+--------------------+--------------------+-------------------+------+-------------+\n",
      "only showing top 10 rows\n",
      "\n",
      "root\n",
      " |-- order_id: string (nullable = true)\n",
      " |-- order_item_id: integer (nullable = true)\n",
      " |-- product_id: string (nullable = true)\n",
      " |-- seller_id: string (nullable = true)\n",
      " |-- shipping_limit_date: timestamp (nullable = true)\n",
      " |-- price: double (nullable = true)\n",
      " |-- freight_value: double (nullable = true)\n",
      "\n"
     ]
    }
   ],
   "source": [
    "order_items.show(10)\n",
    "order_items.printSchema()"
   ]
  },
  {
   "cell_type": "code",
   "execution_count": 25,
   "metadata": {},
   "outputs": [
    {
     "name": "stdout",
     "output_type": "stream",
     "text": [
      "+-------+--------------------+------------------+--------------------+--------------------+------------------+------------------+\n",
      "|summary|            order_id|     order_item_id|          product_id|           seller_id|             price|     freight_value|\n",
      "+-------+--------------------+------------------+--------------------+--------------------+------------------+------------------+\n",
      "|  count|              112650|            112650|              112650|              112650|            112650|            112650|\n",
      "|   mean|                NULL|1.1978339991122948|                NULL|                NULL|120.65373901477311| 19.99031992898562|\n",
      "| stddev|                NULL|0.7051240313951734|                NULL|                NULL| 183.6339280502597|15.806405412296998|\n",
      "|    min|00010242fe8c5a6d1...|                 1|00066f42aeeb9f300...|0015a82c2db000af6...|              0.85|               0.0|\n",
      "|    max|fffe41c64501cc87c...|                21|fffe9eeff12fcbd74...|ffff564a4f9085cd2...|            6735.0|            409.68|\n",
      "+-------+--------------------+------------------+--------------------+--------------------+------------------+------------------+\n",
      "\n"
     ]
    }
   ],
   "source": [
    "order_items.describe().show()"
   ]
  },
  {
   "cell_type": "markdown",
   "metadata": {},
   "source": [
    "#### Geolocation Dataset\n",
    "This dataset has information Brazilian zip codes and its lat/lng coordinates. Use it to plot maps and find distances between sellers and customers."
   ]
  },
  {
   "cell_type": "code",
   "execution_count": 26,
   "metadata": {},
   "outputs": [
    {
     "name": "stdout",
     "output_type": "stream",
     "text": [
      "+---------------------------+-------------------+------------------+----------------+-----------------+\n",
      "|geolocation_zip_code_prefix|    geolocation_lat|   geolocation_lng|geolocation_city|geolocation_state|\n",
      "+---------------------------+-------------------+------------------+----------------+-----------------+\n",
      "|                       1037| -23.54562128115268|-46.63929204800168|       sao paulo|               SP|\n",
      "|                       1046|-23.546081127035535|-46.64482029837157|       sao paulo|               SP|\n",
      "|                       1046| -23.54612896641469|-46.64295148361138|       sao paulo|               SP|\n",
      "|                       1041|  -23.5443921648681|-46.63949930627844|       sao paulo|               SP|\n",
      "|                       1035|-23.541577961711493|-46.64160722329613|       sao paulo|               SP|\n",
      "|                       1012|-23.547762303364266|-46.63536053788448|       são paulo|               SP|\n",
      "|                       1047|-23.546273112412678|-46.64122516971552|       sao paulo|               SP|\n",
      "|                       1013|-23.546923208436723| -46.6342636964915|       sao paulo|               SP|\n",
      "|                       1029|-23.543769055769133|-46.63427784085132|       sao paulo|               SP|\n",
      "|                       1011|-23.547639550320632|-46.63603162315495|       sao paulo|               SP|\n",
      "+---------------------------+-------------------+------------------+----------------+-----------------+\n",
      "only showing top 10 rows\n",
      "\n",
      "root\n",
      " |-- geolocation_zip_code_prefix: integer (nullable = true)\n",
      " |-- geolocation_lat: double (nullable = true)\n",
      " |-- geolocation_lng: double (nullable = true)\n",
      " |-- geolocation_city: string (nullable = true)\n",
      " |-- geolocation_state: string (nullable = true)\n",
      "\n"
     ]
    }
   ],
   "source": [
    "location.show(10)\n",
    "location.printSchema()"
   ]
  },
  {
   "cell_type": "code",
   "execution_count": 27,
   "metadata": {},
   "outputs": [
    {
     "name": "stdout",
     "output_type": "stream",
     "text": [
      "+-------+---------------------------+-------------------+-------------------+----------------+-----------------+\n",
      "|summary|geolocation_zip_code_prefix|    geolocation_lat|    geolocation_lng|geolocation_city|geolocation_state|\n",
      "+-------+---------------------------+-------------------+-------------------+----------------+-----------------+\n",
      "|  count|                    1000163|            1000163|            1000163|         1000163|          1000163|\n",
      "|   mean|          36574.16646586607|-21.176152910383102|-46.390541320935995|            NULL|             NULL|\n",
      "| stddev|          30549.33571031949|  5.715866308823084|  4.269748306619793|            NULL|             NULL|\n",
      "|    min|                       1001|  -36.6053744107061|-101.46676644931476|        * cidade|               AC|\n",
      "|    max|                      99990|  45.06593318269697| 121.10539381057764|            óleo|               TO|\n",
      "+-------+---------------------------+-------------------+-------------------+----------------+-----------------+\n",
      "\n"
     ]
    }
   ],
   "source": [
    "location.describe().show()"
   ]
  },
  {
   "cell_type": "code",
   "execution_count": 28,
   "metadata": {},
   "outputs": [
    {
     "name": "stdout",
     "output_type": "stream",
     "text": [
      "+---------------------------+-------------------+-------------------+----------------+-----------------+\n",
      "|geolocation_zip_code_prefix|    geolocation_lat|    geolocation_lng|geolocation_city|geolocation_state|\n",
      "+---------------------------+-------------------+-------------------+----------------+-----------------+\n",
      "|                       1001| -23.54929199999999|-46.633559478233785|       sao paulo|               SP|\n",
      "|                       1002| -23.54831797807146| -46.63542110199666|       sao paulo|               SP|\n",
      "|                       1003| -23.54903244546711| -46.63531311226845|       sao paulo|               SP|\n",
      "|                       1004|-23.550115903139222| -46.63512161420169|       sao paulo|               SP|\n",
      "|                       1005|-23.549819091869107| -46.63560588995324|       sao paulo|               SP|\n",
      "|                       1006| -23.55052430835593| -46.63669363835193|       sao paulo|               SP|\n",
      "|                       1007|-23.550392524842728|-46.637301640717844|       sao paulo|               SP|\n",
      "|                       1008| -23.54425493154535|-46.634639135589296|       sao paulo|               SP|\n",
      "|                       1009| -23.54693540437998| -46.63658792659698|       sao paulo|               SP|\n",
      "|                       1010|-23.547806958346342| -46.63612181853806|       sao paulo|               SP|\n",
      "|                       1011|-23.547639550320632| -46.63603162315495|       sao paulo|               SP|\n",
      "|                       1012|-23.547762303364266| -46.63536053788448|       são paulo|               SP|\n",
      "|                       1013|-23.546923208436723|  -46.6342636964915|       sao paulo|               SP|\n",
      "|                       1014|-23.546435343326205| -46.63383023397196|       sao paulo|               SP|\n",
      "|                       1015|-23.544826346129778| -46.63086956396899|       sao paulo|               SP|\n",
      "|                       1016|-23.548495128772636|-46.633490627676125|       sao paulo|               SP|\n",
      "|                       1017| -23.55001091199737| -46.63116636914989|       são paulo|               SP|\n",
      "|                       1018|-23.550218647763327|-46.631879999999995|       sao paulo|               SP|\n",
      "|                       1019|-23.552151883432384| -46.63080224715792|       sao paulo|               SP|\n",
      "|                       1020| -23.55223547100232|  -46.6284406588955|       são paulo|               SP|\n",
      "+---------------------------+-------------------+-------------------+----------------+-----------------+\n",
      "only showing top 20 rows\n",
      "\n"
     ]
    }
   ],
   "source": [
    "# Drop duplicates based on the 'geolocation_zip_code_prefix' column\n",
    "location = location.dropDuplicates(subset=['geolocation_zip_code_prefix'])\n",
    "\n",
    "# Show the modified DataFrame\n",
    "location.show()"
   ]
  },
  {
   "cell_type": "markdown",
   "metadata": {},
   "source": [
    "#### Payments Dataset\n",
    "This dataset includes data about the orders payment options."
   ]
  },
  {
   "cell_type": "code",
   "execution_count": 29,
   "metadata": {},
   "outputs": [
    {
     "name": "stdout",
     "output_type": "stream",
     "text": [
      "+--------------------+------------------+------------+--------------------+-------------+\n",
      "|            order_id|payment_sequential|payment_type|payment_installments|payment_value|\n",
      "+--------------------+------------------+------------+--------------------+-------------+\n",
      "|b81ef226f3fe1789b...|                 1| credit_card|                   8|        99.33|\n",
      "|a9810da82917af2d9...|                 1| credit_card|                   1|        24.39|\n",
      "|25e8ea4e93396b6fa...|                 1| credit_card|                   1|        65.71|\n",
      "|ba78997921bbcdc13...|                 1| credit_card|                   8|       107.78|\n",
      "|42fdf880ba16b47b5...|                 1| credit_card|                   2|       128.45|\n",
      "|298fcdf1f73eb413e...|                 1| credit_card|                   2|        96.12|\n",
      "|771ee386b001f0620...|                 1| credit_card|                   1|        81.16|\n",
      "|3d7239c394a212faa...|                 1| credit_card|                   3|        51.84|\n",
      "|1f78449c87a54faf9...|                 1| credit_card|                   6|       341.09|\n",
      "|0573b5e23cbd79800...|                 1|      boleto|                   1|        51.95|\n",
      "+--------------------+------------------+------------+--------------------+-------------+\n",
      "only showing top 10 rows\n",
      "\n",
      "root\n",
      " |-- order_id: string (nullable = true)\n",
      " |-- payment_sequential: integer (nullable = true)\n",
      " |-- payment_type: string (nullable = true)\n",
      " |-- payment_installments: integer (nullable = true)\n",
      " |-- payment_value: double (nullable = true)\n",
      "\n"
     ]
    }
   ],
   "source": [
    "payments.show(10)\n",
    "payments.printSchema()"
   ]
  },
  {
   "cell_type": "code",
   "execution_count": 30,
   "metadata": {},
   "outputs": [
    {
     "name": "stdout",
     "output_type": "stream",
     "text": [
      "+-------+--------------------+------------------+------------+--------------------+------------------+\n",
      "|summary|            order_id|payment_sequential|payment_type|payment_installments|     payment_value|\n",
      "+-------+--------------------+------------------+------------+--------------------+------------------+\n",
      "|  count|              103886|            103886|      103886|              103886|            103886|\n",
      "|   mean|                NULL|1.0926785129853878|        NULL|   2.853348863176944|154.10038041698365|\n",
      "| stddev|                NULL|0.7065837791949948|        NULL|   2.687050673856486|217.49406386472384|\n",
      "|    min|00010242fe8c5a6d1...|                 1|      boleto|                   0|               0.0|\n",
      "|    max|fffe41c64501cc87c...|                29|     voucher|                  24|          13664.08|\n",
      "+-------+--------------------+------------------+------------+--------------------+------------------+\n",
      "\n"
     ]
    }
   ],
   "source": [
    "payments.describe().show()"
   ]
  },
  {
   "cell_type": "code",
   "execution_count": 43,
   "metadata": {},
   "outputs": [],
   "source": [
    "master_df = orders.join(order_items, on='order_id') \\\n",
    "        .join(reviews, on='order_id') \\\n",
    "        .join(customers, on='customer_id') \\\n",
    "        .join(products, on='product_id') \\\n",
    "\n"
   ]
  },
  {
   "cell_type": "code",
   "execution_count": 47,
   "metadata": {},
   "outputs": [
    {
     "ename": "Py4JJavaError",
     "evalue": "An error occurred while calling o270.csv.\n: java.lang.UnsatisfiedLinkError: 'boolean org.apache.hadoop.io.nativeio.NativeIO$Windows.access0(java.lang.String, int)'\r\n\tat org.apache.hadoop.io.nativeio.NativeIO$Windows.access0(Native Method)\r\n\tat org.apache.hadoop.io.nativeio.NativeIO$Windows.access(NativeIO.java:793)\r\n\tat org.apache.hadoop.fs.FileUtil.canRead(FileUtil.java:1249)\r\n\tat org.apache.hadoop.fs.FileUtil.list(FileUtil.java:1454)\r\n\tat org.apache.hadoop.fs.RawLocalFileSystem.listStatus(RawLocalFileSystem.java:601)\r\n\tat org.apache.hadoop.fs.FileSystem.listStatus(FileSystem.java:1972)\r\n\tat org.apache.hadoop.fs.FileSystem.listStatus(FileSystem.java:2014)\r\n\tat org.apache.hadoop.fs.ChecksumFileSystem.listStatus(ChecksumFileSystem.java:761)\r\n\tat org.apache.hadoop.fs.FileSystem.listStatus(FileSystem.java:1972)\r\n\tat org.apache.hadoop.fs.FileSystem.listStatus(FileSystem.java:2014)\r\n\tat org.apache.hadoop.mapreduce.lib.output.FileOutputCommitter.getAllCommittedTaskPaths(FileOutputCommitter.java:334)\r\n\tat org.apache.hadoop.mapreduce.lib.output.FileOutputCommitter.commitJobInternal(FileOutputCommitter.java:404)\r\n\tat org.apache.hadoop.mapreduce.lib.output.FileOutputCommitter.commitJob(FileOutputCommitter.java:377)\r\n\tat org.apache.spark.internal.io.HadoopMapReduceCommitProtocol.commitJob(HadoopMapReduceCommitProtocol.scala:192)\r\n\tat org.apache.spark.sql.execution.datasources.FileFormatWriter$.$anonfun$writeAndCommit$3(FileFormatWriter.scala:275)\r\n\tat scala.runtime.java8.JFunction0$mcV$sp.apply(JFunction0$mcV$sp.java:23)\r\n\tat org.apache.spark.util.Utils$.timeTakenMs(Utils.scala:552)\r\n\tat org.apache.spark.sql.execution.datasources.FileFormatWriter$.writeAndCommit(FileFormatWriter.scala:275)\r\n\tat org.apache.spark.sql.execution.datasources.FileFormatWriter$.executeWrite(FileFormatWriter.scala:304)\r\n\tat org.apache.spark.sql.execution.datasources.FileFormatWriter$.write(FileFormatWriter.scala:190)\r\n\tat org.apache.spark.sql.execution.datasources.InsertIntoHadoopFsRelationCommand.run(InsertIntoHadoopFsRelationCommand.scala:190)\r\n\tat org.apache.spark.sql.execution.command.DataWritingCommandExec.sideEffectResult$lzycompute(commands.scala:113)\r\n\tat org.apache.spark.sql.execution.command.DataWritingCommandExec.sideEffectResult(commands.scala:111)\r\n\tat org.apache.spark.sql.execution.command.DataWritingCommandExec.executeCollect(commands.scala:125)\r\n\tat org.apache.spark.sql.execution.adaptive.AdaptiveSparkPlanExec.$anonfun$executeCollect$1(AdaptiveSparkPlanExec.scala:374)\r\n\tat org.apache.spark.sql.execution.adaptive.AdaptiveSparkPlanExec.withFinalPlanUpdate(AdaptiveSparkPlanExec.scala:402)\r\n\tat org.apache.spark.sql.execution.adaptive.AdaptiveSparkPlanExec.executeCollect(AdaptiveSparkPlanExec.scala:374)\r\n\tat org.apache.spark.sql.execution.QueryExecution$$anonfun$eagerlyExecuteCommands$1.$anonfun$applyOrElse$1(QueryExecution.scala:107)\r\n\tat org.apache.spark.sql.execution.SQLExecution$.$anonfun$withNewExecutionId$6(SQLExecution.scala:125)\r\n\tat org.apache.spark.sql.execution.SQLExecution$.withSQLConfPropagated(SQLExecution.scala:201)\r\n\tat org.apache.spark.sql.execution.SQLExecution$.$anonfun$withNewExecutionId$1(SQLExecution.scala:108)\r\n\tat org.apache.spark.sql.SparkSession.withActive(SparkSession.scala:900)\r\n\tat org.apache.spark.sql.execution.SQLExecution$.withNewExecutionId(SQLExecution.scala:66)\r\n\tat org.apache.spark.sql.execution.QueryExecution$$anonfun$eagerlyExecuteCommands$1.applyOrElse(QueryExecution.scala:107)\r\n\tat org.apache.spark.sql.execution.QueryExecution$$anonfun$eagerlyExecuteCommands$1.applyOrElse(QueryExecution.scala:98)\r\n\tat org.apache.spark.sql.catalyst.trees.TreeNode.$anonfun$transformDownWithPruning$1(TreeNode.scala:461)\r\n\tat org.apache.spark.sql.catalyst.trees.CurrentOrigin$.withOrigin(origin.scala:76)\r\n\tat org.apache.spark.sql.catalyst.trees.TreeNode.transformDownWithPruning(TreeNode.scala:461)\r\n\tat org.apache.spark.sql.catalyst.plans.logical.LogicalPlan.org$apache$spark$sql$catalyst$plans$logical$AnalysisHelper$$super$transformDownWithPruning(LogicalPlan.scala:32)\r\n\tat org.apache.spark.sql.catalyst.plans.logical.AnalysisHelper.transformDownWithPruning(AnalysisHelper.scala:267)\r\n\tat org.apache.spark.sql.catalyst.plans.logical.AnalysisHelper.transformDownWithPruning$(AnalysisHelper.scala:263)\r\n\tat org.apache.spark.sql.catalyst.plans.logical.LogicalPlan.transformDownWithPruning(LogicalPlan.scala:32)\r\n\tat org.apache.spark.sql.catalyst.plans.logical.LogicalPlan.transformDownWithPruning(LogicalPlan.scala:32)\r\n\tat org.apache.spark.sql.catalyst.trees.TreeNode.transformDown(TreeNode.scala:437)\r\n\tat org.apache.spark.sql.execution.QueryExecution.eagerlyExecuteCommands(QueryExecution.scala:98)\r\n\tat org.apache.spark.sql.execution.QueryExecution.commandExecuted$lzycompute(QueryExecution.scala:85)\r\n\tat org.apache.spark.sql.execution.QueryExecution.commandExecuted(QueryExecution.scala:83)\r\n\tat org.apache.spark.sql.execution.QueryExecution.assertCommandExecuted(QueryExecution.scala:142)\r\n\tat org.apache.spark.sql.DataFrameWriter.runCommand(DataFrameWriter.scala:859)\r\n\tat org.apache.spark.sql.DataFrameWriter.saveToV1Source(DataFrameWriter.scala:388)\r\n\tat org.apache.spark.sql.DataFrameWriter.saveInternal(DataFrameWriter.scala:361)\r\n\tat org.apache.spark.sql.DataFrameWriter.save(DataFrameWriter.scala:240)\r\n\tat org.apache.spark.sql.DataFrameWriter.csv(DataFrameWriter.scala:850)\r\n\tat java.base/jdk.internal.reflect.NativeMethodAccessorImpl.invoke0(Native Method)\r\n\tat java.base/jdk.internal.reflect.NativeMethodAccessorImpl.invoke(NativeMethodAccessorImpl.java:75)\r\n\tat java.base/jdk.internal.reflect.DelegatingMethodAccessorImpl.invoke(DelegatingMethodAccessorImpl.java:52)\r\n\tat java.base/java.lang.reflect.Method.invoke(Method.java:580)\r\n\tat py4j.reflection.MethodInvoker.invoke(MethodInvoker.java:244)\r\n\tat py4j.reflection.ReflectionEngine.invoke(ReflectionEngine.java:374)\r\n\tat py4j.Gateway.invoke(Gateway.java:282)\r\n\tat py4j.commands.AbstractCommand.invokeMethod(AbstractCommand.java:132)\r\n\tat py4j.commands.CallCommand.execute(CallCommand.java:79)\r\n\tat py4j.ClientServerConnection.waitForCommands(ClientServerConnection.java:182)\r\n\tat py4j.ClientServerConnection.run(ClientServerConnection.java:106)\r\n\tat java.base/java.lang.Thread.run(Thread.java:1583)\r\n",
     "output_type": "error",
     "traceback": [
      "\u001b[1;31m---------------------------------------------------------------------------\u001b[0m",
      "\u001b[1;31mPy4JJavaError\u001b[0m                             Traceback (most recent call last)",
      "\u001b[1;32md:\\UTECollege\\program\\HK7\\bdml\\project\\olist_recommend_sys\\data_cleaning.ipynb Cell 41\u001b[0m line \u001b[0;36m1\n\u001b[1;32m----> <a href='vscode-notebook-cell:/d%3A/UTECollege/program/HK7/bdml/project/olist_recommend_sys/data_cleaning.ipynb#X56sZmlsZQ%3D%3D?line=0'>1</a>\u001b[0m master_df\u001b[39m.\u001b[39;49mrepartition(\u001b[39m1\u001b[39;49m)\u001b[39m.\u001b[39;49mwrite\u001b[39m.\u001b[39;49mcsv(\u001b[39m\"\u001b[39;49m\u001b[39mD:/UTECollege/program/HK7/bdml/project/olist_recommend_sys/clean_data/master.csv\u001b[39;49m\u001b[39m\"\u001b[39;49m)\n",
      "File \u001b[1;32mc:\\Users\\nhatt\\miniconda3\\envs\\sparkml\\lib\\site-packages\\pyspark\\sql\\readwriter.py:1799\u001b[0m, in \u001b[0;36mDataFrameWriter.csv\u001b[1;34m(self, path, mode, compression, sep, quote, escape, header, nullValue, escapeQuotes, quoteAll, dateFormat, timestampFormat, ignoreLeadingWhiteSpace, ignoreTrailingWhiteSpace, charToEscapeQuoteEscaping, encoding, emptyValue, lineSep)\u001b[0m\n\u001b[0;32m   1780\u001b[0m \u001b[39mself\u001b[39m\u001b[39m.\u001b[39mmode(mode)\n\u001b[0;32m   1781\u001b[0m \u001b[39mself\u001b[39m\u001b[39m.\u001b[39m_set_opts(\n\u001b[0;32m   1782\u001b[0m     compression\u001b[39m=\u001b[39mcompression,\n\u001b[0;32m   1783\u001b[0m     sep\u001b[39m=\u001b[39msep,\n\u001b[1;32m   (...)\u001b[0m\n\u001b[0;32m   1797\u001b[0m     lineSep\u001b[39m=\u001b[39mlineSep,\n\u001b[0;32m   1798\u001b[0m )\n\u001b[1;32m-> 1799\u001b[0m \u001b[39mself\u001b[39;49m\u001b[39m.\u001b[39;49m_jwrite\u001b[39m.\u001b[39;49mcsv(path)\n",
      "File \u001b[1;32mc:\\Users\\nhatt\\miniconda3\\envs\\sparkml\\lib\\site-packages\\py4j\\java_gateway.py:1322\u001b[0m, in \u001b[0;36mJavaMember.__call__\u001b[1;34m(self, *args)\u001b[0m\n\u001b[0;32m   1316\u001b[0m command \u001b[39m=\u001b[39m proto\u001b[39m.\u001b[39mCALL_COMMAND_NAME \u001b[39m+\u001b[39m\\\n\u001b[0;32m   1317\u001b[0m     \u001b[39mself\u001b[39m\u001b[39m.\u001b[39mcommand_header \u001b[39m+\u001b[39m\\\n\u001b[0;32m   1318\u001b[0m     args_command \u001b[39m+\u001b[39m\\\n\u001b[0;32m   1319\u001b[0m     proto\u001b[39m.\u001b[39mEND_COMMAND_PART\n\u001b[0;32m   1321\u001b[0m answer \u001b[39m=\u001b[39m \u001b[39mself\u001b[39m\u001b[39m.\u001b[39mgateway_client\u001b[39m.\u001b[39msend_command(command)\n\u001b[1;32m-> 1322\u001b[0m return_value \u001b[39m=\u001b[39m get_return_value(\n\u001b[0;32m   1323\u001b[0m     answer, \u001b[39mself\u001b[39;49m\u001b[39m.\u001b[39;49mgateway_client, \u001b[39mself\u001b[39;49m\u001b[39m.\u001b[39;49mtarget_id, \u001b[39mself\u001b[39;49m\u001b[39m.\u001b[39;49mname)\n\u001b[0;32m   1325\u001b[0m \u001b[39mfor\u001b[39;00m temp_arg \u001b[39min\u001b[39;00m temp_args:\n\u001b[0;32m   1326\u001b[0m     \u001b[39mif\u001b[39;00m \u001b[39mhasattr\u001b[39m(temp_arg, \u001b[39m\"\u001b[39m\u001b[39m_detach\u001b[39m\u001b[39m\"\u001b[39m):\n",
      "File \u001b[1;32mc:\\Users\\nhatt\\miniconda3\\envs\\sparkml\\lib\\site-packages\\pyspark\\errors\\exceptions\\captured.py:169\u001b[0m, in \u001b[0;36mcapture_sql_exception.<locals>.deco\u001b[1;34m(*a, **kw)\u001b[0m\n\u001b[0;32m    167\u001b[0m \u001b[39mdef\u001b[39;00m \u001b[39mdeco\u001b[39m(\u001b[39m*\u001b[39ma: Any, \u001b[39m*\u001b[39m\u001b[39m*\u001b[39mkw: Any) \u001b[39m-\u001b[39m\u001b[39m>\u001b[39m Any:\n\u001b[0;32m    168\u001b[0m     \u001b[39mtry\u001b[39;00m:\n\u001b[1;32m--> 169\u001b[0m         \u001b[39mreturn\u001b[39;00m f(\u001b[39m*\u001b[39ma, \u001b[39m*\u001b[39m\u001b[39m*\u001b[39mkw)\n\u001b[0;32m    170\u001b[0m     \u001b[39mexcept\u001b[39;00m Py4JJavaError \u001b[39mas\u001b[39;00m e:\n\u001b[0;32m    171\u001b[0m         converted \u001b[39m=\u001b[39m convert_exception(e\u001b[39m.\u001b[39mjava_exception)\n",
      "File \u001b[1;32mc:\\Users\\nhatt\\miniconda3\\envs\\sparkml\\lib\\site-packages\\py4j\\protocol.py:326\u001b[0m, in \u001b[0;36mget_return_value\u001b[1;34m(answer, gateway_client, target_id, name)\u001b[0m\n\u001b[0;32m    324\u001b[0m value \u001b[39m=\u001b[39m OUTPUT_CONVERTER[\u001b[39mtype\u001b[39m](answer[\u001b[39m2\u001b[39m:], gateway_client)\n\u001b[0;32m    325\u001b[0m \u001b[39mif\u001b[39;00m answer[\u001b[39m1\u001b[39m] \u001b[39m==\u001b[39m REFERENCE_TYPE:\n\u001b[1;32m--> 326\u001b[0m     \u001b[39mraise\u001b[39;00m Py4JJavaError(\n\u001b[0;32m    327\u001b[0m         \u001b[39m\"\u001b[39m\u001b[39mAn error occurred while calling \u001b[39m\u001b[39m{0}\u001b[39;00m\u001b[39m{1}\u001b[39;00m\u001b[39m{2}\u001b[39;00m\u001b[39m.\u001b[39m\u001b[39m\\n\u001b[39;00m\u001b[39m\"\u001b[39m\u001b[39m.\u001b[39m\n\u001b[0;32m    328\u001b[0m         \u001b[39mformat\u001b[39m(target_id, \u001b[39m\"\u001b[39m\u001b[39m.\u001b[39m\u001b[39m\"\u001b[39m, name), value)\n\u001b[0;32m    329\u001b[0m \u001b[39melse\u001b[39;00m:\n\u001b[0;32m    330\u001b[0m     \u001b[39mraise\u001b[39;00m Py4JError(\n\u001b[0;32m    331\u001b[0m         \u001b[39m\"\u001b[39m\u001b[39mAn error occurred while calling \u001b[39m\u001b[39m{0}\u001b[39;00m\u001b[39m{1}\u001b[39;00m\u001b[39m{2}\u001b[39;00m\u001b[39m. Trace:\u001b[39m\u001b[39m\\n\u001b[39;00m\u001b[39m{3}\u001b[39;00m\u001b[39m\\n\u001b[39;00m\u001b[39m\"\u001b[39m\u001b[39m.\u001b[39m\n\u001b[0;32m    332\u001b[0m         \u001b[39mformat\u001b[39m(target_id, \u001b[39m\"\u001b[39m\u001b[39m.\u001b[39m\u001b[39m\"\u001b[39m, name, value))\n",
      "\u001b[1;31mPy4JJavaError\u001b[0m: An error occurred while calling o270.csv.\n: java.lang.UnsatisfiedLinkError: 'boolean org.apache.hadoop.io.nativeio.NativeIO$Windows.access0(java.lang.String, int)'\r\n\tat org.apache.hadoop.io.nativeio.NativeIO$Windows.access0(Native Method)\r\n\tat org.apache.hadoop.io.nativeio.NativeIO$Windows.access(NativeIO.java:793)\r\n\tat org.apache.hadoop.fs.FileUtil.canRead(FileUtil.java:1249)\r\n\tat org.apache.hadoop.fs.FileUtil.list(FileUtil.java:1454)\r\n\tat org.apache.hadoop.fs.RawLocalFileSystem.listStatus(RawLocalFileSystem.java:601)\r\n\tat org.apache.hadoop.fs.FileSystem.listStatus(FileSystem.java:1972)\r\n\tat org.apache.hadoop.fs.FileSystem.listStatus(FileSystem.java:2014)\r\n\tat org.apache.hadoop.fs.ChecksumFileSystem.listStatus(ChecksumFileSystem.java:761)\r\n\tat org.apache.hadoop.fs.FileSystem.listStatus(FileSystem.java:1972)\r\n\tat org.apache.hadoop.fs.FileSystem.listStatus(FileSystem.java:2014)\r\n\tat org.apache.hadoop.mapreduce.lib.output.FileOutputCommitter.getAllCommittedTaskPaths(FileOutputCommitter.java:334)\r\n\tat org.apache.hadoop.mapreduce.lib.output.FileOutputCommitter.commitJobInternal(FileOutputCommitter.java:404)\r\n\tat org.apache.hadoop.mapreduce.lib.output.FileOutputCommitter.commitJob(FileOutputCommitter.java:377)\r\n\tat org.apache.spark.internal.io.HadoopMapReduceCommitProtocol.commitJob(HadoopMapReduceCommitProtocol.scala:192)\r\n\tat org.apache.spark.sql.execution.datasources.FileFormatWriter$.$anonfun$writeAndCommit$3(FileFormatWriter.scala:275)\r\n\tat scala.runtime.java8.JFunction0$mcV$sp.apply(JFunction0$mcV$sp.java:23)\r\n\tat org.apache.spark.util.Utils$.timeTakenMs(Utils.scala:552)\r\n\tat org.apache.spark.sql.execution.datasources.FileFormatWriter$.writeAndCommit(FileFormatWriter.scala:275)\r\n\tat org.apache.spark.sql.execution.datasources.FileFormatWriter$.executeWrite(FileFormatWriter.scala:304)\r\n\tat org.apache.spark.sql.execution.datasources.FileFormatWriter$.write(FileFormatWriter.scala:190)\r\n\tat org.apache.spark.sql.execution.datasources.InsertIntoHadoopFsRelationCommand.run(InsertIntoHadoopFsRelationCommand.scala:190)\r\n\tat org.apache.spark.sql.execution.command.DataWritingCommandExec.sideEffectResult$lzycompute(commands.scala:113)\r\n\tat org.apache.spark.sql.execution.command.DataWritingCommandExec.sideEffectResult(commands.scala:111)\r\n\tat org.apache.spark.sql.execution.command.DataWritingCommandExec.executeCollect(commands.scala:125)\r\n\tat org.apache.spark.sql.execution.adaptive.AdaptiveSparkPlanExec.$anonfun$executeCollect$1(AdaptiveSparkPlanExec.scala:374)\r\n\tat org.apache.spark.sql.execution.adaptive.AdaptiveSparkPlanExec.withFinalPlanUpdate(AdaptiveSparkPlanExec.scala:402)\r\n\tat org.apache.spark.sql.execution.adaptive.AdaptiveSparkPlanExec.executeCollect(AdaptiveSparkPlanExec.scala:374)\r\n\tat org.apache.spark.sql.execution.QueryExecution$$anonfun$eagerlyExecuteCommands$1.$anonfun$applyOrElse$1(QueryExecution.scala:107)\r\n\tat org.apache.spark.sql.execution.SQLExecution$.$anonfun$withNewExecutionId$6(SQLExecution.scala:125)\r\n\tat org.apache.spark.sql.execution.SQLExecution$.withSQLConfPropagated(SQLExecution.scala:201)\r\n\tat org.apache.spark.sql.execution.SQLExecution$.$anonfun$withNewExecutionId$1(SQLExecution.scala:108)\r\n\tat org.apache.spark.sql.SparkSession.withActive(SparkSession.scala:900)\r\n\tat org.apache.spark.sql.execution.SQLExecution$.withNewExecutionId(SQLExecution.scala:66)\r\n\tat org.apache.spark.sql.execution.QueryExecution$$anonfun$eagerlyExecuteCommands$1.applyOrElse(QueryExecution.scala:107)\r\n\tat org.apache.spark.sql.execution.QueryExecution$$anonfun$eagerlyExecuteCommands$1.applyOrElse(QueryExecution.scala:98)\r\n\tat org.apache.spark.sql.catalyst.trees.TreeNode.$anonfun$transformDownWithPruning$1(TreeNode.scala:461)\r\n\tat org.apache.spark.sql.catalyst.trees.CurrentOrigin$.withOrigin(origin.scala:76)\r\n\tat org.apache.spark.sql.catalyst.trees.TreeNode.transformDownWithPruning(TreeNode.scala:461)\r\n\tat org.apache.spark.sql.catalyst.plans.logical.LogicalPlan.org$apache$spark$sql$catalyst$plans$logical$AnalysisHelper$$super$transformDownWithPruning(LogicalPlan.scala:32)\r\n\tat org.apache.spark.sql.catalyst.plans.logical.AnalysisHelper.transformDownWithPruning(AnalysisHelper.scala:267)\r\n\tat org.apache.spark.sql.catalyst.plans.logical.AnalysisHelper.transformDownWithPruning$(AnalysisHelper.scala:263)\r\n\tat org.apache.spark.sql.catalyst.plans.logical.LogicalPlan.transformDownWithPruning(LogicalPlan.scala:32)\r\n\tat org.apache.spark.sql.catalyst.plans.logical.LogicalPlan.transformDownWithPruning(LogicalPlan.scala:32)\r\n\tat org.apache.spark.sql.catalyst.trees.TreeNode.transformDown(TreeNode.scala:437)\r\n\tat org.apache.spark.sql.execution.QueryExecution.eagerlyExecuteCommands(QueryExecution.scala:98)\r\n\tat org.apache.spark.sql.execution.QueryExecution.commandExecuted$lzycompute(QueryExecution.scala:85)\r\n\tat org.apache.spark.sql.execution.QueryExecution.commandExecuted(QueryExecution.scala:83)\r\n\tat org.apache.spark.sql.execution.QueryExecution.assertCommandExecuted(QueryExecution.scala:142)\r\n\tat org.apache.spark.sql.DataFrameWriter.runCommand(DataFrameWriter.scala:859)\r\n\tat org.apache.spark.sql.DataFrameWriter.saveToV1Source(DataFrameWriter.scala:388)\r\n\tat org.apache.spark.sql.DataFrameWriter.saveInternal(DataFrameWriter.scala:361)\r\n\tat org.apache.spark.sql.DataFrameWriter.save(DataFrameWriter.scala:240)\r\n\tat org.apache.spark.sql.DataFrameWriter.csv(DataFrameWriter.scala:850)\r\n\tat java.base/jdk.internal.reflect.NativeMethodAccessorImpl.invoke0(Native Method)\r\n\tat java.base/jdk.internal.reflect.NativeMethodAccessorImpl.invoke(NativeMethodAccessorImpl.java:75)\r\n\tat java.base/jdk.internal.reflect.DelegatingMethodAccessorImpl.invoke(DelegatingMethodAccessorImpl.java:52)\r\n\tat java.base/java.lang.reflect.Method.invoke(Method.java:580)\r\n\tat py4j.reflection.MethodInvoker.invoke(MethodInvoker.java:244)\r\n\tat py4j.reflection.ReflectionEngine.invoke(ReflectionEngine.java:374)\r\n\tat py4j.Gateway.invoke(Gateway.java:282)\r\n\tat py4j.commands.AbstractCommand.invokeMethod(AbstractCommand.java:132)\r\n\tat py4j.commands.CallCommand.execute(CallCommand.java:79)\r\n\tat py4j.ClientServerConnection.waitForCommands(ClientServerConnection.java:182)\r\n\tat py4j.ClientServerConnection.run(ClientServerConnection.java:106)\r\n\tat java.base/java.lang.Thread.run(Thread.java:1583)\r\n"
     ]
    }
   ],
   "source": [
    "master_df.repartition(1).write.csv(\"D:/UTECollege/program/HK7/bdml/project/olist_recommend_sys/clean_data/master.csv\")"
   ]
  },
  {
   "cell_type": "code",
   "execution_count": 44,
   "metadata": {},
   "outputs": [
    {
     "name": "stdout",
     "output_type": "stream",
     "text": [
      "+--------------------+--------------------+--------------------+------------+------------------------+-------------------+----------------------------+-----------------------------+-----------------------------+-------------+--------------------+-------------------+-----+-------------+--------------------+------------+--------------------+----------------------+--------------------+-----------------------+--------------------+------------------------+--------------------+--------------+-------------------+--------------------------+------------------+----------------+-----------------+-----------------+----------------+---------------------+\n",
      "|          product_id|         customer_id|            order_id|order_status|order_purchase_timestamp|  order_approved_at|order_delivered_carrier_date|order_delivered_customer_date|order_estimated_delivery_date|order_item_id|           seller_id|shipping_limit_date|price|freight_value|           review_id|review_score|review_comment_title|review_comment_message|review_creation_date|review_answer_timestamp|  customer_unique_id|customer_zip_code_prefix|       customer_city|customer_state|product_name_lenght|product_description_lenght|product_photos_qty|product_weight_g|product_length_cm|product_height_cm|product_width_cm|product_category_name|\n",
      "+--------------------+--------------------+--------------------+------------+------------------------+-------------------+----------------------------+-----------------------------+-----------------------------+-------------+--------------------+-------------------+-----+-------------+--------------------+------------+--------------------+----------------------+--------------------+-----------------------+--------------------+------------------------+--------------------+--------------+-------------------+--------------------------+------------------+----------------+-----------------+-----------------+----------------+---------------------+\n",
      "|e5f2d52b802189ee6...|f6dd3ec061db4e398...|00018f77f2f0320c5...|   delivered|     2017-04-26 10:53:06|2017-04-26 11:05:13|         2017-05-04 14:35:00|          2017-05-12 16:04:24|          2017-05-15 00:00:00|            1|dd7ddc04e1b6c2c61...|2017-05-03 11:05:13|239.9|        19.93|7b07bacd811c4117b...|           4|            no title|      no comment given| 2017-05-13 00:00:00|    2017-05-15 11:34:13|eb28e67c4c0b83846...|                   15775|     santa fe do sul|            SP|                 56|                       239|                 2|           30000|               50|               30|              40|             pet_shop|\n",
      "|8d4f2bb7e93e6710a...|32e2e6ab09e778d99...|00054e8431b9d7675...|   delivered|     2017-12-10 11:53:48|2017-12-10 12:10:31|         2017-12-12 01:07:48|          2017-12-18 22:03:38|          2018-01-04 00:00:00|            1|7040e82f899a04d1b...|2017-12-14 12:10:31| 19.9|        11.85|0381de7572d99d752...|           4|            no title|      no comment given| 2017-12-19 00:00:00|    2017-12-29 02:40:12|635d9ac1680f03288...|                   16700|          guararapes|            SP|                 52|                       815|                 1|             200|               27|                5|              20|            telephony|\n",
      "|4fa33915031a8cde0...|fff5169e583fd07fa...|000aed2e25dbad2f9...|   delivered|     2018-05-11 20:33:38|2018-05-11 20:57:03|         2018-05-16 14:26:00|          2018-05-18 16:46:31|          2018-05-22 00:00:00|            1|fe2032dab1a61af87...|2018-05-16 20:57:03|144.0|         8.77|00800678dcf28b0ea...|           1|produto não entregue|  Mudo minha opiniã...| 2018-05-19 00:00:00|    2018-05-22 10:52:24|6457be0b331148fb5...|                   13458|santa barbara d'o...|            SP|                 43|                       116|                 1|             468|               23|               18|              19|            perfumery|\n",
      "|08279c494018541f7...|d356c20816dc75a30...|0032d07457ae9c806...|   delivered|     2018-03-10 18:53:06|2018-03-10 19:48:19|         2018-03-13 17:16:42|          2018-04-29 21:08:59|          2018-04-17 00:00:00|            1|e333046ce6517bd8b...|2018-03-15 19:28:51|159.0|        27.19|34592a91e941932fc...|           1|            no title|      no comment given| 2018-04-19 00:00:00|    2018-04-19 10:53:08|98e71752819916789...|                   22611|      rio de janeiro|            RJ|                 48|                       688|                 2|            3150|               43|               27|              27|           housewares|\n",
      "|9545d45c37449ccbc...|eb729faa993caad20...|0045e3085f083f0f3...|   delivered|     2017-08-10 16:13:36|2017-08-11 07:15:16|         2017-08-16 18:27:40|          2017-08-29 20:03:08|          2017-08-30 00:00:00|            1|431af27f296bc6519...|2017-08-17 07:15:16|116.9|        13.84|27abf489a0e46ad7d...|           5|            no title|      no comment given| 2017-08-30 00:00:00|    2017-09-02 06:07:39|5eb8cc30e45a67bdb...|                   12212| sao jose dos campos|            SP|                 39|                      1749|                 1|            1350|               27|                9|              18|        health_beauty|\n",
      "|19421075ae0b585f2...|137f50d5bfbcfb957...|0079bca8e89bd52fd...|   delivered|     2018-05-03 18:55:20|2018-05-05 03:33:43|         2018-05-07 11:10:00|          2018-05-08 20:58:26|          2018-05-18 00:00:00|            1|4c2b230173bb36f9b...|2018-05-10 03:31:09| 49.9|         7.39|8310a5e3eba617e70...|           5|            no title|  Segunda compra co...| 2018-05-09 00:00:00|    2018-05-10 01:13:03|9bc0afc85b2f40c79...|                    5087|           sao paulo|            SP|                 32|                      1797|                 1|             150|               16|               16|              11|       sports_leisure|\n",
      "|e819fddd6622f30e8...|fc021f2dd664b4945...|007ff0b0f79be782f...|   delivered|     2018-02-03 17:46:53|2018-02-03 20:10:10|         2018-02-06 18:28:37|          2018-02-14 20:27:04|          2018-03-02 00:00:00|            1|7139dc5186aa238b0...|2018-02-08 20:10:10| 39.0|        16.11|8b2fd2ae7be232418...|           5|            no title|                   10!| 2018-02-15 00:00:00|    2018-02-17 16:15:25|cbb7fc5fc1e854d9e...|                   30220|      belo horizonte|            MG|                 60|                       772|                 1|             650|               16|               15|              13|      furniture_decor|\n",
      "|7583d9a579408cb84...|3c138c472fb6f243e...|008dd5e80ebf8f849...|   delivered|     2018-03-20 20:31:23|2018-03-22 02:56:19|         2018-03-22 23:48:27|          2018-03-23 18:04:16|          2018-04-02 00:00:00|            1|7ad32824caee82087...|2018-03-28 02:56:19|199.0|         8.74|6eb22fdbb42ecce1a...|           1|            no title|  Me entregaram um ...| 2018-03-24 00:00:00|    2018-03-26 22:06:36|4125ca92d09b7d7a7...|                   17053|               bauru|            SP|                 59|                       279|                 1|            5650|               40|               15|              23|       bed_bath_table|\n",
      "|d64e758afad411049...|de0c1a4d8c367c58d...|0094bd07f49fed902...|   delivered|     2018-05-01 02:04:16|2018-05-03 04:12:53|         2018-05-10 19:19:00|          2018-05-16 21:12:15|          2018-05-14 00:00:00|            1|5670f4db5b62c43d5...|2018-05-09 04:12:53|11.53|         7.39|fa2ea06b0117bc546...|           1|Não recebi o produto|  Comprei o rímel t...| 2018-05-17 00:00:00|    2018-05-20 09:53:10|67339b5ed21a26219...|                   11725|        praia grande|            SP|                 23|                       193|                 1|             100|               16|               11|              11|            perfumery|\n",
      "|eaa26a34984cbfedc...|3c52d94017a3d9691...|00975e709cd12c34d...|   delivered|     2017-08-21 12:54:37|2017-08-21 13:05:16|         2017-08-21 19:07:09|          2017-08-23 23:04:17|          2017-09-06 00:00:00|            1|18a349e75d307f4b4...|2017-08-30 13:05:16| 86.8|         7.86|561e2666963db41f0...|           5|            no title|             Tudo ok\\n| 2017-08-24 00:00:00|    2017-08-25 18:02:11|ebcca806966fdf431...|                   13344|          indaiatuba|            SP|                 49|                       214|                 2|             422|               18|               12|              15|           cool_stuff|\n",
      "|f3b8bfa5b86249e75...|266636baec3cfa8d8...|00995d799817ecc3b...|   delivered|     2018-07-26 11:25:18|2018-07-26 11:45:13|         2018-08-01 14:05:00|          2018-08-02 18:56:52|          2018-08-08 00:00:00|            1|620c87c171fb2a6dd...|2018-08-01 11:45:13| 49.9|        12.92|aee1f5bdfc0f44fd5...|           1|      Produto errado|  Pedi um produto e...| 2018-08-03 00:00:00|    2018-08-08 16:44:44|f507945d757fe904e...|                   24452|         sao goncalo|            RJ|                 42|                       614|                 1|            2550|               20|               20|              30|        health_beauty|\n",
      "|56cdfe67fbda57c1d...|33653a722db1d2f6b...|00a57dfbb049fbaae...|   delivered|     2018-07-20 11:09:30|2018-07-21 03:25:11|         2018-07-23 13:19:00|          2018-07-30 19:25:47|          2018-08-13 00:00:00|            1|1c68394e931a64f90...|2018-07-26 03:25:11| 89.9|        22.56|dbf71f79f088d589c...|           5|            no title|      no comment given| 2018-07-31 00:00:00|    2018-08-03 11:41:30|01689985c22786e41...|                   79002|        campo grande|            MS|                 60|                       511|                 1|             517|               22|               11|              13| computers_accesso...|\n",
      "|56cdfe67fbda57c1d...|33653a722db1d2f6b...|00a57dfbb049fbaae...|   delivered|     2018-07-20 11:09:30|2018-07-21 03:25:11|         2018-07-23 13:19:00|          2018-07-30 19:25:47|          2018-08-13 00:00:00|            2|1c68394e931a64f90...|2018-07-26 03:25:11| 89.9|        22.56|dbf71f79f088d589c...|           5|            no title|      no comment given| 2018-07-31 00:00:00|    2018-08-03 11:41:30|01689985c22786e41...|                   79002|        campo grande|            MS|                 60|                       511|                 1|             517|               22|               11|              13| computers_accesso...|\n",
      "|56cdfe67fbda57c1d...|33653a722db1d2f6b...|00a57dfbb049fbaae...|   delivered|     2018-07-20 11:09:30|2018-07-21 03:25:11|         2018-07-23 13:19:00|          2018-07-30 19:25:47|          2018-08-13 00:00:00|            3|1c68394e931a64f90...|2018-07-26 03:25:11| 89.9|        22.56|dbf71f79f088d589c...|           5|            no title|      no comment given| 2018-07-31 00:00:00|    2018-08-03 11:41:30|01689985c22786e41...|                   79002|        campo grande|            MS|                 60|                       511|                 1|             517|               22|               11|              13| computers_accesso...|\n",
      "|c6336fa91fbd87c35...|c87e0e6aa4b3321ad...|00ab210695a17fe10...|   delivered|     2018-06-12 06:19:27|2018-06-12 06:35:05|         2018-06-18 11:01:00|          2018-06-19 22:12:23|          2018-06-26 00:00:00|            1|4c2b230173bb36f9b...|2018-06-18 06:30:53| 39.0|         7.53|f57ff1aec07193a06...|           4|            Boa loja|                  Bom | 2018-06-20 00:00:00|    2018-06-21 11:22:52|0697142614905a508...|                   11425|             guaruja|            SP|                 39|                       772|                 1|             150|               16|               16|              11|       sports_leisure|\n",
      "|eb883e95b710f252c...|5d6daccfa147ddbc4...|00b12f4674177ef40...|   delivered|     2018-07-15 19:47:30|2018-07-15 20:04:06|         2018-07-16 14:23:00|          2018-07-20 22:03:24|          2018-08-02 00:00:00|            1|1025f0e2d44d7041d...|2018-07-20 20:04:06|105.0|        17.87|19910e37f2130c56f...|           5|Ótimo custo x ben...|  Produto chegou de...| 2018-07-21 00:00:00|    2018-07-24 13:29:35|aa584bf61054b3967...|                   12515|       guaratingueta|            SP|                 54|                       908|                 1|            3000|               30|               30|              30| signaling_and_sec...|\n",
      "|5d90b82ad1fdff812...|282ab86c49646e5a1...|00b9e0f8f588d0406...|   delivered|     2018-01-22 11:18:35|2018-01-23 03:37:44|         2018-01-26 17:54:44|          2018-02-16 18:23:19|          2018-02-14 00:00:00|            1|1c129092bf23f28a5...|2018-01-29 03:37:44| 39.9|         16.6|eb6d75bedecae7b3d...|           5|            no title|    Excelente produto.| 2018-02-17 00:00:00|    2018-02-19 16:20:08|680b9de0221bb1b59...|                   22793|      rio de janeiro|            RJ|                 52|                       408|                 1|            1400|               20|               20|              20|       bed_bath_table|\n",
      "|e70f7c188cd2c0f01...|1e47b918581b562a9...|00bd50cdd31bd22e9...|   delivered|     2018-01-14 22:31:54|2018-01-15 09:56:33|         2018-01-15 19:43:56|          2018-01-22 16:03:40|          2018-01-30 00:00:00|            1|6560211a19b47992c...|2018-01-19 09:56:33| 78.0|          7.8|ba1095d3d8706d4f7...|           4|            no title|      no comment given| 2018-01-23 00:00:00|    2018-01-23 19:09:17|71a5182c33ade63d4...|                   13045|            campinas|            SP|                 56|                       742|                 3|             250|               16|                2|              11|        watches_gifts|\n",
      "|e62d582ddb7630168...|7ccd57bc5c4e0f34f...|00c47cfa491ef5577...|   delivered|     2018-07-23 11:36:26|2018-07-23 14:30:58|         2018-07-23 16:06:00|          2018-07-25 14:41:26|          2018-08-06 00:00:00|            1|1c56ffe0e9dea2657...|2018-07-27 13:31:22| 59.0|        13.07|b86bf1c2834fc2d3a...|           5|                 Bom|      no comment given| 2018-08-01 00:00:00|    2018-08-02 13:07:42|71d5e9bcbe05f2adf...|                   13290|            louveira|            SP|                 52|                       977|                 1|             450|               32|               12|              17|            perfumery|\n",
      "|c072e7b87c8413341...|cd46bd8781c25750e...|00c826c901ab01b6f...|   delivered|     2018-04-20 10:24:13|2018-04-20 10:35:25|         2018-04-24 15:55:40|          2018-05-02 16:28:42|          2018-05-18 00:00:00|            1|3d871de0142ce09b7...|2018-05-02 10:35:25| 79.0|        13.91|dac5e910d571f7e01...|           5|            no title|      no comment given| 2018-05-03 00:00:00|    2018-05-03 20:16:59|b9b70004b9682db7a...|                    5778|           sao paulo|            SP|                 49|                       151|                 4|            7900|               35|               55|              25|           stationery|\n",
      "+--------------------+--------------------+--------------------+------------+------------------------+-------------------+----------------------------+-----------------------------+-----------------------------+-------------+--------------------+-------------------+-----+-------------+--------------------+------------+--------------------+----------------------+--------------------+-----------------------+--------------------+------------------------+--------------------+--------------+-------------------+--------------------------+------------------+----------------+-----------------+-----------------+----------------+---------------------+\n",
      "only showing top 20 rows\n",
      "\n"
     ]
    }
   ],
   "source": [
    "master_df.show()"
   ]
  }
 ],
 "metadata": {
  "kernelspec": {
   "display_name": "sparkml",
   "language": "python",
   "name": "python3"
  },
  "language_info": {
   "codemirror_mode": {
    "name": "ipython",
    "version": 3
   },
   "file_extension": ".py",
   "mimetype": "text/x-python",
   "name": "python",
   "nbconvert_exporter": "python",
   "pygments_lexer": "ipython3",
   "version": "3.10.13"
  }
 },
 "nbformat": 4,
 "nbformat_minor": 2
}
